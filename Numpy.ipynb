{
 "cells": [
  {
   "cell_type": "markdown",
   "id": "df6442ca",
   "metadata": {},
   "source": [
    "# <center><div class='alert alert-success'> GeeksforGeeks </div></center>"
   ]
  },
  {
   "cell_type": "markdown",
   "id": "59779887",
   "metadata": {},
   "source": [
    "# <font color='green'> Numpy</font>"
   ]
  },
  {
   "cell_type": "markdown",
   "id": "3c7e3dc5",
   "metadata": {},
   "source": [
    "## `Table of Contents`\n",
    "\n",
    "<div class='alert alert-success'>\n",
    "\n",
    "\n",
    "**1. Converting a List to an array<br>\n",
    "2. Arange Function<br>\n",
    "3. Multidimensional Array<br>\n",
    "4. Size Function<br>\n",
    "5. Shape Function<br>\n",
    "    6. Dtype Function<br>\n",
    "    7. Ndim Function<br>\n",
    "    8. Zeros and Ones Function<br>\n",
    "    9. Eye Function<br>\n",
    "    10. Empty Function<br>\n",
    "    11. Random Functions:<br>\n",
    "    -----a) np.random.rand<br>\n",
    "    -----b) np.random.randint<br>\n",
    "    -----c) np.random.randn<br>\n",
    "    12. Reshape function<br>\n",
    "    13. Linspace Function<br>\n",
    "    14. Flatten Function<br>\n",
    "    15. Logspace Function<br>\n",
    "    16. Copy Function<br>\n",
    "    17. arr.max() ,  arr.min() ,     arr.sum() functions<br>\n",
    "    18. Seed function<br>\n",
    "    19. Sorting in numpy array<br>\n",
    "    20. Mathematical Operation in Numpy<br>\n",
    "    -----a) Addition<br>\n",
    "    -----b) Substraction<br>\n",
    "    -----c) Multiplication<br>\n",
    "    -----d) Division<br>\n",
    "    -----e) Matrix Multiplication<br>\n",
    "    -----f) Power<br>\n",
    "    21. Percentile Function<br>\n",
    "    22. Mean, Variance and Standard Deviation<br>\n",
    "    23. Filtering an numpy array<br>\n",
    "    24. Transposing an array<br>\n",
    "    25. Where function<br>\n",
    "    26. Turning Pictures into numpy arrays** \n",
    "</div>"
   ]
  },
  {
   "cell_type": "code",
   "execution_count": null,
   "id": "57a8b7a5",
   "metadata": {},
   "outputs": [],
   "source": []
  },
  {
   "cell_type": "code",
   "execution_count": null,
   "id": "92512e77",
   "metadata": {},
   "outputs": [],
   "source": []
  },
  {
   "cell_type": "code",
   "execution_count": 1,
   "id": "0024a36a",
   "metadata": {},
   "outputs": [],
   "source": [
    "import numpy as np"
   ]
  },
  {
   "cell_type": "code",
   "execution_count": null,
   "id": "310136f1",
   "metadata": {},
   "outputs": [],
   "source": []
  },
  {
   "cell_type": "markdown",
   "id": "5d51f0ab",
   "metadata": {},
   "source": [
    "## `1. Coverting a List to Array`"
   ]
  },
  {
   "cell_type": "code",
   "execution_count": 2,
   "id": "2abb07ad",
   "metadata": {},
   "outputs": [],
   "source": [
    "l=[34,56,78,100]"
   ]
  },
  {
   "cell_type": "code",
   "execution_count": 3,
   "id": "fcd59102",
   "metadata": {},
   "outputs": [
    {
     "data": {
      "text/plain": [
       "array([ 34,  56,  78, 100])"
      ]
     },
     "execution_count": 3,
     "metadata": {},
     "output_type": "execute_result"
    }
   ],
   "source": [
    "a=np.array(l)\n",
    "a"
   ]
  },
  {
   "cell_type": "code",
   "execution_count": 4,
   "id": "6e266ec1",
   "metadata": {},
   "outputs": [
    {
     "data": {
      "text/plain": [
       "numpy.ndarray"
      ]
     },
     "execution_count": 4,
     "metadata": {},
     "output_type": "execute_result"
    }
   ],
   "source": [
    "type(a)"
   ]
  },
  {
   "cell_type": "code",
   "execution_count": 5,
   "id": "7e13d7bf",
   "metadata": {},
   "outputs": [
    {
     "data": {
      "text/plain": [
       "array([[ 34,  56,  78, 100]])"
      ]
     },
     "execution_count": 5,
     "metadata": {},
     "output_type": "execute_result"
    }
   ],
   "source": [
    "np.array(l,ndmin=2)"
   ]
  },
  {
   "cell_type": "code",
   "execution_count": 6,
   "id": "1f678fe4",
   "metadata": {},
   "outputs": [
    {
     "data": {
      "text/plain": [
       "array([[[[ 34,  56,  78, 100]]]])"
      ]
     },
     "execution_count": 6,
     "metadata": {},
     "output_type": "execute_result"
    }
   ],
   "source": [
    "np.array(l,ndmin=4)"
   ]
  },
  {
   "cell_type": "code",
   "execution_count": null,
   "id": "117d6146",
   "metadata": {},
   "outputs": [],
   "source": []
  },
  {
   "cell_type": "markdown",
   "id": "ad6496dc",
   "metadata": {},
   "source": [
    "## `2. Arrange function`"
   ]
  },
  {
   "cell_type": "markdown",
   "id": "3594876d",
   "metadata": {},
   "source": [
    "The arange([start,] stop[, step,][, dtype]) : Returns an array with evenly spaced elements as per the interval. The interval mentioned is half-opened i.e. [Start, Stop) "
   ]
  },
  {
   "cell_type": "code",
   "execution_count": 7,
   "id": "7b074038",
   "metadata": {},
   "outputs": [
    {
     "data": {
      "text/plain": [
       "array([1, 2, 3, 4, 5, 6, 7, 8, 9])"
      ]
     },
     "execution_count": 7,
     "metadata": {},
     "output_type": "execute_result"
    }
   ],
   "source": [
    "a=np.arange(1,10)\n",
    "a"
   ]
  },
  {
   "cell_type": "code",
   "execution_count": null,
   "id": "dcd25b1e",
   "metadata": {},
   "outputs": [],
   "source": []
  },
  {
   "cell_type": "markdown",
   "id": "81614dcd",
   "metadata": {},
   "source": [
    "## `3. Multidimensional Array`"
   ]
  },
  {
   "cell_type": "code",
   "execution_count": 8,
   "id": "4e034489",
   "metadata": {},
   "outputs": [
    {
     "data": {
      "text/plain": [
       "array([[ 1,  2,  3],\n",
       "       [ 4,  5,  6],\n",
       "       [64, 34, 65]])"
      ]
     },
     "execution_count": 8,
     "metadata": {},
     "output_type": "execute_result"
    }
   ],
   "source": [
    "a=np.array([[1,2,3],[4,5,6],[64,34,65]])\n",
    "a"
   ]
  },
  {
   "cell_type": "code",
   "execution_count": null,
   "id": "2206a8ef",
   "metadata": {},
   "outputs": [],
   "source": []
  },
  {
   "cell_type": "code",
   "execution_count": null,
   "id": "8b75b2be",
   "metadata": {},
   "outputs": [],
   "source": []
  },
  {
   "cell_type": "markdown",
   "id": "370b327d",
   "metadata": {},
   "source": [
    "## `4. Size Function`"
   ]
  },
  {
   "cell_type": "markdown",
   "id": "b681819e",
   "metadata": {},
   "source": [
    "In Python, numpy.size() function count the number of elements along a given axis"
   ]
  },
  {
   "cell_type": "code",
   "execution_count": 9,
   "id": "2ea2c21f",
   "metadata": {},
   "outputs": [
    {
     "data": {
      "text/plain": [
       "4"
      ]
     },
     "execution_count": 9,
     "metadata": {},
     "output_type": "execute_result"
    }
   ],
   "source": [
    "a=np.arange(1,5)\n",
    "a.size"
   ]
  },
  {
   "cell_type": "code",
   "execution_count": 10,
   "id": "44b8862a",
   "metadata": {},
   "outputs": [
    {
     "data": {
      "text/plain": [
       "12"
      ]
     },
     "execution_count": 10,
     "metadata": {},
     "output_type": "execute_result"
    }
   ],
   "source": [
    "a=np.array([[1,2,3],[4,5,6],[64,34,65],[43,67,199]])\n",
    "a.size"
   ]
  },
  {
   "cell_type": "code",
   "execution_count": null,
   "id": "f927c08a",
   "metadata": {},
   "outputs": [],
   "source": []
  },
  {
   "cell_type": "code",
   "execution_count": 11,
   "id": "23b94065",
   "metadata": {},
   "outputs": [
    {
     "data": {
      "text/plain": [
       "4"
      ]
     },
     "execution_count": 11,
     "metadata": {},
     "output_type": "execute_result"
    }
   ],
   "source": [
    "#Rows\n",
    "np.size(a,0)"
   ]
  },
  {
   "cell_type": "code",
   "execution_count": 12,
   "id": "33451f6b",
   "metadata": {},
   "outputs": [],
   "source": [
    "#Columns"
   ]
  },
  {
   "cell_type": "code",
   "execution_count": 13,
   "id": "87675f36",
   "metadata": {},
   "outputs": [
    {
     "data": {
      "text/plain": [
       "3"
      ]
     },
     "execution_count": 13,
     "metadata": {},
     "output_type": "execute_result"
    }
   ],
   "source": [
    "np.size(a,1)"
   ]
  },
  {
   "cell_type": "code",
   "execution_count": null,
   "id": "ff1ea748",
   "metadata": {},
   "outputs": [],
   "source": []
  },
  {
   "cell_type": "code",
   "execution_count": null,
   "id": "70cce715",
   "metadata": {},
   "outputs": [],
   "source": []
  },
  {
   "cell_type": "markdown",
   "id": "65b131ea",
   "metadata": {},
   "source": [
    "## `5. Shape Function`"
   ]
  },
  {
   "cell_type": "markdown",
   "id": "5011bb12",
   "metadata": {},
   "source": [
    "The shape of an array can be defined as the number of elements in each dimension. Dimension is the number of indices or subscripts, that we require in order to specify an individual element of an array."
   ]
  },
  {
   "cell_type": "code",
   "execution_count": 14,
   "id": "98b41310",
   "metadata": {},
   "outputs": [
    {
     "name": "stdout",
     "output_type": "stream",
     "text": [
      "[[  1   2   3]\n",
      " [  4   5   6]\n",
      " [ 64  34  65]\n",
      " [ 43  67 199]]\n"
     ]
    }
   ],
   "source": [
    "a=np.array([[1,2,3],[4,5,6],[64,34,65],[43,67,199]])\n",
    "print(a)"
   ]
  },
  {
   "cell_type": "code",
   "execution_count": 15,
   "id": "98e4ef5c",
   "metadata": {},
   "outputs": [
    {
     "data": {
      "text/plain": [
       "(4, 3)"
      ]
     },
     "execution_count": 15,
     "metadata": {},
     "output_type": "execute_result"
    }
   ],
   "source": [
    "a.shape"
   ]
  },
  {
   "cell_type": "markdown",
   "id": "dc6d722f",
   "metadata": {},
   "source": [
    "4 rows and 3 columns"
   ]
  },
  {
   "cell_type": "code",
   "execution_count": null,
   "id": "ebb42d0e",
   "metadata": {},
   "outputs": [],
   "source": []
  },
  {
   "cell_type": "code",
   "execution_count": null,
   "id": "9c1435c4",
   "metadata": {},
   "outputs": [],
   "source": []
  },
  {
   "cell_type": "markdown",
   "id": "c183ee8b",
   "metadata": {},
   "source": [
    "##  `6. Dtype Function`"
   ]
  },
  {
   "cell_type": "markdown",
   "id": "a1b8e47d",
   "metadata": {},
   "source": [
    "Every ndarray has an associated data type (dtype) object. This data type object (dtype) informs us about the layout of the array. This means it gives us information about: \n",
    "\n",
    "- Type of the data (integer, float, Python object, etc.)\n",
    "- Size of the data (number of bytes)\n",
    "- The byte order of the data (little-endian or big-endian)\n",
    "- If the data type is a sub-array, what is its shape and data type?\n"
   ]
  },
  {
   "cell_type": "code",
   "execution_count": 16,
   "id": "68f1564f",
   "metadata": {},
   "outputs": [
    {
     "name": "stdout",
     "output_type": "stream",
     "text": [
      "int64\n",
      "<U16\n",
      "<U21\n"
     ]
    }
   ],
   "source": [
    "a=np.array([34,65,7,887])\n",
    "b=np.array(['eshant','data science','machine learning'])\n",
    "c=np.array([(2,35,'hello'),(23,76,'bye')])\n",
    "print(a.dtype)\n",
    "print(b.dtype)\n",
    "print(c.dtype)"
   ]
  },
  {
   "cell_type": "code",
   "execution_count": null,
   "id": "8b893842",
   "metadata": {},
   "outputs": [],
   "source": []
  },
  {
   "cell_type": "code",
   "execution_count": null,
   "id": "1d00f166",
   "metadata": {},
   "outputs": [],
   "source": []
  },
  {
   "cell_type": "markdown",
   "id": "36f7d098",
   "metadata": {},
   "source": [
    "##  `7. Ndim Function`"
   ]
  },
  {
   "cell_type": "markdown",
   "id": "78a6c861",
   "metadata": {},
   "source": [
    "numpy.ndarray.ndim() function return the number of dimensions of an array.\n"
   ]
  },
  {
   "cell_type": "code",
   "execution_count": 17,
   "id": "cfce510b",
   "metadata": {},
   "outputs": [],
   "source": [
    "a=np.array([34,65,7,887])\n",
    "c=np.array([(2,35,'hello'),(23,76,'bye')])"
   ]
  },
  {
   "cell_type": "code",
   "execution_count": 18,
   "id": "8d30900b",
   "metadata": {},
   "outputs": [
    {
     "name": "stdout",
     "output_type": "stream",
     "text": [
      "1\n",
      "2\n"
     ]
    }
   ],
   "source": [
    "print(a.ndim)\n",
    "print(c.ndim)"
   ]
  },
  {
   "cell_type": "code",
   "execution_count": null,
   "id": "22de74fb",
   "metadata": {},
   "outputs": [],
   "source": []
  },
  {
   "cell_type": "code",
   "execution_count": 19,
   "id": "041effc8",
   "metadata": {},
   "outputs": [
    {
     "name": "stdout",
     "output_type": "stream",
     "text": [
      "4\n"
     ]
    }
   ],
   "source": [
    "b=np.array(l,ndmin=4)\n",
    "print(b.ndim)"
   ]
  },
  {
   "cell_type": "code",
   "execution_count": null,
   "id": "50a4993c",
   "metadata": {},
   "outputs": [],
   "source": []
  },
  {
   "cell_type": "markdown",
   "id": "3d6147c8",
   "metadata": {},
   "source": [
    "##  `8. Zeros  Function`"
   ]
  },
  {
   "cell_type": "markdown",
   "id": "2fcec0c2",
   "metadata": {},
   "source": [
    "The numpy.zeros() function returns a new array of given shape and type, with zeros. Syntax:<br>\n",
    "\n",
    "numpy.zeros(shape, dtype = None)\n"
   ]
  },
  {
   "cell_type": "code",
   "execution_count": 20,
   "id": "08be6d4e",
   "metadata": {},
   "outputs": [
    {
     "data": {
      "text/plain": [
       "array([[0., 0., 0., 0.],\n",
       "       [0., 0., 0., 0.],\n",
       "       [0., 0., 0., 0.]])"
      ]
     },
     "execution_count": 20,
     "metadata": {},
     "output_type": "execute_result"
    }
   ],
   "source": [
    "np.zeros((3,4))"
   ]
  },
  {
   "cell_type": "code",
   "execution_count": 21,
   "id": "c7ab9d4d",
   "metadata": {},
   "outputs": [
    {
     "data": {
      "text/plain": [
       "array([[0, 0, 0, 0],\n",
       "       [0, 0, 0, 0],\n",
       "       [0, 0, 0, 0]])"
      ]
     },
     "execution_count": 21,
     "metadata": {},
     "output_type": "execute_result"
    }
   ],
   "source": [
    "np.zeros((3,4),dtype='int64')"
   ]
  },
  {
   "cell_type": "code",
   "execution_count": null,
   "id": "85fc1222",
   "metadata": {},
   "outputs": [],
   "source": []
  },
  {
   "cell_type": "code",
   "execution_count": null,
   "id": "26f394f1",
   "metadata": {},
   "outputs": [],
   "source": []
  },
  {
   "cell_type": "markdown",
   "id": "bb51921e",
   "metadata": {},
   "source": [
    "##  `Ones  Function`"
   ]
  },
  {
   "cell_type": "markdown",
   "id": "0b0ae221",
   "metadata": {},
   "source": [
    "The numpy.ones() function returns a new array of given shape and type, with ones.\n",
    " \n",
    "\n",
    "Syntax: numpy.ones(shape, dtype = None)"
   ]
  },
  {
   "cell_type": "code",
   "execution_count": 22,
   "id": "a7e4bf88",
   "metadata": {},
   "outputs": [
    {
     "data": {
      "text/plain": [
       "array([[1., 1., 1.],\n",
       "       [1., 1., 1.],\n",
       "       [1., 1., 1.]])"
      ]
     },
     "execution_count": 22,
     "metadata": {},
     "output_type": "execute_result"
    }
   ],
   "source": [
    "np.ones((3,3))"
   ]
  },
  {
   "cell_type": "code",
   "execution_count": 23,
   "id": "6c6d432c",
   "metadata": {},
   "outputs": [
    {
     "data": {
      "text/plain": [
       "array([[1, 1, 1],\n",
       "       [1, 1, 1],\n",
       "       [1, 1, 1]], dtype=int32)"
      ]
     },
     "execution_count": 23,
     "metadata": {},
     "output_type": "execute_result"
    }
   ],
   "source": [
    "np.ones((3,3),dtype='int32')"
   ]
  },
  {
   "cell_type": "code",
   "execution_count": null,
   "id": "dd572d93",
   "metadata": {},
   "outputs": [],
   "source": []
  },
  {
   "cell_type": "code",
   "execution_count": null,
   "id": "80c49c96",
   "metadata": {},
   "outputs": [],
   "source": []
  },
  {
   "cell_type": "markdown",
   "id": "b1de9f2c",
   "metadata": {},
   "source": [
    "##  `9. Eye  Function`"
   ]
  },
  {
   "cell_type": "markdown",
   "id": "bbff4a88",
   "metadata": {},
   "source": [
    "The eye tool returns a 2-D array with  1’s as the diagonal and  0’s elsewhere. The diagonal can be main, upper, or lower depending on the optional parameter k."
   ]
  },
  {
   "cell_type": "code",
   "execution_count": 24,
   "id": "52fd59a2",
   "metadata": {},
   "outputs": [
    {
     "data": {
      "text/plain": [
       "array([[1., 0., 0., 0., 0.],\n",
       "       [0., 1., 0., 0., 0.],\n",
       "       [0., 0., 1., 0., 0.],\n",
       "       [0., 0., 0., 1., 0.],\n",
       "       [0., 0., 0., 0., 1.]])"
      ]
     },
     "execution_count": 24,
     "metadata": {},
     "output_type": "execute_result"
    }
   ],
   "source": [
    "np.eye(5)"
   ]
  },
  {
   "cell_type": "code",
   "execution_count": 25,
   "id": "280a5169",
   "metadata": {},
   "outputs": [
    {
     "data": {
      "text/plain": [
       "array([[1, 0, 0],\n",
       "       [0, 1, 0],\n",
       "       [0, 0, 1]])"
      ]
     },
     "execution_count": 25,
     "metadata": {},
     "output_type": "execute_result"
    }
   ],
   "source": [
    "np.eye(3,dtype='int64')"
   ]
  },
  {
   "cell_type": "code",
   "execution_count": null,
   "id": "f2c15cb2",
   "metadata": {},
   "outputs": [],
   "source": []
  },
  {
   "cell_type": "code",
   "execution_count": null,
   "id": "7abc9cd7",
   "metadata": {},
   "outputs": [],
   "source": []
  },
  {
   "cell_type": "markdown",
   "id": "37582292",
   "metadata": {},
   "source": [
    "##  `10. Empty  Function`"
   ]
  },
  {
   "cell_type": "markdown",
   "id": "93bec6fc",
   "metadata": {},
   "source": [
    "Return a new array of given shape and type, with random values."
   ]
  },
  {
   "cell_type": "code",
   "execution_count": 26,
   "id": "0bd245d5",
   "metadata": {},
   "outputs": [
    {
     "data": {
      "text/plain": [
       "array([[0.        , 0.        , 0.4472136 , 0.0531494 , 0.18257419],\n",
       "       [0.4472136 , 0.2125976 , 0.36514837, 0.4472136 , 0.4783446 ],\n",
       "       [0.54772256, 0.4472136 , 0.85039041, 0.73029674, 0.4472136 ]])"
      ]
     },
     "execution_count": 26,
     "metadata": {},
     "output_type": "execute_result"
    }
   ],
   "source": [
    "np.empty((3,5))"
   ]
  },
  {
   "cell_type": "code",
   "execution_count": null,
   "id": "7aa918d7",
   "metadata": {},
   "outputs": [],
   "source": []
  },
  {
   "cell_type": "code",
   "execution_count": null,
   "id": "ed56c9d1",
   "metadata": {},
   "outputs": [],
   "source": []
  },
  {
   "cell_type": "markdown",
   "id": "05b875bd",
   "metadata": {},
   "source": [
    "##  `11. Random  Functions`"
   ]
  },
  {
   "cell_type": "markdown",
   "id": "990383a4",
   "metadata": {},
   "source": [
    "### **a) np.random.rand**"
   ]
  },
  {
   "cell_type": "markdown",
   "id": "3675a084",
   "metadata": {},
   "source": [
    "The numpy.random.rand() function creates an array of specified shape and fills it with random values."
   ]
  },
  {
   "cell_type": "code",
   "execution_count": 27,
   "id": "5e5c5325",
   "metadata": {},
   "outputs": [
    {
     "data": {
      "text/plain": [
       "array([[0.02301451, 0.57019879, 0.53642479, 0.25594166],\n",
       "       [0.34647763, 0.44699667, 0.76043348, 0.3920142 ],\n",
       "       [0.00354411, 0.63908828, 0.01563268, 0.55417831]])"
      ]
     },
     "execution_count": 27,
     "metadata": {},
     "output_type": "execute_result"
    }
   ],
   "source": [
    "np.random.rand(3,4)"
   ]
  },
  {
   "cell_type": "code",
   "execution_count": null,
   "id": "3fa14064",
   "metadata": {},
   "outputs": [],
   "source": []
  },
  {
   "cell_type": "markdown",
   "id": "1294e8df",
   "metadata": {},
   "source": [
    "### **b) np.random.randint**"
   ]
  },
  {
   "cell_type": "markdown",
   "id": "3927ab7d",
   "metadata": {},
   "source": [
    "numpy.random.randint() is one of the function for doing random sampling in numpy. It returns an array of specified shape and fills it with random integers from low (inclusive) to high (exclusive), i.e. in the interval [low, high)."
   ]
  },
  {
   "cell_type": "code",
   "execution_count": 28,
   "id": "98fed001",
   "metadata": {},
   "outputs": [
    {
     "data": {
      "text/plain": [
       "array([10,  5, 56, 76, 52, 30, 62, 26, 96, 98])"
      ]
     },
     "execution_count": 28,
     "metadata": {},
     "output_type": "execute_result"
    }
   ],
   "source": [
    "np.random.randint(1,100,10)"
   ]
  },
  {
   "cell_type": "code",
   "execution_count": null,
   "id": "06e09afe",
   "metadata": {},
   "outputs": [],
   "source": []
  },
  {
   "cell_type": "markdown",
   "id": "e3209f18",
   "metadata": {},
   "source": [
    "### **c) np.random.randn**"
   ]
  },
  {
   "cell_type": "markdown",
   "id": "a797e41e",
   "metadata": {},
   "source": [
    "The numpy.random.randn() function creates an array of specified shape and fills it with random values as per standard normal distribution. "
   ]
  },
  {
   "cell_type": "code",
   "execution_count": 29,
   "id": "8a69f1b7",
   "metadata": {},
   "outputs": [
    {
     "data": {
      "text/plain": [
       "array([-2.73543591e-01, -2.32790151e+00,  1.35642146e+00, -1.88494651e-01,\n",
       "        3.28800436e-02, -8.31364294e-01, -2.43000613e-01, -8.31900795e-01,\n",
       "        1.39909288e+00,  4.19307424e-01,  4.48310168e-01,  4.47713447e-01,\n",
       "        4.76940469e-01,  5.98477043e-01, -2.00811054e+00,  1.74816647e+00,\n",
       "        2.59675707e-01,  1.69512464e+00,  2.58447880e-01,  6.97083927e-02,\n",
       "       -8.15675612e-01, -7.75765400e-01, -8.20904303e-01,  5.02175290e-01,\n",
       "        1.40361039e+00, -3.74892085e-01, -1.64057663e+00, -6.23955058e-01,\n",
       "        1.19072648e+00,  5.16177631e-04,  1.16598145e+00,  1.77962343e+00,\n",
       "        6.90650405e-02, -1.11943278e+00,  1.05120503e+00,  2.58875496e-01,\n",
       "       -4.76145879e-01, -2.40409709e+00, -1.48862665e+00,  4.20418081e-01,\n",
       "        2.23134907e-01, -1.31852107e+00,  5.64536508e-01, -3.78492235e-01,\n",
       "        5.99385379e-01, -1.79556705e-01,  3.04352956e-01,  4.01682433e-01,\n",
       "       -4.18646192e-01,  9.49221426e-01, -1.17891761e+00,  1.44573362e+00,\n",
       "        4.25696085e-01,  4.97856172e-01, -6.70112824e-01, -6.68790180e-01,\n",
       "        1.81508093e-01,  3.07521529e-01,  1.33771745e+00, -5.44050434e-01,\n",
       "       -1.08262261e+00,  3.82086501e-02, -1.74850121e-01,  5.27007843e-01,\n",
       "       -1.11824601e-01,  5.43417767e-01, -8.50657856e-01,  1.60310835e+00,\n",
       "       -1.14426207e+00,  1.00846367e-01, -1.09206608e-01, -1.01011070e+00,\n",
       "       -3.21930557e-03,  2.20302179e+00,  7.43396055e-02,  2.27656875e+00,\n",
       "       -1.40580299e+00,  1.55481297e+00,  1.76657655e-01, -9.92333743e-02,\n",
       "       -2.93424418e-02,  5.41523365e-01, -1.67791617e+00,  1.30386664e-01,\n",
       "       -4.71115375e-01,  1.01052657e+00,  1.93777312e+00, -1.08729219e+00,\n",
       "        1.64822450e+00,  3.27581912e-01, -1.54690032e-01,  2.03191713e-01,\n",
       "       -6.60699965e-01,  7.76107678e-01,  2.85894961e-01, -3.15594322e-01,\n",
       "        3.44386630e-01,  1.71695606e+00, -2.45854244e-01, -8.32853360e-01])"
      ]
     },
     "execution_count": 29,
     "metadata": {},
     "output_type": "execute_result"
    }
   ],
   "source": [
    "g=np.random.randn(100)\n",
    "g"
   ]
  },
  {
   "cell_type": "code",
   "execution_count": 30,
   "id": "7fe637e4",
   "metadata": {},
   "outputs": [],
   "source": [
    "import matplotlib.pyplot as plt\n",
    "%matplotlib inline"
   ]
  },
  {
   "cell_type": "code",
   "execution_count": 31,
   "id": "5c4ff2d9",
   "metadata": {},
   "outputs": [
    {
     "data": {
      "image/png": "[encoded data removed]",
      "text/plain": [
       "<Figure size 640x480 with 1 Axes>"
      ]
     },
     "metadata": {},
     "output_type": "display_data"
    }
   ],
   "source": [
    "plt.hist(g);"
   ]
  },
  {
   "cell_type": "code",
   "execution_count": null,
   "id": "24cd5b94",
   "metadata": {},
   "outputs": [],
   "source": []
  },
  {
   "cell_type": "markdown",
   "id": "e4a0b308",
   "metadata": {},
   "source": [
    "##  `12. Reshape function - will not alter the original data`"
   ]
  },
  {
   "cell_type": "markdown",
   "id": "90396b14",
   "metadata": {},
   "source": [
    "The numpy.reshape() function shapes an array without changing the data of the array.<br>\n",
    "It should be noted that the product if the rows and columns should be same "
   ]
  },
  {
   "cell_type": "code",
   "execution_count": 32,
   "id": "52ac4721",
   "metadata": {},
   "outputs": [
    {
     "data": {
      "text/plain": [
       "array([[ 2,  2,  1,  4],\n",
       "       [ 2, 12,  5,  8],\n",
       "       [ 1,  7, 11,  1]])"
      ]
     },
     "execution_count": 32,
     "metadata": {},
     "output_type": "execute_result"
    }
   ],
   "source": [
    "a=np.random.randint(1,15,(3,4))\n",
    "a"
   ]
  },
  {
   "cell_type": "code",
   "execution_count": 33,
   "id": "22e21e1e",
   "metadata": {},
   "outputs": [
    {
     "data": {
      "text/plain": [
       "array([[ 2,  2],\n",
       "       [ 1,  4],\n",
       "       [ 2, 12],\n",
       "       [ 5,  8],\n",
       "       [ 1,  7],\n",
       "       [11,  1]])"
      ]
     },
     "execution_count": 33,
     "metadata": {},
     "output_type": "execute_result"
    }
   ],
   "source": [
    " a.reshape(6,2)"
   ]
  },
  {
   "cell_type": "code",
   "execution_count": null,
   "id": "adcbd0c0",
   "metadata": {},
   "outputs": [],
   "source": []
  },
  {
   "cell_type": "code",
   "execution_count": null,
   "id": "cdd8ad84",
   "metadata": {},
   "outputs": [],
   "source": []
  },
  {
   "cell_type": "markdown",
   "id": "ebf5f997",
   "metadata": {},
   "source": [
    "##   `13. Linspace  Function`"
   ]
  },
  {
   "cell_type": "markdown",
   "id": "c1258f35",
   "metadata": {},
   "source": [
    "The numpy.linspace() function returns number spaces evenly w.r.t interval. Similar to numpy.arange() function but instead of step it uses sample number. "
   ]
  },
  {
   "cell_type": "markdown",
   "id": "12c4a402",
   "metadata": {},
   "source": [
    "Parameters : <br>\n",
    "\n",
    "- -> start  : [optional] start of interval range. By default start = 0\n",
    "- -> stop   : end of interval range\n",
    "- -> restep : If True, return (samples, step). By default restep = False\n",
    "- -> num    : [int, optional] No. of samples to generate\n",
    "- -> dtype  : type of output array"
   ]
  },
  {
   "cell_type": "code",
   "execution_count": 34,
   "id": "edfa7822",
   "metadata": {},
   "outputs": [
    {
     "data": {
      "text/plain": [
       "array([1.  , 2.75, 4.5 , 6.25, 8.  ])"
      ]
     },
     "execution_count": 34,
     "metadata": {},
     "output_type": "execute_result"
    }
   ],
   "source": [
    "np.linspace(1,8,5)"
   ]
  },
  {
   "cell_type": "code",
   "execution_count": 35,
   "id": "10362e69",
   "metadata": {},
   "outputs": [
    {
     "data": {
      "text/plain": [
       "array([ 1.,  4.,  7., 10.])"
      ]
     },
     "execution_count": 35,
     "metadata": {},
     "output_type": "execute_result"
    }
   ],
   "source": [
    "np.linspace(1,10,4)"
   ]
  },
  {
   "cell_type": "code",
   "execution_count": null,
   "id": "9f03eb2a",
   "metadata": {},
   "outputs": [],
   "source": []
  },
  {
   "cell_type": "code",
   "execution_count": null,
   "id": "f44c9db7",
   "metadata": {},
   "outputs": [],
   "source": []
  },
  {
   "cell_type": "markdown",
   "id": "2cf25475",
   "metadata": {},
   "source": [
    "##   `14. Flatten  Function`"
   ]
  },
  {
   "cell_type": "markdown",
   "id": "649009da",
   "metadata": {},
   "source": [
    "ndarray.flatten() function return a copy of the array collapsed into one dimension."
   ]
  },
  {
   "cell_type": "code",
   "execution_count": 36,
   "id": "85b01780",
   "metadata": {},
   "outputs": [
    {
     "name": "stdout",
     "output_type": "stream",
     "text": [
      "[[14  6 19 19 13]\n",
      " [16  9 18 19 11]\n",
      " [ 9 10 18 11 17]]\n"
     ]
    }
   ],
   "source": [
    "a=np.random.randint(4,20,(3,5))\n",
    "print(a)"
   ]
  },
  {
   "cell_type": "code",
   "execution_count": 37,
   "id": "ff156814",
   "metadata": {},
   "outputs": [
    {
     "name": "stdout",
     "output_type": "stream",
     "text": [
      "[14  6 19 19 13 16  9 18 19 11  9 10 18 11 17]\n"
     ]
    }
   ],
   "source": [
    "a=a.flatten()\n",
    "print(a)"
   ]
  },
  {
   "cell_type": "code",
   "execution_count": null,
   "id": "8d6690ff",
   "metadata": {},
   "outputs": [],
   "source": []
  },
  {
   "cell_type": "code",
   "execution_count": null,
   "id": "12b880a4",
   "metadata": {},
   "outputs": [],
   "source": []
  },
  {
   "cell_type": "markdown",
   "id": "f686069e",
   "metadata": {},
   "source": [
    "##   `15. Logspace  Function`"
   ]
  },
  {
   "cell_type": "markdown",
   "id": "b7e7e52b",
   "metadata": {},
   "source": [
    "The numpy.logspace() function returns number spaces evenly w.r.t interval on a log scale."
   ]
  },
  {
   "cell_type": "markdown",
   "id": "ce955698",
   "metadata": {},
   "source": [
    "Parameters : \n",
    "\n",
    "- -> start    : [float] start(base ** start) of interval range.\n",
    "- -> stop     : [float] end(base ** stop) of interval range\n",
    "- -> endpoint : [boolean, optional]If True, stop is the last sample. By default, True\n",
    "- -> num      : [int, optional] No. of samples to generate\n",
    "- -> base     : [float, optional] Base of log scale. By default, equals 10.0\n",
    "- -> dtype    : type of output array"
   ]
  },
  {
   "cell_type": "code",
   "execution_count": 38,
   "id": "e7d12837",
   "metadata": {},
   "outputs": [
    {
     "data": {
      "text/plain": [
       "array([  100.        ,   166.81005372,   278.25594022,   464.15888336,\n",
       "         774.26368268,  1291.54966501,  2154.43469003,  3593.8136638 ,\n",
       "        5994.84250319, 10000.        ])"
      ]
     },
     "execution_count": 38,
     "metadata": {},
     "output_type": "execute_result"
    }
   ],
   "source": [
    "np.logspace(2,4,10)"
   ]
  },
  {
   "cell_type": "code",
   "execution_count": 39,
   "id": "2c8e3c10",
   "metadata": {},
   "outputs": [
    {
     "data": {
      "text/plain": [
       "array([ 4.        ,  4.66611616,  5.44316   ,  6.34960421,  7.4069977 ,\n",
       "        8.64047791, 10.0793684 , 11.75787594, 13.71590373, 16.        ])"
      ]
     },
     "execution_count": 39,
     "metadata": {},
     "output_type": "execute_result"
    }
   ],
   "source": [
    "np.logspace(2,4,10,base=2)"
   ]
  },
  {
   "cell_type": "code",
   "execution_count": null,
   "id": "5990faf9",
   "metadata": {},
   "outputs": [],
   "source": []
  },
  {
   "cell_type": "code",
   "execution_count": null,
   "id": "bb5603f5",
   "metadata": {},
   "outputs": [],
   "source": []
  },
  {
   "cell_type": "markdown",
   "id": "f029ad6c",
   "metadata": {},
   "source": [
    "## `16. Copy function`"
   ]
  },
  {
   "cell_type": "markdown",
   "id": "317d7048",
   "metadata": {},
   "source": [
    "If we normally use the equals sign then the **id** of both the numpy array will be same, so we need to use to **copy** function"
   ]
  },
  {
   "cell_type": "code",
   "execution_count": 40,
   "id": "de58ab1d",
   "metadata": {},
   "outputs": [],
   "source": [
    "a=np.array([1,2,3,4,5])\n",
    "b=a"
   ]
  },
  {
   "cell_type": "code",
   "execution_count": 41,
   "id": "4d8990b3",
   "metadata": {},
   "outputs": [
    {
     "name": "stdout",
     "output_type": "stream",
     "text": [
      "140175668347312\n",
      "140175668347312\n"
     ]
    }
   ],
   "source": [
    "print(id(a))\n",
    "print(id(b))"
   ]
  },
  {
   "cell_type": "code",
   "execution_count": null,
   "id": "f8e39648",
   "metadata": {},
   "outputs": [],
   "source": []
  },
  {
   "cell_type": "code",
   "execution_count": 42,
   "id": "e41e3c93",
   "metadata": {},
   "outputs": [],
   "source": [
    "a=np.array([1,2,3,4,5])\n",
    "b=np.copy(a)"
   ]
  },
  {
   "cell_type": "code",
   "execution_count": 43,
   "id": "d22429b0",
   "metadata": {},
   "outputs": [
    {
     "name": "stdout",
     "output_type": "stream",
     "text": [
      "140175668350384\n",
      "140175668350480\n"
     ]
    }
   ],
   "source": [
    "print(id(a))\n",
    "print(id(b))"
   ]
  },
  {
   "cell_type": "code",
   "execution_count": null,
   "id": "597b7f1b",
   "metadata": {},
   "outputs": [],
   "source": []
  },
  {
   "cell_type": "markdown",
   "id": "62e1d51a",
   "metadata": {},
   "source": [
    "## `17. arr.max() ,  arr.min() ,     arr.sum() functions`"
   ]
  },
  {
   "cell_type": "markdown",
   "id": "a18977e3",
   "metadata": {},
   "source": [
    "- arr.max() will give us the maximum element present in the array\n",
    "- arr.min() will give us the minimun element present in the array\n",
    "- arr.sum() will give us the sum of all the elements present in the array"
   ]
  },
  {
   "cell_type": "code",
   "execution_count": 44,
   "id": "f1d3d90a",
   "metadata": {},
   "outputs": [
    {
     "data": {
      "text/plain": [
       "array([[12,  5,  4, 11, 14],\n",
       "       [14,  3, 17, 15, 22],\n",
       "       [17,  6, 22, 19, 10]])"
      ]
     },
     "execution_count": 44,
     "metadata": {},
     "output_type": "execute_result"
    }
   ],
   "source": [
    "arr=np.random.randint(3,30,(3,5))\n",
    "arr"
   ]
  },
  {
   "cell_type": "code",
   "execution_count": 45,
   "id": "71777140",
   "metadata": {},
   "outputs": [
    {
     "data": {
      "text/plain": [
       "22"
      ]
     },
     "execution_count": 45,
     "metadata": {},
     "output_type": "execute_result"
    }
   ],
   "source": [
    "arr.max()"
   ]
  },
  {
   "cell_type": "code",
   "execution_count": 46,
   "id": "748f6895",
   "metadata": {},
   "outputs": [
    {
     "data": {
      "text/plain": [
       "3"
      ]
     },
     "execution_count": 46,
     "metadata": {},
     "output_type": "execute_result"
    }
   ],
   "source": [
    "arr.min()"
   ]
  },
  {
   "cell_type": "code",
   "execution_count": 47,
   "id": "3d81fea6",
   "metadata": {},
   "outputs": [
    {
     "data": {
      "text/plain": [
       "191"
      ]
     },
     "execution_count": 47,
     "metadata": {},
     "output_type": "execute_result"
    }
   ],
   "source": [
    "arr.sum()"
   ]
  },
  {
   "cell_type": "markdown",
   "id": "aea255c0",
   "metadata": {},
   "source": [
    "**We can use the axis parameter to get the max, min and sum of a particular column or row**<br>\n",
    "- axis=0 is for the column\n",
    "- axis=1 is for the row"
   ]
  },
  {
   "cell_type": "code",
   "execution_count": 48,
   "id": "f584c219",
   "metadata": {},
   "outputs": [
    {
     "name": "stdout",
     "output_type": "stream",
     "text": [
      "[1 2 3 4 5]\n"
     ]
    }
   ],
   "source": [
    "print(a)"
   ]
  },
  {
   "cell_type": "markdown",
   "id": "bc8d2d3f",
   "metadata": {},
   "source": [
    "#### For columns"
   ]
  },
  {
   "cell_type": "code",
   "execution_count": 49,
   "id": "09623d79",
   "metadata": {},
   "outputs": [
    {
     "data": {
      "text/plain": [
       "array([17,  6, 22, 19, 22])"
      ]
     },
     "execution_count": 49,
     "metadata": {},
     "output_type": "execute_result"
    }
   ],
   "source": [
    "arr.max(axis=0)"
   ]
  },
  {
   "cell_type": "code",
   "execution_count": 50,
   "id": "d9ccb404",
   "metadata": {},
   "outputs": [
    {
     "data": {
      "text/plain": [
       "array([12,  3,  4, 11, 10])"
      ]
     },
     "execution_count": 50,
     "metadata": {},
     "output_type": "execute_result"
    }
   ],
   "source": [
    "arr.min(axis=0)"
   ]
  },
  {
   "cell_type": "code",
   "execution_count": 51,
   "id": "a725a4d3",
   "metadata": {},
   "outputs": [
    {
     "data": {
      "text/plain": [
       "array([43, 14, 43, 45, 46])"
      ]
     },
     "execution_count": 51,
     "metadata": {},
     "output_type": "execute_result"
    }
   ],
   "source": [
    "arr.sum(axis=0)"
   ]
  },
  {
   "cell_type": "code",
   "execution_count": null,
   "id": "e5ac754c",
   "metadata": {},
   "outputs": [],
   "source": []
  },
  {
   "cell_type": "markdown",
   "id": "40e428ed",
   "metadata": {},
   "source": [
    "#### Fow rows"
   ]
  },
  {
   "cell_type": "code",
   "execution_count": 52,
   "id": "44dde7f9",
   "metadata": {},
   "outputs": [
    {
     "data": {
      "text/plain": [
       "array([14, 22, 22])"
      ]
     },
     "execution_count": 52,
     "metadata": {},
     "output_type": "execute_result"
    }
   ],
   "source": [
    "arr.max(axis=1)"
   ]
  },
  {
   "cell_type": "code",
   "execution_count": 53,
   "id": "30fb2e5e",
   "metadata": {},
   "outputs": [
    {
     "data": {
      "text/plain": [
       "array([4, 3, 6])"
      ]
     },
     "execution_count": 53,
     "metadata": {},
     "output_type": "execute_result"
    }
   ],
   "source": [
    "arr.min(axis=1)"
   ]
  },
  {
   "cell_type": "code",
   "execution_count": 54,
   "id": "6864a81a",
   "metadata": {},
   "outputs": [
    {
     "data": {
      "text/plain": [
       "array([46, 71, 74])"
      ]
     },
     "execution_count": 54,
     "metadata": {},
     "output_type": "execute_result"
    }
   ],
   "source": [
    "arr.sum(axis=1)"
   ]
  },
  {
   "cell_type": "code",
   "execution_count": null,
   "id": "1b255864",
   "metadata": {},
   "outputs": [],
   "source": []
  },
  {
   "cell_type": "markdown",
   "id": "44ee6aed",
   "metadata": {},
   "source": [
    "## `18. Seed Function`"
   ]
  },
  {
   "cell_type": "markdown",
   "id": "00bbefac",
   "metadata": {},
   "source": [
    "random() function is used to generate random numbers in Python. Not actually random, rather this is used to generate pseudo-random numbers. That implies that these randomly generated numbers can be determined. random() function generates numbers for some values. This value is also called seed value. \n"
   ]
  },
  {
   "cell_type": "markdown",
   "id": "75afa372",
   "metadata": {},
   "source": [
    "Syntax : random.seed( l, version )<br>\n",
    "\n",
    "**Parameter :** \n",
    "\n",
    "- l : Any seed value used to produce a random number.\n",
    "- version : A integer used to specify how to convert l in a integer."
   ]
  },
  {
   "cell_type": "code",
   "execution_count": 55,
   "id": "25986ae4",
   "metadata": {},
   "outputs": [
    {
     "data": {
      "text/plain": [
       "array([[13, 27, 28,  6, 27],\n",
       "       [11,  3, 24, 22, 13],\n",
       "       [14, 28, 12, 13, 24]])"
      ]
     },
     "execution_count": 55,
     "metadata": {},
     "output_type": "execute_result"
    }
   ],
   "source": [
    "np.random.seed(3)\n",
    "arr=np.random.randint(3,30,(3,5))\n",
    "arr"
   ]
  },
  {
   "cell_type": "code",
   "execution_count": 56,
   "id": "2e0bec8e",
   "metadata": {},
   "outputs": [
    {
     "data": {
      "text/plain": [
       "array([[26,  9,  3, 23, 15],\n",
       "       [10, 17, 27, 29, 20],\n",
       "       [29, 25,  5,  5,  4]])"
      ]
     },
     "execution_count": 56,
     "metadata": {},
     "output_type": "execute_result"
    }
   ],
   "source": [
    "arr=np.random.randint(3,30,(3,5))\n",
    "arr"
   ]
  },
  {
   "cell_type": "code",
   "execution_count": 57,
   "id": "9c4a77fe",
   "metadata": {},
   "outputs": [
    {
     "data": {
      "text/plain": [
       "array([[13, 27, 28,  6, 27],\n",
       "       [11,  3, 24, 22, 13],\n",
       "       [14, 28, 12, 13, 24]])"
      ]
     },
     "execution_count": 57,
     "metadata": {},
     "output_type": "execute_result"
    }
   ],
   "source": [
    "np.random.seed(3)\n",
    "arr=np.random.randint(3,30,(3,5))\n",
    "arr"
   ]
  },
  {
   "cell_type": "code",
   "execution_count": null,
   "id": "7d993dc9",
   "metadata": {},
   "outputs": [],
   "source": []
  },
  {
   "cell_type": "code",
   "execution_count": null,
   "id": "0d8882b1",
   "metadata": {},
   "outputs": [],
   "source": []
  },
  {
   "cell_type": "markdown",
   "id": "2b392d53",
   "metadata": {},
   "source": [
    "## `19. Sorting Function`"
   ]
  },
  {
   "cell_type": "markdown",
   "id": "3c890f39",
   "metadata": {},
   "source": [
    "numpy.sort() : This function returns a sorted copy of an array.\n",
    "\n",
    "Parameters :\n",
    "\n",
    "- arr : Array to be sorted.\n",
    "- axis : Axis along which we need array to be started.\n",
    "- order : This argument specifies which fields to compare first.\n",
    "- kind : [‘quicksort’{default}, ‘mergesort’, ‘heapsort’]Sorting algorithm.\n",
    "\n"
   ]
  },
  {
   "cell_type": "code",
   "execution_count": 58,
   "id": "e721947e",
   "metadata": {},
   "outputs": [
    {
     "data": {
      "text/plain": [
       "array([[13, 27, 28,  6, 27],\n",
       "       [11,  3, 24, 22, 13],\n",
       "       [14, 28, 12, 13, 24]])"
      ]
     },
     "execution_count": 58,
     "metadata": {},
     "output_type": "execute_result"
    }
   ],
   "source": [
    "np.random.seed(3)\n",
    "arr=np.random.randint(3,30,(3,5))\n",
    "arr"
   ]
  },
  {
   "cell_type": "code",
   "execution_count": 59,
   "id": "aa96af33",
   "metadata": {},
   "outputs": [
    {
     "data": {
      "text/plain": [
       "array([[ 6, 13, 27, 27, 28],\n",
       "       [ 3, 11, 13, 22, 24],\n",
       "       [12, 13, 14, 24, 28]])"
      ]
     },
     "execution_count": 59,
     "metadata": {},
     "output_type": "execute_result"
    }
   ],
   "source": [
    "np.sort(arr)#by defailt axis =1 which means for columns"
   ]
  },
  {
   "cell_type": "code",
   "execution_count": 60,
   "id": "bfadc2f5",
   "metadata": {},
   "outputs": [
    {
     "data": {
      "text/plain": [
       "array([[11,  3, 12,  6, 13],\n",
       "       [13, 27, 24, 13, 24],\n",
       "       [14, 28, 28, 22, 27]])"
      ]
     },
     "execution_count": 60,
     "metadata": {},
     "output_type": "execute_result"
    }
   ],
   "source": [
    "np.sort(arr,axis=0)  #this time for columns"
   ]
  },
  {
   "cell_type": "code",
   "execution_count": null,
   "id": "5deef6f8",
   "metadata": {},
   "outputs": [],
   "source": []
  },
  {
   "cell_type": "markdown",
   "id": "845bac07",
   "metadata": {},
   "source": [
    "We can choose which type of sort we want to perform"
   ]
  },
  {
   "cell_type": "code",
   "execution_count": 61,
   "id": "02623d44",
   "metadata": {},
   "outputs": [],
   "source": [
    "arr=np.array([10,245,5,344,65])"
   ]
  },
  {
   "cell_type": "code",
   "execution_count": 62,
   "id": "0a1b5716",
   "metadata": {},
   "outputs": [
    {
     "data": {
      "text/plain": [
       "array([  5,  10,  65, 245, 344])"
      ]
     },
     "execution_count": 62,
     "metadata": {},
     "output_type": "execute_result"
    }
   ],
   "source": [
    "np.sort(arr,axis=0,kind='heapsort')"
   ]
  },
  {
   "cell_type": "code",
   "execution_count": null,
   "id": "043824a5",
   "metadata": {},
   "outputs": [],
   "source": []
  },
  {
   "cell_type": "code",
   "execution_count": null,
   "id": "76ddc876",
   "metadata": {},
   "outputs": [],
   "source": []
  },
  {
   "cell_type": "markdown",
   "id": "d7f4f64e",
   "metadata": {},
   "source": [
    "## `20. Mathematical Operations`"
   ]
  },
  {
   "cell_type": "markdown",
   "id": "c2c3983f",
   "metadata": {},
   "source": [
    "### a) Addition"
   ]
  },
  {
   "cell_type": "code",
   "execution_count": 63,
   "id": "ea2e1aa1",
   "metadata": {},
   "outputs": [
    {
     "name": "stdout",
     "output_type": "stream",
     "text": [
      "[[9 6 3 8 5]\n",
      " [5 9 9 6 3]\n",
      " [8 9 2 3 8]]\n"
     ]
    }
   ],
   "source": [
    "np.random.seed(7)\n",
    "arr=np.random.randint(2,10,(3,5))\n",
    "print(arr)"
   ]
  },
  {
   "cell_type": "code",
   "execution_count": 64,
   "id": "3d05a738",
   "metadata": {},
   "outputs": [
    {
     "name": "stdout",
     "output_type": "stream",
     "text": [
      "[[10  7  4  9  6]\n",
      " [ 6 10 10  7  4]\n",
      " [ 9 10  3  4  9]]\n"
     ]
    }
   ],
   "source": [
    "print(arr+1)"
   ]
  },
  {
   "cell_type": "code",
   "execution_count": null,
   "id": "d4756378",
   "metadata": {},
   "outputs": [],
   "source": []
  },
  {
   "cell_type": "markdown",
   "id": "798221e0",
   "metadata": {},
   "source": [
    "### b) Substraction"
   ]
  },
  {
   "cell_type": "code",
   "execution_count": 65,
   "id": "cc72113f",
   "metadata": {},
   "outputs": [
    {
     "name": "stdout",
     "output_type": "stream",
     "text": [
      "[[9 6 3 8 5]\n",
      " [5 9 9 6 3]\n",
      " [8 9 2 3 8]]\n"
     ]
    }
   ],
   "source": [
    "print(arr)"
   ]
  },
  {
   "cell_type": "code",
   "execution_count": 66,
   "id": "6f596576",
   "metadata": {},
   "outputs": [
    {
     "name": "stdout",
     "output_type": "stream",
     "text": [
      "[[8 5 2 7 4]\n",
      " [4 8 8 5 2]\n",
      " [7 8 1 2 7]]\n"
     ]
    }
   ],
   "source": [
    "print(arr-1)"
   ]
  },
  {
   "cell_type": "code",
   "execution_count": null,
   "id": "449e4beb",
   "metadata": {},
   "outputs": [],
   "source": []
  },
  {
   "cell_type": "code",
   "execution_count": null,
   "id": "bbee6671",
   "metadata": {},
   "outputs": [],
   "source": []
  },
  {
   "cell_type": "markdown",
   "id": "a29c8c15",
   "metadata": {},
   "source": [
    "### c) Multiplication"
   ]
  },
  {
   "cell_type": "code",
   "execution_count": 67,
   "id": "0620e195",
   "metadata": {},
   "outputs": [
    {
     "name": "stdout",
     "output_type": "stream",
     "text": [
      "[[9 6 3 8 5]\n",
      " [5 9 9 6 3]\n",
      " [8 9 2 3 8]]\n"
     ]
    }
   ],
   "source": [
    "print(arr)"
   ]
  },
  {
   "cell_type": "code",
   "execution_count": 68,
   "id": "f3203976",
   "metadata": {},
   "outputs": [
    {
     "name": "stdout",
     "output_type": "stream",
     "text": [
      "[[18 12  6 16 10]\n",
      " [10 18 18 12  6]\n",
      " [16 18  4  6 16]]\n"
     ]
    }
   ],
   "source": [
    "print(arr*2)"
   ]
  },
  {
   "cell_type": "code",
   "execution_count": null,
   "id": "80e7ebb1",
   "metadata": {},
   "outputs": [],
   "source": []
  },
  {
   "cell_type": "code",
   "execution_count": null,
   "id": "f897be4a",
   "metadata": {},
   "outputs": [],
   "source": []
  },
  {
   "cell_type": "markdown",
   "id": "5d4fb695",
   "metadata": {},
   "source": [
    "### d) Division"
   ]
  },
  {
   "cell_type": "code",
   "execution_count": 69,
   "id": "53cb0ff4",
   "metadata": {},
   "outputs": [
    {
     "name": "stdout",
     "output_type": "stream",
     "text": [
      "[[9 6 3 8 5]\n",
      " [5 9 9 6 3]\n",
      " [8 9 2 3 8]]\n"
     ]
    }
   ],
   "source": [
    "print(arr)"
   ]
  },
  {
   "cell_type": "code",
   "execution_count": 70,
   "id": "99f2ac6d",
   "metadata": {},
   "outputs": [
    {
     "name": "stdout",
     "output_type": "stream",
     "text": [
      "[[4.5 3.  1.5 4.  2.5]\n",
      " [2.5 4.5 4.5 3.  1.5]\n",
      " [4.  4.5 1.  1.5 4. ]]\n"
     ]
    }
   ],
   "source": [
    "print(arr/2)"
   ]
  },
  {
   "cell_type": "code",
   "execution_count": null,
   "id": "8104d2bc",
   "metadata": {},
   "outputs": [],
   "source": []
  },
  {
   "cell_type": "code",
   "execution_count": null,
   "id": "b9e4f4d2",
   "metadata": {},
   "outputs": [],
   "source": []
  },
  {
   "cell_type": "markdown",
   "id": "421ec8bf",
   "metadata": {},
   "source": [
    "### e) Matrix Multiplication\n",
    "For Matrix Multiplication we either use the \n",
    "- dot function or\n",
    "- the @ symbol"
   ]
  },
  {
   "cell_type": "code",
   "execution_count": 71,
   "id": "ef3f1bb4",
   "metadata": {},
   "outputs": [],
   "source": [
    "np.random.seed(42)\n",
    "a=np.random.randint(2,10,(2,2))\n",
    "b=np.random.randint(10,20,(2,2))"
   ]
  },
  {
   "cell_type": "code",
   "execution_count": 72,
   "id": "4bb224f2",
   "metadata": {},
   "outputs": [
    {
     "name": "stdout",
     "output_type": "stream",
     "text": [
      "[[8 5]\n",
      " [6 8]]\n"
     ]
    }
   ],
   "source": [
    "print(a)"
   ]
  },
  {
   "cell_type": "code",
   "execution_count": 73,
   "id": "1db42877",
   "metadata": {},
   "outputs": [
    {
     "name": "stdout",
     "output_type": "stream",
     "text": [
      "[[17 14]\n",
      " [16 19]]\n"
     ]
    }
   ],
   "source": [
    "print(b)"
   ]
  },
  {
   "cell_type": "code",
   "execution_count": 74,
   "id": "dc759f2f",
   "metadata": {},
   "outputs": [
    {
     "name": "stdout",
     "output_type": "stream",
     "text": [
      "[[216 207]\n",
      " [230 236]]\n"
     ]
    }
   ],
   "source": [
    "print(a.dot(b))"
   ]
  },
  {
   "cell_type": "code",
   "execution_count": 75,
   "id": "6b87bf11",
   "metadata": {},
   "outputs": [
    {
     "name": "stdout",
     "output_type": "stream",
     "text": [
      "[[216 207]\n",
      " [230 236]]\n"
     ]
    }
   ],
   "source": [
    "print(a@b)"
   ]
  },
  {
   "cell_type": "code",
   "execution_count": null,
   "id": "c727b56b",
   "metadata": {},
   "outputs": [],
   "source": []
  },
  {
   "cell_type": "markdown",
   "id": "2e59454e",
   "metadata": {},
   "source": [
    "### f) Power"
   ]
  },
  {
   "cell_type": "code",
   "execution_count": 76,
   "id": "dca65273",
   "metadata": {},
   "outputs": [
    {
     "name": "stdout",
     "output_type": "stream",
     "text": [
      "[[9 6 3 8 5]\n",
      " [5 9 9 6 3]\n",
      " [8 9 2 3 8]]\n"
     ]
    }
   ],
   "source": [
    "print(arr)"
   ]
  },
  {
   "cell_type": "code",
   "execution_count": 77,
   "id": "b16bf6d4",
   "metadata": {},
   "outputs": [
    {
     "name": "stdout",
     "output_type": "stream",
     "text": [
      "[[81 36  9 64 25]\n",
      " [25 81 81 36  9]\n",
      " [64 81  4  9 64]]\n"
     ]
    }
   ],
   "source": [
    "print(arr**2)"
   ]
  },
  {
   "cell_type": "markdown",
   "id": "854a2cec",
   "metadata": {},
   "source": [
    "## ` 21. Percentile Function `</font>"
   ]
  },
  {
   "cell_type": "markdown",
   "id": "bfff1d85",
   "metadata": {},
   "source": [
    "numpy.percentile()function used to compute the nth percentile of the given data (array elements) along the specified axis. "
   ]
  },
  {
   "cell_type": "code",
   "execution_count": 78,
   "id": "769b7078",
   "metadata": {},
   "outputs": [
    {
     "data": {
      "text/plain": [
       "array([ 2,  3,  3,  4,  7,  8,  9,  9, 10, 11])"
      ]
     },
     "execution_count": 78,
     "metadata": {},
     "output_type": "execute_result"
    }
   ],
   "source": [
    "np.random.seed(54)\n",
    "a=np.random.randint(2,15,10)\n",
    "a=np.sort(a)\n",
    "a"
   ]
  },
  {
   "cell_type": "code",
   "execution_count": 79,
   "id": "dad74897",
   "metadata": {},
   "outputs": [
    {
     "data": {
      "text/plain": [
       "7.5"
      ]
     },
     "execution_count": 79,
     "metadata": {},
     "output_type": "execute_result"
    }
   ],
   "source": [
    "np.percentile(a,50)"
   ]
  },
  {
   "cell_type": "code",
   "execution_count": 80,
   "id": "cae595a2",
   "metadata": {},
   "outputs": [
    {
     "name": "stdout",
     "output_type": "stream",
     "text": [
      "11.0\n",
      "11\n"
     ]
    }
   ],
   "source": [
    "print(np.percentile(a,100))\n",
    "print(a.max())"
   ]
  },
  {
   "cell_type": "code",
   "execution_count": null,
   "id": "4fd51b55",
   "metadata": {},
   "outputs": [],
   "source": []
  },
  {
   "cell_type": "markdown",
   "id": "788af731",
   "metadata": {},
   "source": [
    "## `22. Mean, Variance and Standard deviation`"
   ]
  },
  {
   "cell_type": "markdown",
   "id": "a4e979ad",
   "metadata": {},
   "source": [
    " In NumPy, we can compute the mean, standard deviation, and variance of a given array along the second axis by two approaches first is by using inbuilt functions and second is by the formulas of the mean, standard deviation, and variance.\n",
    "\n",
    " Using numpy.mean(), numpy.std(), numpy.var()\n",
    "\n"
   ]
  },
  {
   "cell_type": "code",
   "execution_count": 81,
   "id": "257c2768",
   "metadata": {},
   "outputs": [
    {
     "data": {
      "text/plain": [
       "array([ 8, 21, 16, 12,  9, 22,  8, 20, 24, 12])"
      ]
     },
     "execution_count": 81,
     "metadata": {},
     "output_type": "execute_result"
    }
   ],
   "source": [
    "np.random.seed(42)\n",
    "arr=np.random.randint(2,25,10)\n",
    "arr"
   ]
  },
  {
   "cell_type": "code",
   "execution_count": 82,
   "id": "b688625b",
   "metadata": {},
   "outputs": [
    {
     "data": {
      "text/plain": [
       "15.2"
      ]
     },
     "execution_count": 82,
     "metadata": {},
     "output_type": "execute_result"
    }
   ],
   "source": [
    "#Mean\n",
    "np.mean(arr)"
   ]
  },
  {
   "cell_type": "code",
   "execution_count": 83,
   "id": "b3474b3e",
   "metadata": {},
   "outputs": [
    {
     "data": {
      "text/plain": [
       "34.36"
      ]
     },
     "execution_count": 83,
     "metadata": {},
     "output_type": "execute_result"
    }
   ],
   "source": [
    "##Variance\n",
    "np.var(arr)"
   ]
  },
  {
   "cell_type": "code",
   "execution_count": 84,
   "id": "3c09c38a",
   "metadata": {},
   "outputs": [
    {
     "data": {
      "text/plain": [
       "5.861740355901138"
      ]
     },
     "execution_count": 84,
     "metadata": {},
     "output_type": "execute_result"
    }
   ],
   "source": [
    "#Standard Deviation\n",
    "np.std(arr)"
   ]
  },
  {
   "cell_type": "code",
   "execution_count": null,
   "id": "95b51f3a",
   "metadata": {},
   "outputs": [],
   "source": []
  },
  {
   "cell_type": "markdown",
   "id": "85f68749",
   "metadata": {},
   "source": [
    "## `23. Filtering an numpy array`"
   ]
  },
  {
   "cell_type": "code",
   "execution_count": 85,
   "id": "56c37bf2",
   "metadata": {},
   "outputs": [],
   "source": [
    "arr=np.arange(1,50)"
   ]
  },
  {
   "cell_type": "code",
   "execution_count": 86,
   "id": "59a29260",
   "metadata": {},
   "outputs": [
    {
     "data": {
      "text/plain": [
       "array([ 1,  2,  3,  4,  5,  6,  7,  8,  9, 10, 11, 12, 13, 14, 15, 16, 17,\n",
       "       18, 19])"
      ]
     },
     "execution_count": 86,
     "metadata": {},
     "output_type": "execute_result"
    }
   ],
   "source": [
    "arr[arr<20]"
   ]
  },
  {
   "cell_type": "code",
   "execution_count": null,
   "id": "912870c1",
   "metadata": {},
   "outputs": [],
   "source": []
  },
  {
   "cell_type": "markdown",
   "id": "c62bdf58",
   "metadata": {},
   "source": [
    "- We can store this into a new variable if we need this filtered array"
   ]
  },
  {
   "cell_type": "code",
   "execution_count": 87,
   "id": "1a25766f",
   "metadata": {},
   "outputs": [
    {
     "data": {
      "text/plain": [
       "array([ 1,  2,  3,  4,  5,  6,  7,  8,  9, 10, 11, 12, 13, 14, 15, 16, 17,\n",
       "       18, 19])"
      ]
     },
     "execution_count": 87,
     "metadata": {},
     "output_type": "execute_result"
    }
   ],
   "source": [
    "arr2=arr[arr<20]\n",
    "arr2"
   ]
  },
  {
   "cell_type": "code",
   "execution_count": 88,
   "id": "3e80c3ee",
   "metadata": {},
   "outputs": [
    {
     "data": {
      "text/plain": [
       "array([ 1,  2,  3,  4,  5,  6,  7,  8,  9, 10, 11, 12, 13, 14, 15, 16, 17,\n",
       "       18, 19, 20, 21, 22, 23, 24, 25, 26, 27, 28, 29, 30, 31, 32, 33, 34,\n",
       "       35, 36, 37, 38, 39, 40, 41, 42, 43, 44, 45, 46, 47, 48, 49])"
      ]
     },
     "execution_count": 88,
     "metadata": {},
     "output_type": "execute_result"
    }
   ],
   "source": [
    "arr"
   ]
  },
  {
   "cell_type": "code",
   "execution_count": null,
   "id": "4d7477bf",
   "metadata": {},
   "outputs": [],
   "source": []
  },
  {
   "cell_type": "markdown",
   "id": "1b79f1db",
   "metadata": {},
   "source": [
    "- If we want to replace all the values above 25 with 100 we can even do that"
   ]
  },
  {
   "cell_type": "code",
   "execution_count": 89,
   "id": "051fdb51",
   "metadata": {},
   "outputs": [],
   "source": [
    "arr[arr>25]=100"
   ]
  },
  {
   "cell_type": "code",
   "execution_count": 90,
   "id": "3e9c2f11",
   "metadata": {},
   "outputs": [
    {
     "data": {
      "text/plain": [
       "array([  1,   2,   3,   4,   5,   6,   7,   8,   9,  10,  11,  12,  13,\n",
       "        14,  15,  16,  17,  18,  19,  20,  21,  22,  23,  24,  25, 100,\n",
       "       100, 100, 100, 100, 100, 100, 100, 100, 100, 100, 100, 100, 100,\n",
       "       100, 100, 100, 100, 100, 100, 100, 100, 100, 100])"
      ]
     },
     "execution_count": 90,
     "metadata": {},
     "output_type": "execute_result"
    }
   ],
   "source": [
    "arr"
   ]
  },
  {
   "cell_type": "code",
   "execution_count": null,
   "id": "d281966e",
   "metadata": {},
   "outputs": [],
   "source": []
  },
  {
   "cell_type": "markdown",
   "id": "63f9df80",
   "metadata": {},
   "source": [
    "## `24 Transposing an array`"
   ]
  },
  {
   "cell_type": "markdown",
   "id": "5b8d46fd",
   "metadata": {},
   "source": [
    "With the help of Numpy ndarray.T object, we can make a Transpose of an array having dimension greater than or equal to 2."
   ]
  },
  {
   "cell_type": "code",
   "execution_count": 91,
   "id": "58697afb",
   "metadata": {},
   "outputs": [
    {
     "name": "stdout",
     "output_type": "stream",
     "text": [
      "[[11  4  8  3  2]\n",
      " [12  6  2  1 12]\n",
      " [12 17 10 16 15]]\n"
     ]
    }
   ],
   "source": [
    "arr=np.random.randint(1,20,(3,5))\n",
    "print(arr)"
   ]
  },
  {
   "cell_type": "code",
   "execution_count": 92,
   "id": "6d83aa7b",
   "metadata": {},
   "outputs": [
    {
     "name": "stdout",
     "output_type": "stream",
     "text": [
      "[[11 12 12]\n",
      " [ 4  6 17]\n",
      " [ 8  2 10]\n",
      " [ 3  1 16]\n",
      " [ 2 12 15]]\n"
     ]
    }
   ],
   "source": [
    "print(arr.T)"
   ]
  },
  {
   "cell_type": "code",
   "execution_count": null,
   "id": "66c5ad12",
   "metadata": {},
   "outputs": [],
   "source": []
  },
  {
   "cell_type": "markdown",
   "id": "b066526b",
   "metadata": {},
   "source": [
    "## `25. Where function `"
   ]
  },
  {
   "cell_type": "markdown",
   "id": "aeb58623",
   "metadata": {},
   "source": [
    "The numpy.where() function returns the indices of elements in an input array where the given condition is satisfied.\n",
    "\n",
    "Syntax :numpy.where(condition[, x, y])\n",
    "Parameters:\n",
    "condition : When True, yield x, otherwise yield y.\n",
    "x, y : Values from which to choose. x, y and condition need to be broadcastable to some shape.\n",
    "\n",
    "Returns:\n",
    "out : [ndarray or tuple of ndarrays] If both x and y are specified, the output array contains elements of x where condition is True, and elements from y elsewhere.\n",
    "\n",
    "If only condition is given, return the tuple condition.nonzero(), the indices where condition is True."
   ]
  },
  {
   "cell_type": "code",
   "execution_count": 93,
   "id": "60329641",
   "metadata": {},
   "outputs": [
    {
     "data": {
      "text/plain": [
       "array([ 8, 21, 16, 12,  9, 22,  8, 20, 24, 12])"
      ]
     },
     "execution_count": 93,
     "metadata": {},
     "output_type": "execute_result"
    }
   ],
   "source": [
    "np.random.seed(42)\n",
    "arr=np.random.randint(2,25,10)\n",
    "arr"
   ]
  },
  {
   "cell_type": "code",
   "execution_count": null,
   "id": "f110be22",
   "metadata": {},
   "outputs": [],
   "source": []
  },
  {
   "cell_type": "markdown",
   "id": "642f3c92",
   "metadata": {},
   "source": [
    "So now if we are having an even number let's convert it into 100 and the ones which are odd we leave it to the way it is"
   ]
  },
  {
   "cell_type": "code",
   "execution_count": 94,
   "id": "8cd9f83a",
   "metadata": {},
   "outputs": [
    {
     "data": {
      "text/plain": [
       "array([100,  21, 100, 100,   9, 100, 100, 100, 100, 100])"
      ]
     },
     "execution_count": 94,
     "metadata": {},
     "output_type": "execute_result"
    }
   ],
   "source": [
    "np.where(arr%2==0,100,arr)"
   ]
  },
  {
   "cell_type": "code",
   "execution_count": null,
   "id": "cae7ae2b",
   "metadata": {},
   "outputs": [],
   "source": []
  },
  {
   "cell_type": "code",
   "execution_count": null,
   "id": "436de7a1",
   "metadata": {},
   "outputs": [],
   "source": []
  },
  {
   "cell_type": "markdown",
   "id": "00c7aa57",
   "metadata": {},
   "source": [
    "## `26. Turning Pics into Numpy arrays`"
   ]
  },
  {
   "cell_type": "markdown",
   "id": "d29993aa",
   "metadata": {},
   "source": [
    "<img src='GFG.png'>"
   ]
  },
  {
   "cell_type": "markdown",
   "id": "17cbc2fc",
   "metadata": {},
   "source": [
    "This is picture we are having right here"
   ]
  },
  {
   "cell_type": "code",
   "execution_count": null,
   "id": "03a53eea",
   "metadata": {},
   "outputs": [],
   "source": []
  },
  {
   "cell_type": "markdown",
   "id": "02b6bd0d",
   "metadata": {},
   "source": [
    "Once we can turn this picture into an numpy array we can perform operations on that and pass the array even for some machine learning algorithms which will be benefitial for us"
   ]
  },
  {
   "cell_type": "markdown",
   "id": "9913f628",
   "metadata": {},
   "source": [
    "We will be using **`imread`** function here which belongs from the matplotlib class"
   ]
  },
  {
   "cell_type": "code",
   "execution_count": 95,
   "id": "0b1fd3ea",
   "metadata": {},
   "outputs": [],
   "source": [
    "from matplotlib.image import imread"
   ]
  },
  {
   "cell_type": "code",
   "execution_count": 96,
   "id": "cc84cce1",
   "metadata": {},
   "outputs": [
    {
     "name": "stdout",
     "output_type": "stream",
     "text": [
      "<class 'numpy.ndarray'>\n"
     ]
    }
   ],
   "source": [
    "gfg=imread('GFG.png')\n",
    "print(type(gfg))"
   ]
  },
  {
   "cell_type": "code",
   "execution_count": 97,
   "id": "dd1105e3",
   "metadata": {},
   "outputs": [
    {
     "data": {
      "text/plain": [
       "array([[[0.09803922, 0.74509805, 0.92941177],\n",
       "        [0.09803922, 0.74509805, 0.92941177],\n",
       "        [0.09803922, 0.74509805, 0.92941177],\n",
       "        ...,\n",
       "        [0.09803922, 0.74509805, 0.92941177],\n",
       "        [0.09803922, 0.74509805, 0.92941177],\n",
       "        [0.09803922, 0.74509805, 0.92941177]],\n",
       "\n",
       "       [[0.09803922, 0.74509805, 0.92941177],\n",
       "        [0.09803922, 0.74509805, 0.92941177],\n",
       "        [0.09803922, 0.74509805, 0.92941177],\n",
       "        ...,\n",
       "        [0.09803922, 0.74509805, 0.92941177],\n",
       "        [0.09803922, 0.74509805, 0.92941177],\n",
       "        [0.09803922, 0.74509805, 0.92941177]],\n",
       "\n",
       "       [[0.09803922, 0.74509805, 0.92941177],\n",
       "        [0.09803922, 0.74509805, 0.92941177],\n",
       "        [0.09803922, 0.74509805, 0.92941177],\n",
       "        ...,\n",
       "        [0.09803922, 0.74509805, 0.92941177],\n",
       "        [0.09803922, 0.74509805, 0.92941177],\n",
       "        [0.09803922, 0.74509805, 0.92941177]],\n",
       "\n",
       "       ...,\n",
       "\n",
       "       [[0.05882353, 0.6039216 , 0.75686276],\n",
       "        [0.05882353, 0.6039216 , 0.75686276],\n",
       "        [0.05882353, 0.6039216 , 0.75686276],\n",
       "        ...,\n",
       "        [0.05882353, 0.6039216 , 0.75686276],\n",
       "        [0.05882353, 0.6039216 , 0.75686276],\n",
       "        [0.05882353, 0.6039216 , 0.75686276]],\n",
       "\n",
       "       [[0.05882353, 0.6039216 , 0.75686276],\n",
       "        [0.05882353, 0.6039216 , 0.75686276],\n",
       "        [0.05882353, 0.6039216 , 0.75686276],\n",
       "        ...,\n",
       "        [0.05882353, 0.6039216 , 0.75686276],\n",
       "        [0.05882353, 0.6039216 , 0.75686276],\n",
       "        [0.05882353, 0.6039216 , 0.75686276]],\n",
       "\n",
       "       [[0.05882353, 0.6039216 , 0.75686276],\n",
       "        [0.05882353, 0.6039216 , 0.75686276],\n",
       "        [0.05882353, 0.6039216 , 0.75686276],\n",
       "        ...,\n",
       "        [0.05882353, 0.6039216 , 0.75686276],\n",
       "        [0.05882353, 0.6039216 , 0.75686276],\n",
       "        [0.05882353, 0.6039216 , 0.75686276]]], dtype=float32)"
      ]
     },
     "execution_count": 97,
     "metadata": {},
     "output_type": "execute_result"
    }
   ],
   "source": [
    "gfg"
   ]
  },
  {
   "cell_type": "code",
   "execution_count": null,
   "id": "18fec56a",
   "metadata": {},
   "outputs": [],
   "source": []
  },
  {
   "cell_type": "code",
   "execution_count": 98,
   "id": "8afcac0a",
   "metadata": {},
   "outputs": [
    {
     "data": {
      "text/plain": [
       "(607, 1000, 3)"
      ]
     },
     "execution_count": 98,
     "metadata": {},
     "output_type": "execute_result"
    }
   ],
   "source": [
    "gfg.shape"
   ]
  },
  {
   "cell_type": "markdown",
   "id": "5970c6bd",
   "metadata": {},
   "source": [
    "- 607 rows\n",
    "- 100 columns \n",
    "- 3 dimensions"
   ]
  },
  {
   "cell_type": "code",
   "execution_count": null,
   "id": "9c04956b",
   "metadata": {},
   "outputs": [],
   "source": []
  },
  {
   "cell_type": "code",
   "execution_count": 99,
   "id": "0219db66",
   "metadata": {},
   "outputs": [
    {
     "data": {
      "text/plain": [
       "3"
      ]
     },
     "execution_count": 99,
     "metadata": {},
     "output_type": "execute_result"
    }
   ],
   "source": [
    "gfg.ndim"
   ]
  },
  {
   "cell_type": "code",
   "execution_count": null,
   "id": "ef9c6042",
   "metadata": {},
   "outputs": [],
   "source": []
  },
  {
   "cell_type": "code",
   "execution_count": 100,
   "id": "07ec81a1",
   "metadata": {},
   "outputs": [
    {
     "data": {
      "text/plain": [
       "1821000"
      ]
     },
     "execution_count": 100,
     "metadata": {},
     "output_type": "execute_result"
    }
   ],
   "source": [
    "gfg.size"
   ]
  },
  {
   "cell_type": "code",
   "execution_count": null,
   "id": "e77abfab",
   "metadata": {},
   "outputs": [],
   "source": []
  },
  {
   "cell_type": "code",
   "execution_count": null,
   "id": "779fc928",
   "metadata": {},
   "outputs": [],
   "source": []
  }
 ],
 "metadata": {
  "kernelspec": {
   "display_name": "Python 3 (ipykernel)",
   "language": "python",
   "name": "python3"
  },
  "language_info": {
   "codemirror_mode": {
    "name": "ipython",
    "version": 3
   },
   "file_extension": ".py",
   "mimetype": "text/x-python",
   "name": "python",
   "nbconvert_exporter": "python",
   "pygments_lexer": "ipython3",
   "version": "3.9.13"
  }
 },
 "nbformat": 4,
 "nbformat_minor": 5
}
