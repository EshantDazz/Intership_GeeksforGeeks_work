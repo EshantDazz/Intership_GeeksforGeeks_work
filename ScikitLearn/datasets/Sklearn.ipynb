{
 "cells": [
  {
   "cell_type": "markdown",
   "id": "dcbf6752",
   "metadata": {},
   "source": [
    "# <center><div class='alert alert-success'>  GeeksforGeeks </div></center>"
   ]
  },
  {
   "cell_type": "markdown",
   "id": "e57064b8",
   "metadata": {},
   "source": [
    "## <font color='green'>Scikit Learn</font>"
   ]
  },
  {
   "cell_type": "markdown",
   "id": "99b34d40",
   "metadata": {},
   "source": [
    "Scikit-learn (also known as sklearn) is a popular open-source machine learning library for the Python programming language. It provides a wide range of tools for various machine learning tasks, including classification, regression, clustering, and dimensionality reduction.\n",
    "\n",
    "Scikit-learn is built on top of other Python scientific computing libraries such as NumPy, SciPy, and matplotlib, and provides a high-level API for using these tools to build and train machine learning models."
   ]
  },
  {
   "cell_type": "markdown",
   "id": "e3df4da0",
   "metadata": {},
   "source": [
    "## `Table of Contents`\n",
    "\n",
    "<div class='alert alert-success'>\n",
    "\n",
    "**1. Data Preprocessing and Transformation<br>\n",
    "    ----- a) StandardScaler()<br>\n",
    "    ----- b) MinMaxScaler()<br>\n",
    "    ----- c) OneHotEncoder()<br>\n",
    "    ----- d) LabelEncoder()<br>\n",
    "    ----- e) Imputer()<br>\n",
    "  2. Model Selection and Evaluation<br>\n",
    "    ----- a) train_test_split()<br>\n",
    "    $\\;\\;\\;\\;\\;\\;$  $\\;\\;\\;\\;\\;\\;$ Mean Squared Error<br>\n",
    "    ----- b) KFold()<br>\n",
    "     $\\;\\;\\;\\;\\;\\;$  $\\;\\;\\;\\;\\;\\;$ Cross Validation<br>\n",
    "    ----- c) metrics.accuracy_score()<br>\n",
    "    ----- d) metrics.mean_squared_error()<br> \n",
    "3. Regression Models()<br>\n",
    "    ----- a) LinearRegression()<br>\n",
    "    ----- b) Lasso()<br>\n",
    "    ----- c) Ridge()<br>\n",
    "    ----- d) ElasticNet()<br>\n",
    "    ----- e) DecisionTreeRegressor()<br>\n",
    "    ----- f) RandomForestRegressor()<br>\n",
    "4. Classification Models<br>\n",
    "    ----- a) LogisticRegression()<br>\n",
    "    ----- b) SVC()<br>\n",
    "    ----- c) KNeighborsClassifier()<br>\n",
    "    ----- d) DecisionTreeClassifier()<br>\n",
    "    ----- e) RandomForestClassifier()<br>\n",
    "5. Clustering Models<br>\n",
    "    ----- a) KMeans()<br>\n",
    "    ----- b) AgglomerativeClustering()<br>\n",
    "    ----- c) DBSCAN()<br>\n",
    "6. Dimensionality Reduction<br>\n",
    "    ----- a) PCA()<br>\n",
    "    ----- b) TSNE()<br>**\n",
    "    \n"
   ]
  },
  {
   "cell_type": "code",
   "execution_count": 1,
   "id": "cf9d1f6a",
   "metadata": {},
   "outputs": [],
   "source": [
    "import warnings"
   ]
  },
  {
   "cell_type": "code",
   "execution_count": 2,
   "id": "3c69905d",
   "metadata": {},
   "outputs": [],
   "source": [
    "warnings.filterwarnings('ignore')"
   ]
  },
  {
   "cell_type": "markdown",
   "id": "9a234237",
   "metadata": {},
   "source": [
    "## <font color='green'>1. Data Preprocessing and Transformation</font>"
   ]
  },
  {
   "cell_type": "markdown",
   "id": "905d0635",
   "metadata": {},
   "source": [
    "### `a) StandardScaler()`"
   ]
  },
  {
   "cell_type": "markdown",
   "id": "e4b1b12b",
   "metadata": {},
   "source": [
    "In scikit-learn, the StandardScaler is a preprocessing tool that is used to standardize the features of a dataset. Standardization is a common preprocessing step in machine learning, where the mean of each feature is centered at zero and the standard deviation is scaled to 1. This is also known as Z-score normalization.\n",
    "\n",
    "The StandardScaler works by subtracting the mean of each feature from each observation and then dividing by the standard deviation. This ensures that each feature has a mean of zero and a standard deviation of one. This process is performed independently on each feature of the data.\n",
    "\n"
   ]
  },
  {
   "cell_type": "raw",
   "id": "caf7594d",
   "metadata": {},
   "source": []
  },
  {
   "cell_type": "markdown",
   "id": "d303dea2",
   "metadata": {},
   "source": [
    "The formula for Standard Scaler in markdown format is:<br>\n",
    "**x_scaled = (x - u) / s**<br>\n",
    "where:\n",
    "- x is a feature in the dataset\n",
    "- u is the mean of the feature values\n",
    "- s is the standard deviation of the feature values\n",
    "<br><br>\n",
    "The formula rescales the feature x so that it has a mean of 0 and a standard deviation of 1.\n"
   ]
  },
  {
   "cell_type": "code",
   "execution_count": 3,
   "id": "384cafe5",
   "metadata": {},
   "outputs": [],
   "source": [
    "import pandas as pd\n",
    "from sklearn.preprocessing import StandardScaler"
   ]
  },
  {
   "cell_type": "code",
   "execution_count": 4,
   "id": "49ec56b6",
   "metadata": {},
   "outputs": [],
   "source": [
    "data = {'A': [1, 2, 3, 4], 'B': [10, 20, 30, 40], 'C': [100, 200, 300, 400]}\n",
    "df = pd.DataFrame(data)\n",
    "de=df.copy()"
   ]
  },
  {
   "cell_type": "code",
   "execution_count": 5,
   "id": "7e1ad5f0",
   "metadata": {},
   "outputs": [],
   "source": [
    "# create an instance of StandardScaler class\n",
    "scaler = StandardScaler()"
   ]
  },
  {
   "cell_type": "code",
   "execution_count": 6,
   "id": "66e6c2ae",
   "metadata": {},
   "outputs": [],
   "source": [
    "# fit the scaler to the data and transform it\n",
    "scaled_data = scaler.fit_transform(df)"
   ]
  },
  {
   "cell_type": "code",
   "execution_count": 7,
   "id": "31d13691",
   "metadata": {},
   "outputs": [],
   "source": [
    "\n",
    "# convert the scaled data back to a dataframe\n",
    "scaled_df = pd.DataFrame(scaled_data, columns=df.columns)"
   ]
  },
  {
   "cell_type": "markdown",
   "id": "3b4f0a9d",
   "metadata": {},
   "source": [
    "#### Before Preprocessing"
   ]
  },
  {
   "cell_type": "code",
   "execution_count": 8,
   "id": "4909bb5d",
   "metadata": {},
   "outputs": [
    {
     "name": "stdout",
     "output_type": "stream",
     "text": [
      "   A   B    C\n",
      "0  1  10  100\n",
      "1  2  20  200\n",
      "2  3  30  300\n",
      "3  4  40  400\n"
     ]
    }
   ],
   "source": [
    "print(de)"
   ]
  },
  {
   "cell_type": "markdown",
   "id": "98809747",
   "metadata": {},
   "source": [
    "#### After preprocessing"
   ]
  },
  {
   "cell_type": "code",
   "execution_count": 9,
   "id": "2c469f28",
   "metadata": {},
   "outputs": [
    {
     "name": "stdout",
     "output_type": "stream",
     "text": [
      "          A         B         C\n",
      "0 -1.341641 -1.341641 -1.341641\n",
      "1 -0.447214 -0.447214 -0.447214\n",
      "2  0.447214  0.447214  0.447214\n",
      "3  1.341641  1.341641  1.341641\n"
     ]
    }
   ],
   "source": [
    "print(scaled_df)"
   ]
  },
  {
   "cell_type": "raw",
   "id": "426d0984",
   "metadata": {},
   "source": []
  },
  {
   "cell_type": "raw",
   "id": "3827212b",
   "metadata": {},
   "source": []
  },
  {
   "cell_type": "markdown",
   "id": "8053b494",
   "metadata": {},
   "source": [
    "### `b) MinMaxScaler()`"
   ]
  },
  {
   "cell_type": "markdown",
   "id": "e7148eac",
   "metadata": {},
   "source": [
    "MinMaxScaler is another data preprocessing technique used in machine learning to rescale the features of a dataset. Instead of standardizing the features like the Standard Scaler, MinMaxScaler scales the features to a fixed range between 0 and 1.\n",
    "\n",
    "The formula used by MinMaxScaler to rescale a feature x is given by:\n",
    "\n",
    "**x_scaled = (x - x_min) / (x_max - x_min)**\n",
    "\n",
    "where:\n",
    "- x_min and x_max are the minimum and maximum values of the feature x in the dataset.<br><br>\n",
    "The main purpose of using MinMaxScaler is to transform the features of a dataset so that they have similar ranges. This can be useful in many machine learning algorithms that rely on distance calculations, such as k-Nearest Neighbors (k-NN) and clustering algorithms. Without scaling the features, the distance between two points can be dominated by the features with the largest values, which can skew the results.\n"
   ]
  },
  {
   "cell_type": "code",
   "execution_count": 10,
   "id": "eeab9ba0",
   "metadata": {},
   "outputs": [],
   "source": [
    "from sklearn.preprocessing import MinMaxScaler"
   ]
  },
  {
   "cell_type": "code",
   "execution_count": 11,
   "id": "9da8cb1c",
   "metadata": {},
   "outputs": [],
   "source": [
    "df = pd.DataFrame({'A': [10, 20, 30, 40], 'B': [100, 200, 300, 400]})\n",
    "\n",
    "# create MinMaxScaler object\n",
    "scaler = MinMaxScaler()\n",
    "\n",
    "# fit and transform the data\n",
    "df_scaled = scaler.fit_transform(df)\n",
    "\n",
    "# convert the scaled data back to a dataframe\n",
    "df_scaled = pd.DataFrame(df_scaled, columns=df.columns)"
   ]
  },
  {
   "cell_type": "markdown",
   "id": "750b5de2",
   "metadata": {},
   "source": [
    "#### Before Preprocessing"
   ]
  },
  {
   "cell_type": "code",
   "execution_count": 12,
   "id": "8339517a",
   "metadata": {},
   "outputs": [
    {
     "name": "stdout",
     "output_type": "stream",
     "text": [
      "    A    B\n",
      "0  10  100\n",
      "1  20  200\n",
      "2  30  300\n",
      "3  40  400\n"
     ]
    }
   ],
   "source": [
    "print(df)"
   ]
  },
  {
   "cell_type": "markdown",
   "id": "9f761999",
   "metadata": {},
   "source": [
    "#### After Preprocessing"
   ]
  },
  {
   "cell_type": "code",
   "execution_count": 13,
   "id": "d2b7a194",
   "metadata": {},
   "outputs": [
    {
     "name": "stdout",
     "output_type": "stream",
     "text": [
      "          A         B\n",
      "0  0.000000  0.000000\n",
      "1  0.333333  0.333333\n",
      "2  0.666667  0.666667\n",
      "3  1.000000  1.000000\n"
     ]
    }
   ],
   "source": [
    "print(df_scaled)"
   ]
  },
  {
   "cell_type": "raw",
   "id": "330ee85b",
   "metadata": {},
   "source": []
  },
  {
   "cell_type": "raw",
   "id": "404b8d99",
   "metadata": {},
   "source": []
  },
  {
   "cell_type": "markdown",
   "id": "2f80d34b",
   "metadata": {},
   "source": [
    "### `c) One Hot Encoder()`"
   ]
  },
  {
   "cell_type": "markdown",
   "id": "1fa7cb1f",
   "metadata": {},
   "source": [
    "One hot encoding is a technique used to transform categorical data into a numerical format that can be used for machine learning algorithms. It involves converting each categorical value into a binary vector where only one bit is \"hot\" (set to 1) while the others are \"cold\" (set to 0).\n",
    "\n",
    "For example, suppose we have a categorical feature called \"color\" with three possible values: red, blue, and green. We can represent each value as a binary vector with three bits, where only one bit is hot. We might use the following encoding scheme:\n",
    "\n",
    "**Red: [1, 0, 0]<br>\n",
    "Blue: [0, 1, 0]<br>\n",
    "Green: [0, 0, 1]<br>**<br>\n",
    "So if we had a data point with the \"color\" feature equal to \"red\", we would represent it with the binary vector [1, 0, 0]. Similarly, if the \"color\" feature was \"green\", we would represent it with the binary vector [0, 0, 1].\n",
    "\n",
    "This technique is useful because many machine learning algorithms cannot handle categorical data directly. By converting categorical features to numerical features, we can use these algorithms on a wider range of datasets."
   ]
  },
  {
   "cell_type": "code",
   "execution_count": 14,
   "id": "9c2332f0",
   "metadata": {},
   "outputs": [],
   "source": [
    "from sklearn.preprocessing import OneHotEncoder"
   ]
  },
  {
   "cell_type": "code",
   "execution_count": 15,
   "id": "86afa13e",
   "metadata": {},
   "outputs": [
    {
     "data": {
      "text/html": [
       "<div>\n",
       "<style scoped>\n",
       "    .dataframe tbody tr th:only-of-type {\n",
       "        vertical-align: middle;\n",
       "    }\n",
       "\n",
       "    .dataframe tbody tr th {\n",
       "        vertical-align: top;\n",
       "    }\n",
       "\n",
       "    .dataframe thead th {\n",
       "        text-align: right;\n",
       "    }\n",
       "</style>\n",
       "<table border=\"1\" class=\"dataframe\">\n",
       "  <thead>\n",
       "    <tr style=\"text-align: right;\">\n",
       "      <th></th>\n",
       "      <th>color</th>\n",
       "    </tr>\n",
       "  </thead>\n",
       "  <tbody>\n",
       "    <tr>\n",
       "      <th>0</th>\n",
       "      <td>red</td>\n",
       "    </tr>\n",
       "    <tr>\n",
       "      <th>1</th>\n",
       "      <td>blue</td>\n",
       "    </tr>\n",
       "    <tr>\n",
       "      <th>2</th>\n",
       "      <td>green</td>\n",
       "    </tr>\n",
       "    <tr>\n",
       "      <th>3</th>\n",
       "      <td>red</td>\n",
       "    </tr>\n",
       "    <tr>\n",
       "      <th>4</th>\n",
       "      <td>blue</td>\n",
       "    </tr>\n",
       "  </tbody>\n",
       "</table>\n",
       "</div>"
      ],
      "text/plain": [
       "   color\n",
       "0    red\n",
       "1   blue\n",
       "2  green\n",
       "3    red\n",
       "4   blue"
      ]
     },
     "execution_count": 15,
     "metadata": {},
     "output_type": "execute_result"
    }
   ],
   "source": [
    "df = pd.DataFrame({'color': ['red', 'blue', 'green', 'red', 'blue']})\n",
    "df"
   ]
  },
  {
   "cell_type": "code",
   "execution_count": 16,
   "id": "18650f4b",
   "metadata": {},
   "outputs": [],
   "source": [
    "encoder = OneHotEncoder()"
   ]
  },
  {
   "cell_type": "code",
   "execution_count": 17,
   "id": "e8b06ad3",
   "metadata": {},
   "outputs": [],
   "source": [
    "df_encoded = encoder.fit_transform(df[['color']]).toarray()"
   ]
  },
  {
   "cell_type": "code",
   "execution_count": 18,
   "id": "01a81e2c",
   "metadata": {},
   "outputs": [
    {
     "data": {
      "text/plain": [
       "array([[0., 0., 1.],\n",
       "       [1., 0., 0.],\n",
       "       [0., 1., 0.],\n",
       "       [0., 0., 1.],\n",
       "       [1., 0., 0.]])"
      ]
     },
     "execution_count": 18,
     "metadata": {},
     "output_type": "execute_result"
    }
   ],
   "source": [
    "df_encoded"
   ]
  },
  {
   "cell_type": "code",
   "execution_count": null,
   "id": "16cd4d8a",
   "metadata": {},
   "outputs": [],
   "source": []
  },
  {
   "cell_type": "markdown",
   "id": "bba00fae",
   "metadata": {},
   "source": [
    "#### A function to get the feature names"
   ]
  },
  {
   "cell_type": "code",
   "execution_count": 19,
   "id": "dfcaf6d9",
   "metadata": {},
   "outputs": [
    {
     "data": {
      "text/plain": [
       "array(['x0_blue', 'x0_green', 'x0_red'], dtype=object)"
      ]
     },
     "execution_count": 19,
     "metadata": {},
     "output_type": "execute_result"
    }
   ],
   "source": [
    "encoder.get_feature_names()"
   ]
  },
  {
   "cell_type": "code",
   "execution_count": null,
   "id": "93a03444",
   "metadata": {},
   "outputs": [],
   "source": []
  },
  {
   "cell_type": "code",
   "execution_count": 20,
   "id": "91c14b52",
   "metadata": {},
   "outputs": [
    {
     "data": {
      "text/html": [
       "<div>\n",
       "<style scoped>\n",
       "    .dataframe tbody tr th:only-of-type {\n",
       "        vertical-align: middle;\n",
       "    }\n",
       "\n",
       "    .dataframe tbody tr th {\n",
       "        vertical-align: top;\n",
       "    }\n",
       "\n",
       "    .dataframe thead th {\n",
       "        text-align: right;\n",
       "    }\n",
       "</style>\n",
       "<table border=\"1\" class=\"dataframe\">\n",
       "  <thead>\n",
       "    <tr style=\"text-align: right;\">\n",
       "      <th></th>\n",
       "      <th>x0_blue</th>\n",
       "      <th>x0_green</th>\n",
       "      <th>x0_red</th>\n",
       "    </tr>\n",
       "  </thead>\n",
       "  <tbody>\n",
       "    <tr>\n",
       "      <th>0</th>\n",
       "      <td>0.0</td>\n",
       "      <td>0.0</td>\n",
       "      <td>1.0</td>\n",
       "    </tr>\n",
       "    <tr>\n",
       "      <th>1</th>\n",
       "      <td>1.0</td>\n",
       "      <td>0.0</td>\n",
       "      <td>0.0</td>\n",
       "    </tr>\n",
       "    <tr>\n",
       "      <th>2</th>\n",
       "      <td>0.0</td>\n",
       "      <td>1.0</td>\n",
       "      <td>0.0</td>\n",
       "    </tr>\n",
       "    <tr>\n",
       "      <th>3</th>\n",
       "      <td>0.0</td>\n",
       "      <td>0.0</td>\n",
       "      <td>1.0</td>\n",
       "    </tr>\n",
       "    <tr>\n",
       "      <th>4</th>\n",
       "      <td>1.0</td>\n",
       "      <td>0.0</td>\n",
       "      <td>0.0</td>\n",
       "    </tr>\n",
       "  </tbody>\n",
       "</table>\n",
       "</div>"
      ],
      "text/plain": [
       "   x0_blue  x0_green  x0_red\n",
       "0      0.0       0.0     1.0\n",
       "1      1.0       0.0     0.0\n",
       "2      0.0       1.0     0.0\n",
       "3      0.0       0.0     1.0\n",
       "4      1.0       0.0     0.0"
      ]
     },
     "execution_count": 20,
     "metadata": {},
     "output_type": "execute_result"
    }
   ],
   "source": [
    "df_encoded = pd.DataFrame(df_encoded, columns=encoder.get_feature_names())\n",
    "df_encoded"
   ]
  },
  {
   "cell_type": "code",
   "execution_count": null,
   "id": "51a4c3bf",
   "metadata": {},
   "outputs": [],
   "source": []
  },
  {
   "cell_type": "markdown",
   "id": "05739a9a",
   "metadata": {},
   "source": [
    "#### Let's concatenate the parent column with the encoded columns"
   ]
  },
  {
   "cell_type": "code",
   "execution_count": 21,
   "id": "20dda0b5",
   "metadata": {},
   "outputs": [
    {
     "data": {
      "text/html": [
       "<div>\n",
       "<style scoped>\n",
       "    .dataframe tbody tr th:only-of-type {\n",
       "        vertical-align: middle;\n",
       "    }\n",
       "\n",
       "    .dataframe tbody tr th {\n",
       "        vertical-align: top;\n",
       "    }\n",
       "\n",
       "    .dataframe thead th {\n",
       "        text-align: right;\n",
       "    }\n",
       "</style>\n",
       "<table border=\"1\" class=\"dataframe\">\n",
       "  <thead>\n",
       "    <tr style=\"text-align: right;\">\n",
       "      <th></th>\n",
       "      <th>color</th>\n",
       "      <th>x0_blue</th>\n",
       "      <th>x0_green</th>\n",
       "      <th>x0_red</th>\n",
       "    </tr>\n",
       "  </thead>\n",
       "  <tbody>\n",
       "    <tr>\n",
       "      <th>0</th>\n",
       "      <td>red</td>\n",
       "      <td>0.0</td>\n",
       "      <td>0.0</td>\n",
       "      <td>1.0</td>\n",
       "    </tr>\n",
       "    <tr>\n",
       "      <th>1</th>\n",
       "      <td>blue</td>\n",
       "      <td>1.0</td>\n",
       "      <td>0.0</td>\n",
       "      <td>0.0</td>\n",
       "    </tr>\n",
       "    <tr>\n",
       "      <th>2</th>\n",
       "      <td>green</td>\n",
       "      <td>0.0</td>\n",
       "      <td>1.0</td>\n",
       "      <td>0.0</td>\n",
       "    </tr>\n",
       "    <tr>\n",
       "      <th>3</th>\n",
       "      <td>red</td>\n",
       "      <td>0.0</td>\n",
       "      <td>0.0</td>\n",
       "      <td>1.0</td>\n",
       "    </tr>\n",
       "    <tr>\n",
       "      <th>4</th>\n",
       "      <td>blue</td>\n",
       "      <td>1.0</td>\n",
       "      <td>0.0</td>\n",
       "      <td>0.0</td>\n",
       "    </tr>\n",
       "  </tbody>\n",
       "</table>\n",
       "</div>"
      ],
      "text/plain": [
       "   color  x0_blue  x0_green  x0_red\n",
       "0    red      0.0       0.0     1.0\n",
       "1   blue      1.0       0.0     0.0\n",
       "2  green      0.0       1.0     0.0\n",
       "3    red      0.0       0.0     1.0\n",
       "4   blue      1.0       0.0     0.0"
      ]
     },
     "execution_count": 21,
     "metadata": {},
     "output_type": "execute_result"
    }
   ],
   "source": [
    "df_concatenated = pd.concat([df, df_encoded], axis=1)\n",
    "df_concatenated"
   ]
  },
  {
   "cell_type": "raw",
   "id": "0b593057",
   "metadata": {},
   "source": []
  },
  {
   "cell_type": "raw",
   "id": "38ac1ea6",
   "metadata": {},
   "source": []
  },
  {
   "cell_type": "markdown",
   "id": "6574f07f",
   "metadata": {},
   "source": [
    "### `d) Label Encoder`"
   ]
  },
  {
   "cell_type": "markdown",
   "id": "66e164e6",
   "metadata": {},
   "source": [
    "abel encoding is another technique used to transform categorical data into a numerical format that can be used for machine learning algorithms. In this method, each unique categorical value is assigned a unique integer label.\n",
    "\n",
    "For example, suppose we have the same categorical feature \"color\" with three possible values: red, blue, and green. We can assign each value a unique label as follows:\n",
    "\n",
    "- Red: 0\n",
    "- Blue: 1\n",
    "- Green: 2<br><br>\n",
    "So if we had a data point with the \"color\" feature equal to \"red\", we would represent it with the integer value 0. Similarly, if the \"color\" feature was \"green\", we would represent it with the integer value 2.<br><br>\n",
    "Label encoding can be useful in some cases, particularly if the categorical feature has a natural ordering, such as \"low\", \"medium\", and \"high\". However, it is important to note that assigning integer labels to categorical values can sometimes be misleading, as the numerical values do not necessarily correspond to any meaningful quantity. For example, if we were to assign integer labels to the colors of the rainbow (red, orange, yellow, green, blue, indigo, violet), the resulting labels would not correspond to any meaningful order.<br><br>\n",
    "Additionally, some machine learning algorithms may interpret the numerical labels as having an order, even if none exists. In such cases, one hot encoding may be a better choice to avoid such problems.\n"
   ]
  },
  {
   "cell_type": "raw",
   "id": "f3b21e59",
   "metadata": {},
   "source": []
  },
  {
   "cell_type": "code",
   "execution_count": 22,
   "id": "297c889d",
   "metadata": {},
   "outputs": [],
   "source": [
    "from sklearn.preprocessing import LabelEncoder"
   ]
  },
  {
   "cell_type": "code",
   "execution_count": 23,
   "id": "fbbaf0c5",
   "metadata": {},
   "outputs": [
    {
     "data": {
      "text/html": [
       "<div>\n",
       "<style scoped>\n",
       "    .dataframe tbody tr th:only-of-type {\n",
       "        vertical-align: middle;\n",
       "    }\n",
       "\n",
       "    .dataframe tbody tr th {\n",
       "        vertical-align: top;\n",
       "    }\n",
       "\n",
       "    .dataframe thead th {\n",
       "        text-align: right;\n",
       "    }\n",
       "</style>\n",
       "<table border=\"1\" class=\"dataframe\">\n",
       "  <thead>\n",
       "    <tr style=\"text-align: right;\">\n",
       "      <th></th>\n",
       "      <th>fruits</th>\n",
       "    </tr>\n",
       "  </thead>\n",
       "  <tbody>\n",
       "    <tr>\n",
       "      <th>0</th>\n",
       "      <td>apple</td>\n",
       "    </tr>\n",
       "    <tr>\n",
       "      <th>1</th>\n",
       "      <td>banana</td>\n",
       "    </tr>\n",
       "    <tr>\n",
       "      <th>2</th>\n",
       "      <td>orange</td>\n",
       "    </tr>\n",
       "    <tr>\n",
       "      <th>3</th>\n",
       "      <td>apple</td>\n",
       "    </tr>\n",
       "    <tr>\n",
       "      <th>4</th>\n",
       "      <td>orange</td>\n",
       "    </tr>\n",
       "  </tbody>\n",
       "</table>\n",
       "</div>"
      ],
      "text/plain": [
       "   fruits\n",
       "0   apple\n",
       "1  banana\n",
       "2  orange\n",
       "3   apple\n",
       "4  orange"
      ]
     },
     "execution_count": 23,
     "metadata": {},
     "output_type": "execute_result"
    }
   ],
   "source": [
    "data = {'fruits': ['apple', 'banana', 'orange', 'apple', 'orange']}\n",
    "df = pd.DataFrame(data)\n",
    "df\n"
   ]
  },
  {
   "cell_type": "code",
   "execution_count": 24,
   "id": "eaca2633",
   "metadata": {},
   "outputs": [],
   "source": [
    "le = LabelEncoder()\n",
    "df['fruits_encoded'] = le.fit_transform(df['fruits'])"
   ]
  },
  {
   "cell_type": "code",
   "execution_count": 25,
   "id": "cab2095f",
   "metadata": {},
   "outputs": [
    {
     "data": {
      "text/html": [
       "<div>\n",
       "<style scoped>\n",
       "    .dataframe tbody tr th:only-of-type {\n",
       "        vertical-align: middle;\n",
       "    }\n",
       "\n",
       "    .dataframe tbody tr th {\n",
       "        vertical-align: top;\n",
       "    }\n",
       "\n",
       "    .dataframe thead th {\n",
       "        text-align: right;\n",
       "    }\n",
       "</style>\n",
       "<table border=\"1\" class=\"dataframe\">\n",
       "  <thead>\n",
       "    <tr style=\"text-align: right;\">\n",
       "      <th></th>\n",
       "      <th>fruits</th>\n",
       "      <th>fruits_encoded</th>\n",
       "    </tr>\n",
       "  </thead>\n",
       "  <tbody>\n",
       "    <tr>\n",
       "      <th>0</th>\n",
       "      <td>apple</td>\n",
       "      <td>0</td>\n",
       "    </tr>\n",
       "    <tr>\n",
       "      <th>1</th>\n",
       "      <td>banana</td>\n",
       "      <td>1</td>\n",
       "    </tr>\n",
       "    <tr>\n",
       "      <th>2</th>\n",
       "      <td>orange</td>\n",
       "      <td>2</td>\n",
       "    </tr>\n",
       "    <tr>\n",
       "      <th>3</th>\n",
       "      <td>apple</td>\n",
       "      <td>0</td>\n",
       "    </tr>\n",
       "    <tr>\n",
       "      <th>4</th>\n",
       "      <td>orange</td>\n",
       "      <td>2</td>\n",
       "    </tr>\n",
       "  </tbody>\n",
       "</table>\n",
       "</div>"
      ],
      "text/plain": [
       "   fruits  fruits_encoded\n",
       "0   apple               0\n",
       "1  banana               1\n",
       "2  orange               2\n",
       "3   apple               0\n",
       "4  orange               2"
      ]
     },
     "execution_count": 25,
     "metadata": {},
     "output_type": "execute_result"
    }
   ],
   "source": [
    "df"
   ]
  },
  {
   "cell_type": "code",
   "execution_count": null,
   "id": "63dc4a99",
   "metadata": {},
   "outputs": [],
   "source": []
  },
  {
   "cell_type": "code",
   "execution_count": null,
   "id": "f40f240f",
   "metadata": {},
   "outputs": [],
   "source": []
  },
  {
   "cell_type": "markdown",
   "id": "90900ce8",
   "metadata": {},
   "source": [
    "### `e )Imputer()`"
   ]
  },
  {
   "cell_type": "markdown",
   "id": "57d2a828",
   "metadata": {},
   "source": [
    "The imputer function is a data preprocessing technique used to handle missing values in a dataset. It is used to fill in missing values in a dataset with a strategy that is chosen by the user. The imputer function is implemented in popular machine learning libraries such as scikit-learn and TensorFlow.\n",
    "\n",
    "The basic idea behind the imputer function is to replace missing values with an estimated value based on the other available data. There are different strategies that can be used for imputation, such as mean, median, mode, or a user-specified constant value."
   ]
  },
  {
   "cell_type": "code",
   "execution_count": 26,
   "id": "9bd3aaa9",
   "metadata": {},
   "outputs": [
    {
     "name": "stdout",
     "output_type": "stream",
     "text": [
      "Original dataframe:\n",
      "      A    B     C\n",
      "0  1.0  5.0   9.0\n",
      "1  2.0  NaN  10.0\n",
      "2  NaN  7.0  11.0\n",
      "3  4.0  8.0   NaN\n",
      "\n",
      "Imputed dataframe:\n",
      "           A         B     C\n",
      "0  1.000000  5.000000   9.0\n",
      "1  2.000000  6.666667  10.0\n",
      "2  2.333333  7.000000  11.0\n",
      "3  4.000000  8.000000  10.0\n"
     ]
    }
   ],
   "source": [
    "import numpy as np\n",
    "from sklearn.impute import SimpleImputer\n",
    "\n",
    "# Create a sample dataframe with missing values\n",
    "data = {'A': [1, 2, np.nan, 4],\n",
    "        'B': [5, np.nan, 7, 8],\n",
    "        'C': [9, 10, 11, np.nan]}\n",
    "df = pd.DataFrame(data)\n",
    "\n",
    "# Create an instance of the SimpleImputer class with a strategy of mean\n",
    "imputer = SimpleImputer(strategy='mean')  #we can use mode or median as well\n",
    "\n",
    "# Fit the imputer to the dataset\n",
    "imputer.fit(df)\n",
    "\n",
    "# Transform the dataset with the imputer\n",
    "imputed_data = imputer.transform(df)\n",
    "\n",
    "# Create a new pandas dataframe with the imputed data\n",
    "imputed_df = pd.DataFrame(imputed_data, columns=df.columns)\n",
    "\n",
    "# Print the original dataframe and the imputed dataframe\n",
    "print(\"Original dataframe:\\n\", df)\n",
    "print(\"\\nImputed dataframe:\\n\", imputed_df)"
   ]
  },
  {
   "cell_type": "code",
   "execution_count": null,
   "id": "81301107",
   "metadata": {},
   "outputs": [],
   "source": []
  },
  {
   "cell_type": "code",
   "execution_count": null,
   "id": "166fbd7b",
   "metadata": {},
   "outputs": [],
   "source": []
  },
  {
   "cell_type": "markdown",
   "id": "43da9986",
   "metadata": {},
   "source": [
    "## <font color='green'> 2. Model Selection and Evaluation</font>"
   ]
  },
  {
   "cell_type": "code",
   "execution_count": 27,
   "id": "71a1049c",
   "metadata": {},
   "outputs": [],
   "source": [
    "from sklearn.linear_model import LinearRegression"
   ]
  },
  {
   "cell_type": "markdown",
   "id": "4e9fdf54",
   "metadata": {},
   "source": [
    "### `a) train_test_split()`"
   ]
  },
  {
   "cell_type": "markdown",
   "id": "c2066354",
   "metadata": {},
   "source": [
    "`train_test_split`\n",
    "is a common technique used in machine learning to split a dataset into two parts, a training set and a testing set. The purpose of this split is to evaluate the performance of a machine learning model on new, unseen data.\n",
    "\n",
    "In order to train a machine learning model, it is necessary to have a set of data that the model can learn from. However, if we use all the available data for training, we won't have any data left to test the model's performance on unseen data. Therefore, it is important to split the dataset into a training set and a testing set.\n",
    "\n",
    "The training set is used to train the model, while the testing set is used to evaluate its performance. The model is trained on the training set, and then the testing set is used to test the model's ability to generalize to new, unseen data. The idea is to simulate how the model will perform when it is deployed in the real world, where it will be making predictions on data that it has never seen before.\n",
    "\n",
    "In scikit-learn, the train_test_split function can be used to split a dataset into a training set and a testing set. The function takes as input the dataset, as well as a parameter called test_size, which determines the proportion of the dataset that will be allocated to the testing set."
   ]
  },
  {
   "cell_type": "code",
   "execution_count": 28,
   "id": "f9301a8e",
   "metadata": {},
   "outputs": [
    {
     "data": {
      "text/html": [
       "<div>\n",
       "<style scoped>\n",
       "    .dataframe tbody tr th:only-of-type {\n",
       "        vertical-align: middle;\n",
       "    }\n",
       "\n",
       "    .dataframe tbody tr th {\n",
       "        vertical-align: top;\n",
       "    }\n",
       "\n",
       "    .dataframe thead th {\n",
       "        text-align: right;\n",
       "    }\n",
       "</style>\n",
       "<table border=\"1\" class=\"dataframe\">\n",
       "  <thead>\n",
       "    <tr style=\"text-align: right;\">\n",
       "      <th></th>\n",
       "      <th>Feature 1</th>\n",
       "      <th>Feature 2</th>\n",
       "      <th>Feature 3</th>\n",
       "      <th>Target</th>\n",
       "    </tr>\n",
       "  </thead>\n",
       "  <tbody>\n",
       "    <tr>\n",
       "      <th>0</th>\n",
       "      <td>230.1</td>\n",
       "      <td>37.8</td>\n",
       "      <td>69.2</td>\n",
       "      <td>22.1</td>\n",
       "    </tr>\n",
       "    <tr>\n",
       "      <th>1</th>\n",
       "      <td>44.5</td>\n",
       "      <td>39.3</td>\n",
       "      <td>45.1</td>\n",
       "      <td>10.4</td>\n",
       "    </tr>\n",
       "    <tr>\n",
       "      <th>2</th>\n",
       "      <td>17.2</td>\n",
       "      <td>45.9</td>\n",
       "      <td>69.3</td>\n",
       "      <td>9.3</td>\n",
       "    </tr>\n",
       "    <tr>\n",
       "      <th>3</th>\n",
       "      <td>151.5</td>\n",
       "      <td>41.3</td>\n",
       "      <td>58.5</td>\n",
       "      <td>18.5</td>\n",
       "    </tr>\n",
       "    <tr>\n",
       "      <th>4</th>\n",
       "      <td>180.8</td>\n",
       "      <td>10.8</td>\n",
       "      <td>58.4</td>\n",
       "      <td>12.9</td>\n",
       "    </tr>\n",
       "  </tbody>\n",
       "</table>\n",
       "</div>"
      ],
      "text/plain": [
       "   Feature 1  Feature 2  Feature 3  Target\n",
       "0      230.1       37.8       69.2    22.1\n",
       "1       44.5       39.3       45.1    10.4\n",
       "2       17.2       45.9       69.3     9.3\n",
       "3      151.5       41.3       58.5    18.5\n",
       "4      180.8       10.8       58.4    12.9"
      ]
     },
     "execution_count": 28,
     "metadata": {},
     "output_type": "execute_result"
    }
   ],
   "source": [
    "from sklearn.model_selection import train_test_split\n",
    "# Load your data into a DataFrame\n",
    "df = pd.read_csv('https://raw.githubusercontent.com/EshantDazz/Machine_Learning/main/Machine%20Learning%20Basics/Different%20Algorithms/multiple_linear_regression.csv')\n",
    "df.head()"
   ]
  },
  {
   "cell_type": "code",
   "execution_count": null,
   "id": "d31ed857",
   "metadata": {},
   "outputs": [],
   "source": []
  },
  {
   "cell_type": "code",
   "execution_count": 29,
   "id": "3727f00a",
   "metadata": {},
   "outputs": [],
   "source": [
    "#x would be the feature data\n",
    "#y would be our target data"
   ]
  },
  {
   "cell_type": "code",
   "execution_count": 30,
   "id": "5dc1317a",
   "metadata": {},
   "outputs": [
    {
     "data": {
      "text/html": [
       "<div>\n",
       "<style scoped>\n",
       "    .dataframe tbody tr th:only-of-type {\n",
       "        vertical-align: middle;\n",
       "    }\n",
       "\n",
       "    .dataframe tbody tr th {\n",
       "        vertical-align: top;\n",
       "    }\n",
       "\n",
       "    .dataframe thead th {\n",
       "        text-align: right;\n",
       "    }\n",
       "</style>\n",
       "<table border=\"1\" class=\"dataframe\">\n",
       "  <thead>\n",
       "    <tr style=\"text-align: right;\">\n",
       "      <th></th>\n",
       "      <th>Feature 1</th>\n",
       "      <th>Feature 2</th>\n",
       "      <th>Feature 3</th>\n",
       "    </tr>\n",
       "  </thead>\n",
       "  <tbody>\n",
       "    <tr>\n",
       "      <th>0</th>\n",
       "      <td>230.1</td>\n",
       "      <td>37.8</td>\n",
       "      <td>69.2</td>\n",
       "    </tr>\n",
       "    <tr>\n",
       "      <th>1</th>\n",
       "      <td>44.5</td>\n",
       "      <td>39.3</td>\n",
       "      <td>45.1</td>\n",
       "    </tr>\n",
       "    <tr>\n",
       "      <th>2</th>\n",
       "      <td>17.2</td>\n",
       "      <td>45.9</td>\n",
       "      <td>69.3</td>\n",
       "    </tr>\n",
       "    <tr>\n",
       "      <th>3</th>\n",
       "      <td>151.5</td>\n",
       "      <td>41.3</td>\n",
       "      <td>58.5</td>\n",
       "    </tr>\n",
       "    <tr>\n",
       "      <th>4</th>\n",
       "      <td>180.8</td>\n",
       "      <td>10.8</td>\n",
       "      <td>58.4</td>\n",
       "    </tr>\n",
       "  </tbody>\n",
       "</table>\n",
       "</div>"
      ],
      "text/plain": [
       "   Feature 1  Feature 2  Feature 3\n",
       "0      230.1       37.8       69.2\n",
       "1       44.5       39.3       45.1\n",
       "2       17.2       45.9       69.3\n",
       "3      151.5       41.3       58.5\n",
       "4      180.8       10.8       58.4"
      ]
     },
     "execution_count": 30,
     "metadata": {},
     "output_type": "execute_result"
    }
   ],
   "source": [
    "x=df.iloc[:,:-1]\n",
    "x.head()"
   ]
  },
  {
   "cell_type": "code",
   "execution_count": 31,
   "id": "518d4f6b",
   "metadata": {},
   "outputs": [
    {
     "data": {
      "text/plain": [
       "0    22.1\n",
       "1    10.4\n",
       "2     9.3\n",
       "3    18.5\n",
       "4    12.9\n",
       "Name: Target, dtype: float64"
      ]
     },
     "execution_count": 31,
     "metadata": {},
     "output_type": "execute_result"
    }
   ],
   "source": [
    "y=df['Target']\n",
    "y.head()"
   ]
  },
  {
   "cell_type": "raw",
   "id": "6af93493",
   "metadata": {},
   "source": []
  },
  {
   "cell_type": "code",
   "execution_count": 32,
   "id": "a43c6375",
   "metadata": {},
   "outputs": [
    {
     "name": "stdout",
     "output_type": "stream",
     "text": [
      "Training features shape: (160, 3)\n",
      "Testing features shape: (40, 3)\n",
      "Training target shape: (160,)\n",
      "Testing target shape: (40,)\n"
     ]
    }
   ],
   "source": [
    "\n",
    "x_train, x_test, y_train, y_test = train_test_split(x, y, test_size=0.2, random_state=42)\n",
    "\n",
    "print(f\"Training features shape: {x_train.shape}\")\n",
    "print(f\"Testing features shape: {x_test.shape}\")\n",
    "print(f\"Training target shape: {y_train.shape}\")\n",
    "print(f\"Testing target shape: {y_test.shape}\")"
   ]
  },
  {
   "cell_type": "code",
   "execution_count": null,
   "id": "35c5f242",
   "metadata": {},
   "outputs": [],
   "source": []
  },
  {
   "cell_type": "code",
   "execution_count": 33,
   "id": "1a9c200a",
   "metadata": {},
   "outputs": [],
   "source": [
    "#Lets us see what mean squared error is\n",
    "from sklearn.metrics import mean_squared_error"
   ]
  },
  {
   "cell_type": "markdown",
   "id": "ac74f158",
   "metadata": {},
   "source": [
    "<div class='alert alert-success'>Mean Squared Error (MSE) is a popular metric used to evaluate the performance of a regression model. It measures the average squared difference between the predicted values and the actual values of the target variable.**\n",
    "\n",
    "- **The formula for MSE is:**\n",
    "\n",
    "**`MSE = 1/n * Σ (y_pred - y_true)^2`**\n",
    "\n",
    "where:\n",
    "\n",
    "- n is the number of samples\n",
    "- y_pred is the predicted value of the target variable\n",
    "- y_true is the true value of the target variable<br><br>\n",
    "In simpler terms, MSE measures the average of the squared differences between the predicted and actual values of the target variable. A lower MSE indicates that the model is better at predicting the target variable, as it means that the predicted values are closer to the true values.</div>\n",
    "\n"
   ]
  },
  {
   "cell_type": "code",
   "execution_count": 34,
   "id": "d7904d51",
   "metadata": {},
   "outputs": [
    {
     "name": "stdout",
     "output_type": "stream",
     "text": [
      "Accuracy is 96.826%\n"
     ]
    }
   ],
   "source": [
    "lr=LinearRegression()\n",
    "\n",
    "#Training\n",
    "lr.fit(x_train,y_train)\n",
    "\n",
    "\n",
    "#Predicting the outputs with our test data\n",
    "pred=lr.predict(x_test)\n",
    "\n",
    "\n",
    "\n",
    "cost=mean_squared_error(y_test,pred)\n",
    "#Cost is basically the error we have got in our prediction\n",
    "#mean_squared_error is a technique to find the error in our prediction\n",
    "print(f\"Accuracy is {round(100-cost,3)}%\")\n",
    "\n"
   ]
  },
  {
   "cell_type": "code",
   "execution_count": null,
   "id": "09b57530",
   "metadata": {},
   "outputs": [],
   "source": []
  },
  {
   "cell_type": "markdown",
   "id": "6838cad9",
   "metadata": {},
   "source": [
    "### `b) KFold()`"
   ]
  },
  {
   "cell_type": "code",
   "execution_count": null,
   "id": "a6d34d7c",
   "metadata": {},
   "outputs": [],
   "source": []
  },
  {
   "cell_type": "code",
   "execution_count": 35,
   "id": "e17a7f5a",
   "metadata": {},
   "outputs": [],
   "source": [
    "from sklearn.model_selection import KFold"
   ]
  },
  {
   "cell_type": "code",
   "execution_count": 36,
   "id": "599464c8",
   "metadata": {},
   "outputs": [
    {
     "data": {
      "text/html": [
       "<div>\n",
       "<style scoped>\n",
       "    .dataframe tbody tr th:only-of-type {\n",
       "        vertical-align: middle;\n",
       "    }\n",
       "\n",
       "    .dataframe tbody tr th {\n",
       "        vertical-align: top;\n",
       "    }\n",
       "\n",
       "    .dataframe thead th {\n",
       "        text-align: right;\n",
       "    }\n",
       "</style>\n",
       "<table border=\"1\" class=\"dataframe\">\n",
       "  <thead>\n",
       "    <tr style=\"text-align: right;\">\n",
       "      <th></th>\n",
       "      <th>Feature 1</th>\n",
       "      <th>Feature 2</th>\n",
       "      <th>Feature 3</th>\n",
       "      <th>Target</th>\n",
       "    </tr>\n",
       "  </thead>\n",
       "  <tbody>\n",
       "    <tr>\n",
       "      <th>0</th>\n",
       "      <td>230.1</td>\n",
       "      <td>37.8</td>\n",
       "      <td>69.2</td>\n",
       "      <td>22.1</td>\n",
       "    </tr>\n",
       "    <tr>\n",
       "      <th>1</th>\n",
       "      <td>44.5</td>\n",
       "      <td>39.3</td>\n",
       "      <td>45.1</td>\n",
       "      <td>10.4</td>\n",
       "    </tr>\n",
       "    <tr>\n",
       "      <th>2</th>\n",
       "      <td>17.2</td>\n",
       "      <td>45.9</td>\n",
       "      <td>69.3</td>\n",
       "      <td>9.3</td>\n",
       "    </tr>\n",
       "    <tr>\n",
       "      <th>3</th>\n",
       "      <td>151.5</td>\n",
       "      <td>41.3</td>\n",
       "      <td>58.5</td>\n",
       "      <td>18.5</td>\n",
       "    </tr>\n",
       "    <tr>\n",
       "      <th>4</th>\n",
       "      <td>180.8</td>\n",
       "      <td>10.8</td>\n",
       "      <td>58.4</td>\n",
       "      <td>12.9</td>\n",
       "    </tr>\n",
       "  </tbody>\n",
       "</table>\n",
       "</div>"
      ],
      "text/plain": [
       "   Feature 1  Feature 2  Feature 3  Target\n",
       "0      230.1       37.8       69.2    22.1\n",
       "1       44.5       39.3       45.1    10.4\n",
       "2       17.2       45.9       69.3     9.3\n",
       "3      151.5       41.3       58.5    18.5\n",
       "4      180.8       10.8       58.4    12.9"
      ]
     },
     "execution_count": 36,
     "metadata": {},
     "output_type": "execute_result"
    }
   ],
   "source": [
    "df.head()"
   ]
  },
  {
   "cell_type": "code",
   "execution_count": 37,
   "id": "4e4ecaa7",
   "metadata": {},
   "outputs": [
    {
     "data": {
      "text/html": [
       "<div>\n",
       "<style scoped>\n",
       "    .dataframe tbody tr th:only-of-type {\n",
       "        vertical-align: middle;\n",
       "    }\n",
       "\n",
       "    .dataframe tbody tr th {\n",
       "        vertical-align: top;\n",
       "    }\n",
       "\n",
       "    .dataframe thead th {\n",
       "        text-align: right;\n",
       "    }\n",
       "</style>\n",
       "<table border=\"1\" class=\"dataframe\">\n",
       "  <thead>\n",
       "    <tr style=\"text-align: right;\">\n",
       "      <th></th>\n",
       "      <th>Feature 1</th>\n",
       "      <th>Feature 2</th>\n",
       "      <th>Feature 3</th>\n",
       "    </tr>\n",
       "  </thead>\n",
       "  <tbody>\n",
       "    <tr>\n",
       "      <th>0</th>\n",
       "      <td>230.1</td>\n",
       "      <td>37.8</td>\n",
       "      <td>69.2</td>\n",
       "    </tr>\n",
       "    <tr>\n",
       "      <th>1</th>\n",
       "      <td>44.5</td>\n",
       "      <td>39.3</td>\n",
       "      <td>45.1</td>\n",
       "    </tr>\n",
       "    <tr>\n",
       "      <th>2</th>\n",
       "      <td>17.2</td>\n",
       "      <td>45.9</td>\n",
       "      <td>69.3</td>\n",
       "    </tr>\n",
       "    <tr>\n",
       "      <th>3</th>\n",
       "      <td>151.5</td>\n",
       "      <td>41.3</td>\n",
       "      <td>58.5</td>\n",
       "    </tr>\n",
       "    <tr>\n",
       "      <th>4</th>\n",
       "      <td>180.8</td>\n",
       "      <td>10.8</td>\n",
       "      <td>58.4</td>\n",
       "    </tr>\n",
       "  </tbody>\n",
       "</table>\n",
       "</div>"
      ],
      "text/plain": [
       "   Feature 1  Feature 2  Feature 3\n",
       "0      230.1       37.8       69.2\n",
       "1       44.5       39.3       45.1\n",
       "2       17.2       45.9       69.3\n",
       "3      151.5       41.3       58.5\n",
       "4      180.8       10.8       58.4"
      ]
     },
     "execution_count": 37,
     "metadata": {},
     "output_type": "execute_result"
    }
   ],
   "source": [
    "x.head()"
   ]
  },
  {
   "cell_type": "code",
   "execution_count": 38,
   "id": "c322922d",
   "metadata": {},
   "outputs": [
    {
     "data": {
      "text/plain": [
       "0    22.1\n",
       "1    10.4\n",
       "2     9.3\n",
       "3    18.5\n",
       "4    12.9\n",
       "Name: Target, dtype: float64"
      ]
     },
     "execution_count": 38,
     "metadata": {},
     "output_type": "execute_result"
    }
   ],
   "source": [
    "y.head()"
   ]
  },
  {
   "cell_type": "code",
   "execution_count": null,
   "id": "c1cfaac7",
   "metadata": {},
   "outputs": [],
   "source": []
  },
  {
   "cell_type": "code",
   "execution_count": 39,
   "id": "0a24b958",
   "metadata": {},
   "outputs": [],
   "source": [
    "##Let us see what cross validation score is\n",
    "from sklearn.model_selection import cross_val_score"
   ]
  },
  {
   "cell_type": "markdown",
   "id": "833d6670",
   "metadata": {},
   "source": [
    "**<div class='alert alert-success'>Cross-validation is a technique used to evaluate the performance of a machine learning model on a limited amount of data. The idea behind cross-validation is to split the available data into multiple subsets (folds), and use each fold as a validation set while training the model on the remaining folds.</div>**\n",
    "\n",
    "**<div class='alert alert-success'>Cross-validation can help to reduce the variance of the model evaluation, as it allows the model to be tested on different subsets of the data. This can be particularly useful when the amount of available data is limited, as it provides a way to make the most out of the available data.</div>**"
   ]
  },
  {
   "cell_type": "code",
   "execution_count": 40,
   "id": "65470605",
   "metadata": {},
   "outputs": [],
   "source": [
    "#creating the object\n",
    "kf=KFold(n_splits=10,shuffle=True,random_state=42)  #We are making 10 splits"
   ]
  },
  {
   "cell_type": "code",
   "execution_count": 41,
   "id": "03ab952a",
   "metadata": {},
   "outputs": [
    {
     "name": "stdout",
     "output_type": "stream",
     "text": [
      "All 10 Accuracy are =  [0.90469248 0.8946926  0.71976732 0.86420469 0.93868262 0.93194788\n",
      " 0.92284837 0.8750849  0.93814699 0.74132062]\n"
     ]
    }
   ],
   "source": [
    "lr=LinearRegression()\n",
    "\n",
    "results=cross_val_score(lr,x,y,cv=kf)\n",
    "print(\"All 10 Accuracy are = \",results)"
   ]
  },
  {
   "cell_type": "code",
   "execution_count": 42,
   "id": "5615d1f6",
   "metadata": {},
   "outputs": [
    {
     "name": "stdout",
     "output_type": "stream",
     "text": [
      "The average accuracy =  0.8731388460886025\n"
     ]
    }
   ],
   "source": [
    "print(\"The average accuracy = \",np.mean(results))"
   ]
  },
  {
   "cell_type": "code",
   "execution_count": null,
   "id": "1c9e1a2d",
   "metadata": {},
   "outputs": [],
   "source": []
  },
  {
   "cell_type": "markdown",
   "id": "3327cbbb",
   "metadata": {},
   "source": [
    "### `c) matrix.accuracy_score():`"
   ]
  },
  {
   "cell_type": "markdown",
   "id": "33256430",
   "metadata": {},
   "source": [
    "The metrics.accuracy_score() function is a method in the scikit-learn library that is used to calculate the accuracy of a classification model's predictions. It takes two arguments: y_true and y_pred. y_true is an array of the true labels for a set of data points, and y_pred is an array of the predicted labels for the same set of data points. The function compares these two arrays and returns the proportion of correct predictions."
   ]
  },
  {
   "cell_type": "code",
   "execution_count": 43,
   "id": "fbd17637",
   "metadata": {},
   "outputs": [
    {
     "name": "stdout",
     "output_type": "stream",
     "text": [
      "Accuracy: 0.5\n"
     ]
    }
   ],
   "source": [
    "from sklearn import metrics\n",
    "\n",
    "# True labels for a set of data points\n",
    "y_true = [0, 1, 1, 0, 1, 0]\n",
    "\n",
    "# Predicted labels for the same set of data points\n",
    "y_pred = [0, 1, 0, 0, 0, 1]\n",
    "\n",
    "# Calculate accuracy score\n",
    "accuracy = metrics.accuracy_score(y_true, y_pred)\n",
    "\n",
    "# Print the accuracy score\n",
    "print(\"Accuracy:\", accuracy)"
   ]
  },
  {
   "cell_type": "raw",
   "id": "1ff33f0c",
   "metadata": {},
   "source": []
  },
  {
   "cell_type": "markdown",
   "id": "248754fa",
   "metadata": {},
   "source": [
    "This means that the model's predictions were correct for 50% of the data points."
   ]
  },
  {
   "cell_type": "code",
   "execution_count": null,
   "id": "05d8a64b",
   "metadata": {},
   "outputs": [],
   "source": []
  },
  {
   "cell_type": "markdown",
   "id": "0fc93b71",
   "metadata": {},
   "source": [
    "### `d) metrics.mean_squared_error`"
   ]
  },
  {
   "cell_type": "markdown",
   "id": "26cd5fd1",
   "metadata": {},
   "source": [
    "The metrics.mean_squared_error function is a method from the scikit-learn library that calculates the mean squared error between the true and predicted values of a regression model. Mean squared error (MSE) is a commonly used metric to evaluate the performance of a regression model."
   ]
  },
  {
   "cell_type": "code",
   "execution_count": 44,
   "id": "877e80f8",
   "metadata": {},
   "outputs": [
    {
     "name": "stdout",
     "output_type": "stream",
     "text": [
      "Mean Squared Error: 0.1\n"
     ]
    }
   ],
   "source": [
    "from sklearn import metrics\n",
    "import numpy as np\n",
    "\n",
    "# True values for a set of data points\n",
    "y_true = np.array([1.2, 2.4, 3.6, 4.8, 6.0])\n",
    "\n",
    "# Predicted values for the same set of data points\n",
    "y_pred = np.array([1.0, 2.5, 3.2, 4.6, 5.5])\n",
    "\n",
    "# Calculate mean squared error\n",
    "mse = metrics.mean_squared_error(y_true, y_pred)\n",
    "\n",
    "# Print the mean squared error\n",
    "print(\"Mean Squared Error:\", mse)"
   ]
  },
  {
   "cell_type": "markdown",
   "id": "f5bf1dff",
   "metadata": {},
   "source": [
    "This means that the average squared difference between the true and predicted values is 0.1. Lower values of MSE indicate better performance of the regression model."
   ]
  },
  {
   "cell_type": "code",
   "execution_count": null,
   "id": "ad67a5a5",
   "metadata": {},
   "outputs": [],
   "source": []
  },
  {
   "cell_type": "code",
   "execution_count": null,
   "id": "e4c48705",
   "metadata": {},
   "outputs": [],
   "source": []
  },
  {
   "cell_type": "markdown",
   "id": "13c58949",
   "metadata": {},
   "source": [
    "## <font color='green'>3. Regression Models</font>"
   ]
  },
  {
   "cell_type": "markdown",
   "id": "97efcd43",
   "metadata": {},
   "source": [
    "### `a) Linear Regression`"
   ]
  },
  {
   "cell_type": "markdown",
   "id": "22e5df78",
   "metadata": {},
   "source": [
    "Linear regression is a statistical method used to find the relationship between a dependent variable and one or more independent variables. The goal is to find the best-fit line or curve that describes this relationship. The model assumes a linear relationship between the variables and estimates the coefficients of the independent variables to predict the dependent variable. Linear regression is used to model and predict continuous outcomes and is commonly used in fields such as economics, social sciences, and machine learning.\n",
    "\n",
    "\n",
    "\n"
   ]
  },
  {
   "cell_type": "code",
   "execution_count": 45,
   "id": "0a4ed555",
   "metadata": {},
   "outputs": [],
   "source": [
    "df = pd.read_csv('https://raw.githubusercontent.com/EshantDazz/Machine_Learning/main/Machine%20Learning%20Basics/Different%20Algorithms/multiple_linear_regression.csv')"
   ]
  },
  {
   "cell_type": "code",
   "execution_count": 46,
   "id": "976f4398",
   "metadata": {},
   "outputs": [
    {
     "data": {
      "text/html": [
       "<div>\n",
       "<style scoped>\n",
       "    .dataframe tbody tr th:only-of-type {\n",
       "        vertical-align: middle;\n",
       "    }\n",
       "\n",
       "    .dataframe tbody tr th {\n",
       "        vertical-align: top;\n",
       "    }\n",
       "\n",
       "    .dataframe thead th {\n",
       "        text-align: right;\n",
       "    }\n",
       "</style>\n",
       "<table border=\"1\" class=\"dataframe\">\n",
       "  <thead>\n",
       "    <tr style=\"text-align: right;\">\n",
       "      <th></th>\n",
       "      <th>Feature 1</th>\n",
       "      <th>Feature 2</th>\n",
       "      <th>Feature 3</th>\n",
       "      <th>Target</th>\n",
       "    </tr>\n",
       "  </thead>\n",
       "  <tbody>\n",
       "    <tr>\n",
       "      <th>0</th>\n",
       "      <td>230.1</td>\n",
       "      <td>37.8</td>\n",
       "      <td>69.2</td>\n",
       "      <td>22.1</td>\n",
       "    </tr>\n",
       "    <tr>\n",
       "      <th>1</th>\n",
       "      <td>44.5</td>\n",
       "      <td>39.3</td>\n",
       "      <td>45.1</td>\n",
       "      <td>10.4</td>\n",
       "    </tr>\n",
       "    <tr>\n",
       "      <th>2</th>\n",
       "      <td>17.2</td>\n",
       "      <td>45.9</td>\n",
       "      <td>69.3</td>\n",
       "      <td>9.3</td>\n",
       "    </tr>\n",
       "    <tr>\n",
       "      <th>3</th>\n",
       "      <td>151.5</td>\n",
       "      <td>41.3</td>\n",
       "      <td>58.5</td>\n",
       "      <td>18.5</td>\n",
       "    </tr>\n",
       "    <tr>\n",
       "      <th>4</th>\n",
       "      <td>180.8</td>\n",
       "      <td>10.8</td>\n",
       "      <td>58.4</td>\n",
       "      <td>12.9</td>\n",
       "    </tr>\n",
       "  </tbody>\n",
       "</table>\n",
       "</div>"
      ],
      "text/plain": [
       "   Feature 1  Feature 2  Feature 3  Target\n",
       "0      230.1       37.8       69.2    22.1\n",
       "1       44.5       39.3       45.1    10.4\n",
       "2       17.2       45.9       69.3     9.3\n",
       "3      151.5       41.3       58.5    18.5\n",
       "4      180.8       10.8       58.4    12.9"
      ]
     },
     "execution_count": 46,
     "metadata": {},
     "output_type": "execute_result"
    }
   ],
   "source": [
    "df.head()"
   ]
  },
  {
   "cell_type": "code",
   "execution_count": null,
   "id": "86c829b6",
   "metadata": {},
   "outputs": [],
   "source": []
  },
  {
   "cell_type": "markdown",
   "id": "57f78793",
   "metadata": {},
   "source": [
    "We are using the same dataframe which we used earlier"
   ]
  },
  {
   "cell_type": "code",
   "execution_count": 47,
   "id": "eb8487b8",
   "metadata": {},
   "outputs": [],
   "source": [
    "from sklearn.linear_model import LinearRegression "
   ]
  },
  {
   "cell_type": "code",
   "execution_count": 48,
   "id": "307ef08b",
   "metadata": {},
   "outputs": [],
   "source": [
    "lr=LinearRegression ()\n",
    "\n",
    "x=df.iloc[:, df.columns != \"Target\"]\n",
    "y=df[\"Target\"]\n"
   ]
  },
  {
   "cell_type": "code",
   "execution_count": 49,
   "id": "23535e22",
   "metadata": {},
   "outputs": [
    {
     "data": {
      "text/html": [
       "<div>\n",
       "<style scoped>\n",
       "    .dataframe tbody tr th:only-of-type {\n",
       "        vertical-align: middle;\n",
       "    }\n",
       "\n",
       "    .dataframe tbody tr th {\n",
       "        vertical-align: top;\n",
       "    }\n",
       "\n",
       "    .dataframe thead th {\n",
       "        text-align: right;\n",
       "    }\n",
       "</style>\n",
       "<table border=\"1\" class=\"dataframe\">\n",
       "  <thead>\n",
       "    <tr style=\"text-align: right;\">\n",
       "      <th></th>\n",
       "      <th>Feature 1</th>\n",
       "      <th>Feature 2</th>\n",
       "      <th>Feature 3</th>\n",
       "    </tr>\n",
       "  </thead>\n",
       "  <tbody>\n",
       "    <tr>\n",
       "      <th>0</th>\n",
       "      <td>230.1</td>\n",
       "      <td>37.8</td>\n",
       "      <td>69.2</td>\n",
       "    </tr>\n",
       "    <tr>\n",
       "      <th>1</th>\n",
       "      <td>44.5</td>\n",
       "      <td>39.3</td>\n",
       "      <td>45.1</td>\n",
       "    </tr>\n",
       "    <tr>\n",
       "      <th>2</th>\n",
       "      <td>17.2</td>\n",
       "      <td>45.9</td>\n",
       "      <td>69.3</td>\n",
       "    </tr>\n",
       "    <tr>\n",
       "      <th>3</th>\n",
       "      <td>151.5</td>\n",
       "      <td>41.3</td>\n",
       "      <td>58.5</td>\n",
       "    </tr>\n",
       "    <tr>\n",
       "      <th>4</th>\n",
       "      <td>180.8</td>\n",
       "      <td>10.8</td>\n",
       "      <td>58.4</td>\n",
       "    </tr>\n",
       "  </tbody>\n",
       "</table>\n",
       "</div>"
      ],
      "text/plain": [
       "   Feature 1  Feature 2  Feature 3\n",
       "0      230.1       37.8       69.2\n",
       "1       44.5       39.3       45.1\n",
       "2       17.2       45.9       69.3\n",
       "3      151.5       41.3       58.5\n",
       "4      180.8       10.8       58.4"
      ]
     },
     "execution_count": 49,
     "metadata": {},
     "output_type": "execute_result"
    }
   ],
   "source": [
    "x.head()"
   ]
  },
  {
   "cell_type": "code",
   "execution_count": 50,
   "id": "709cf46c",
   "metadata": {},
   "outputs": [
    {
     "data": {
      "text/plain": [
       "0    22.1\n",
       "1    10.4\n",
       "2     9.3\n",
       "3    18.5\n",
       "4    12.9\n",
       "Name: Target, dtype: float64"
      ]
     },
     "execution_count": 50,
     "metadata": {},
     "output_type": "execute_result"
    }
   ],
   "source": [
    "y.head()"
   ]
  },
  {
   "cell_type": "code",
   "execution_count": null,
   "id": "a28d797e",
   "metadata": {},
   "outputs": [],
   "source": []
  },
  {
   "cell_type": "code",
   "execution_count": 51,
   "id": "c8deb117",
   "metadata": {},
   "outputs": [],
   "source": [
    "from sklearn.model_selection import train_test_split"
   ]
  },
  {
   "cell_type": "code",
   "execution_count": 52,
   "id": "051346f5",
   "metadata": {},
   "outputs": [],
   "source": [
    "xtrain,xtest,ytrain,ytest=train_test_split(x,y,test_size=0.2)"
   ]
  },
  {
   "cell_type": "code",
   "execution_count": 53,
   "id": "cccbff46",
   "metadata": {},
   "outputs": [
    {
     "data": {
      "text/plain": [
       "LinearRegression()"
      ]
     },
     "execution_count": 53,
     "metadata": {},
     "output_type": "execute_result"
    }
   ],
   "source": [
    "lr.fit(xtrain,ytrain)"
   ]
  },
  {
   "cell_type": "code",
   "execution_count": null,
   "id": "aa4b7b33",
   "metadata": {},
   "outputs": [],
   "source": []
  },
  {
   "cell_type": "code",
   "execution_count": 54,
   "id": "294f6c03",
   "metadata": {},
   "outputs": [],
   "source": [
    "#Let us do the prediction now "
   ]
  },
  {
   "cell_type": "code",
   "execution_count": 55,
   "id": "8dbec33c",
   "metadata": {},
   "outputs": [],
   "source": [
    "pred=lr.predict(xtest)"
   ]
  },
  {
   "cell_type": "code",
   "execution_count": null,
   "id": "5edd29af",
   "metadata": {},
   "outputs": [],
   "source": []
  },
  {
   "cell_type": "markdown",
   "id": "b366f2ce",
   "metadata": {},
   "source": [
    "#### `Lets  see the accuracy now`"
   ]
  },
  {
   "cell_type": "code",
   "execution_count": 56,
   "id": "3012417d",
   "metadata": {},
   "outputs": [],
   "source": [
    "from sklearn.metrics import mean_squared_error"
   ]
  },
  {
   "cell_type": "code",
   "execution_count": 57,
   "id": "eeeb6e43",
   "metadata": {},
   "outputs": [
    {
     "name": "stdout",
     "output_type": "stream",
     "text": [
      "Accuracy is 96.878%\n"
     ]
    }
   ],
   "source": [
    "cost=mean_squared_error(ytest,pred)\n",
    "print(f\"Accuracy is {round(100-cost,3)}%\")"
   ]
  },
  {
   "cell_type": "code",
   "execution_count": null,
   "id": "5e5fcbee",
   "metadata": {},
   "outputs": [],
   "source": []
  },
  {
   "cell_type": "code",
   "execution_count": null,
   "id": "3c47dcae",
   "metadata": {},
   "outputs": [],
   "source": []
  },
  {
   "cell_type": "markdown",
   "id": "47129bbf",
   "metadata": {},
   "source": [
    "### `b) Lasso()`"
   ]
  },
  {
   "cell_type": "markdown",
   "id": "dafc5df9",
   "metadata": {},
   "source": [
    "Lasso regression, also known as L1 regularization, is a type of linear regression that helps to prevent overfitting by adding a penalty to the sum of absolute values of the regression coefficients. This penalty term shrinks the coefficients of less important features towards zero, effectively removing them from the model and allowing only the most important features to remain.\n",
    "\n",
    "The amount of shrinkage is controlled by a hyperparameter called alpha, which balances the tradeoff between fitting the data well and keeping the model simple. Larger values of alpha result in more aggressive shrinkage, while smaller values result in less shrinkage and a model that is closer to ordinary least squares regression.\n",
    "\n",
    "Lasso regression is commonly used in machine learning and statistical modeling, particularly when dealing with high-dimensional datasets with many correlated features. It can help to improve the interpretability of models and reduce the risk of overfitting, but it may also lead to biased estimates if the true coefficients are not sparse."
   ]
  },
  {
   "cell_type": "code",
   "execution_count": 58,
   "id": "393aec61",
   "metadata": {},
   "outputs": [],
   "source": [
    "from sklearn.linear_model import Lasso"
   ]
  },
  {
   "cell_type": "code",
   "execution_count": 59,
   "id": "edf55d1f",
   "metadata": {},
   "outputs": [],
   "source": [
    "l=Lasso()"
   ]
  },
  {
   "cell_type": "code",
   "execution_count": 60,
   "id": "37f79002",
   "metadata": {},
   "outputs": [
    {
     "data": {
      "text/plain": [
       "Lasso()"
      ]
     },
     "execution_count": 60,
     "metadata": {},
     "output_type": "execute_result"
    }
   ],
   "source": [
    "l.fit(xtrain,ytrain)"
   ]
  },
  {
   "cell_type": "code",
   "execution_count": null,
   "id": "64894775",
   "metadata": {},
   "outputs": [],
   "source": []
  },
  {
   "cell_type": "code",
   "execution_count": 61,
   "id": "962d7529",
   "metadata": {},
   "outputs": [],
   "source": [
    "pred=l.predict(xtest)"
   ]
  },
  {
   "cell_type": "code",
   "execution_count": 62,
   "id": "d568a80d",
   "metadata": {},
   "outputs": [
    {
     "name": "stdout",
     "output_type": "stream",
     "text": [
      "Accuracy is 96.965%\n"
     ]
    }
   ],
   "source": [
    "cost=mean_squared_error(ytest,pred)\n",
    "print(f\"Accuracy is {round(100-cost,3)}%\")"
   ]
  },
  {
   "cell_type": "code",
   "execution_count": null,
   "id": "e6c81b4c",
   "metadata": {},
   "outputs": [],
   "source": []
  },
  {
   "cell_type": "markdown",
   "id": "e764ac12",
   "metadata": {},
   "source": [
    "### `c) Ridge()`"
   ]
  },
  {
   "cell_type": "markdown",
   "id": "3f74167f",
   "metadata": {},
   "source": [
    "Ridge regression, also known as L2 regularization, is a type of linear regression that helps to prevent overfitting by adding a penalty to the sum of squared values of the regression coefficients. This penalty term shrinks the coefficients of less important features towards zero, effectively reducing the magnitude of all coefficients and improving the stability of the model.\n",
    "\n",
    "The amount of shrinkage is controlled by a hyperparameter called alpha, which balances the tradeoff between fitting the data well and keeping the model simple. Larger values of alpha result in more aggressive shrinkage, while smaller values result in less shrinkage and a model that is closer to ordinary least squares regression.\n",
    "\n",
    "Ridge regression is commonly used in machine learning and statistical modeling, particularly when dealing with high-dimensional datasets with many correlated features. It can help to improve the generalization performance of models and reduce the risk of overfitting, but it may also lead to biased estimates if the true coefficients are not sparse."
   ]
  },
  {
   "cell_type": "code",
   "execution_count": 63,
   "id": "753bf6a6",
   "metadata": {},
   "outputs": [],
   "source": [
    "from sklearn.linear_model import Ridge"
   ]
  },
  {
   "cell_type": "code",
   "execution_count": 64,
   "id": "89a401e8",
   "metadata": {},
   "outputs": [],
   "source": [
    "r=Ridge()"
   ]
  },
  {
   "cell_type": "code",
   "execution_count": 65,
   "id": "4cf4b9ab",
   "metadata": {},
   "outputs": [
    {
     "data": {
      "text/plain": [
       "Ridge()"
      ]
     },
     "execution_count": 65,
     "metadata": {},
     "output_type": "execute_result"
    }
   ],
   "source": [
    "r.fit(xtrain,ytrain)"
   ]
  },
  {
   "cell_type": "code",
   "execution_count": null,
   "id": "28aa8dc2",
   "metadata": {},
   "outputs": [],
   "source": []
  },
  {
   "cell_type": "code",
   "execution_count": 66,
   "id": "efa64c49",
   "metadata": {},
   "outputs": [],
   "source": [
    "pred=r.predict(xtest)"
   ]
  },
  {
   "cell_type": "code",
   "execution_count": 67,
   "id": "c4ff410d",
   "metadata": {},
   "outputs": [
    {
     "name": "stdout",
     "output_type": "stream",
     "text": [
      "Accuracy is 96.878%\n"
     ]
    }
   ],
   "source": [
    "cost=mean_squared_error(ytest,pred)\n",
    "print(f\"Accuracy is {round(100-cost,3)}%\")"
   ]
  },
  {
   "cell_type": "code",
   "execution_count": null,
   "id": "908ea582",
   "metadata": {},
   "outputs": [],
   "source": []
  },
  {
   "cell_type": "code",
   "execution_count": null,
   "id": "0f3e6ae8",
   "metadata": {},
   "outputs": [],
   "source": []
  },
  {
   "cell_type": "markdown",
   "id": "44b5cfe6",
   "metadata": {},
   "source": [
    "### `d)  ElasticNet()`"
   ]
  },
  {
   "cell_type": "markdown",
   "id": "9d34651c",
   "metadata": {},
   "source": [
    "ElasticNet regression is a linear regression technique that combines the penalties of L1 and L2 regularization, i.e., it includes both the sum of squared regression coefficients and the sum of absolute values of the regression coefficients. The combination of these penalties allows for a flexible balance between the benefits of L1 and L2 regularization.\n",
    "\n",
    "ElasticNet regression is used to address some of the limitations of Lasso and Ridge regression. Specifically, it can handle highly correlated features more effectively than Lasso regression and can select groups of correlated variables together instead of selecting only one of them, which is a limitation of Ridge regression.\n",
    "\n",
    "The balance between L1 and L2 regularization is controlled by two hyperparameters: alpha, which determines the overall strength of the regularization, and the ratio of L1 to L2 regularization. By tuning these hyperparameters, ElasticNet regression can effectively handle high-dimensional datasets with many correlated features while still providing interpretable models that generalize well to new data."
   ]
  },
  {
   "cell_type": "code",
   "execution_count": 68,
   "id": "6896cf05",
   "metadata": {},
   "outputs": [],
   "source": [
    "from sklearn.linear_model import ElasticNet"
   ]
  },
  {
   "cell_type": "code",
   "execution_count": 69,
   "id": "72377e04",
   "metadata": {},
   "outputs": [],
   "source": [
    "e=ElasticNet()"
   ]
  },
  {
   "cell_type": "code",
   "execution_count": 70,
   "id": "b009cd96",
   "metadata": {},
   "outputs": [
    {
     "data": {
      "text/plain": [
       "ElasticNet()"
      ]
     },
     "execution_count": 70,
     "metadata": {},
     "output_type": "execute_result"
    }
   ],
   "source": [
    "e.fit(xtrain,ytrain)"
   ]
  },
  {
   "cell_type": "code",
   "execution_count": null,
   "id": "2edf9d85",
   "metadata": {},
   "outputs": [],
   "source": []
  },
  {
   "cell_type": "code",
   "execution_count": 71,
   "id": "ce6621d0",
   "metadata": {},
   "outputs": [],
   "source": [
    "pred=e.predict(xtest)"
   ]
  },
  {
   "cell_type": "code",
   "execution_count": 72,
   "id": "b9a560ba",
   "metadata": {},
   "outputs": [
    {
     "name": "stdout",
     "output_type": "stream",
     "text": [
      "Accuracy is 96.93%\n"
     ]
    }
   ],
   "source": [
    "cost=mean_squared_error(ytest,pred)\n",
    "print(f\"Accuracy is {round(100-cost,3)}%\")"
   ]
  },
  {
   "cell_type": "code",
   "execution_count": null,
   "id": "2898abe5",
   "metadata": {},
   "outputs": [],
   "source": []
  },
  {
   "cell_type": "code",
   "execution_count": null,
   "id": "157f8b46",
   "metadata": {},
   "outputs": [],
   "source": []
  },
  {
   "cell_type": "markdown",
   "id": "f57b961c",
   "metadata": {},
   "source": [
    "### `e) DecisionTreeRegressor`"
   ]
  },
  {
   "cell_type": "markdown",
   "id": "085b1010",
   "metadata": {},
   "source": [
    "A decision tree regressor is a type of machine learning algorithm used for predictive modeling, where the goal is to build a model that can make accurate predictions for new, unseen data.\n",
    "\n",
    "In a decision tree regressor, the input data is split recursively into smaller subsets based on the values of input features. Each split is chosen to minimize the variance of the output variable within each subset, so that the resulting model can make accurate predictions.\n",
    "\n",
    "The final model is represented as a tree structure, where each internal node represents a decision based on a particular feature, and each leaf node represents a prediction of the output variable. When new data is presented to the model, it is routed down the tree until it reaches a leaf node, which provides the predicted value of the output variable.\n",
    "\n",
    "Decision tree regressors can be useful in a variety of applications, such as predicting sales or housing prices based on input features like location, size, and amenities. They are relatively easy to interpret and can be visualized, making them a popular choice for exploratory data analysis."
   ]
  },
  {
   "cell_type": "code",
   "execution_count": 73,
   "id": "cf07df64",
   "metadata": {},
   "outputs": [],
   "source": [
    "from sklearn.tree import DecisionTreeRegressor"
   ]
  },
  {
   "cell_type": "code",
   "execution_count": 74,
   "id": "7dc67946",
   "metadata": {},
   "outputs": [],
   "source": [
    "regr = DecisionTreeRegressor()"
   ]
  },
  {
   "cell_type": "code",
   "execution_count": 75,
   "id": "c4764d5d",
   "metadata": {},
   "outputs": [
    {
     "data": {
      "text/plain": [
       "DecisionTreeRegressor()"
      ]
     },
     "execution_count": 75,
     "metadata": {},
     "output_type": "execute_result"
    }
   ],
   "source": [
    "regr.fit(xtrain,ytrain)"
   ]
  },
  {
   "cell_type": "code",
   "execution_count": null,
   "id": "8358fa74",
   "metadata": {},
   "outputs": [],
   "source": []
  },
  {
   "cell_type": "code",
   "execution_count": 76,
   "id": "c1cf1867",
   "metadata": {},
   "outputs": [],
   "source": [
    "pred=regr.predict(xtest)"
   ]
  },
  {
   "cell_type": "code",
   "execution_count": 77,
   "id": "503435c8",
   "metadata": {},
   "outputs": [
    {
     "name": "stdout",
     "output_type": "stream",
     "text": [
      "Accuracy is 98.081%\n"
     ]
    }
   ],
   "source": [
    "cost=mean_squared_error(ytest,pred)\n",
    "print(f\"Accuracy is {round(100-cost,3)}%\")"
   ]
  },
  {
   "cell_type": "code",
   "execution_count": null,
   "id": "1a2a0de2",
   "metadata": {},
   "outputs": [],
   "source": []
  },
  {
   "cell_type": "code",
   "execution_count": null,
   "id": "bfad200c",
   "metadata": {},
   "outputs": [],
   "source": []
  },
  {
   "cell_type": "markdown",
   "id": "edff8ac5",
   "metadata": {},
   "source": [
    "### `f) RandomForestRegressor`"
   ]
  },
  {
   "cell_type": "markdown",
   "id": "78a033c2",
   "metadata": {},
   "source": [
    "Random forest regressor is a machine learning algorithm used for regression tasks, where the goal is to predict a continuous output variable. It is an ensemble method that combines multiple decision trees to make more accurate predictions.\n",
    "\n",
    "The algorithm works by building a large number of decision trees, each trained on a random subset of the input data and a random subset of the input features. During training, the algorithm selects a random subset of the data points for each tree and grows the tree by recursively splitting the data into smaller subsets based on the values of the input features. The final prediction is made by averaging the predictions of all the individual trees in the forest.\n",
    "\n",
    "Random forest regressors are useful in a variety of applications, such as predicting stock prices, house prices, or customer churn rates. They are relatively easy to use and can handle large datasets with many input features. Additionally, they can provide estimates of feature importance, which can help in understanding the underlying patterns in the data."
   ]
  },
  {
   "cell_type": "code",
   "execution_count": null,
   "id": "00048287",
   "metadata": {},
   "outputs": [],
   "source": []
  },
  {
   "cell_type": "code",
   "execution_count": 78,
   "id": "27cd897d",
   "metadata": {},
   "outputs": [],
   "source": [
    "from sklearn.ensemble import RandomForestRegressor"
   ]
  },
  {
   "cell_type": "code",
   "execution_count": 79,
   "id": "db842259",
   "metadata": {},
   "outputs": [],
   "source": [
    "regr = RandomForestRegressor()"
   ]
  },
  {
   "cell_type": "code",
   "execution_count": 80,
   "id": "f97e0bfb",
   "metadata": {},
   "outputs": [
    {
     "data": {
      "text/plain": [
       "RandomForestRegressor()"
      ]
     },
     "execution_count": 80,
     "metadata": {},
     "output_type": "execute_result"
    }
   ],
   "source": [
    "regr.fit(xtrain,ytrain)"
   ]
  },
  {
   "cell_type": "code",
   "execution_count": null,
   "id": "da396bf6",
   "metadata": {},
   "outputs": [],
   "source": []
  },
  {
   "cell_type": "code",
   "execution_count": 81,
   "id": "d38a3a23",
   "metadata": {},
   "outputs": [],
   "source": [
    "pred=regr.predict(xtest)"
   ]
  },
  {
   "cell_type": "code",
   "execution_count": 82,
   "id": "465b82dc",
   "metadata": {},
   "outputs": [
    {
     "name": "stdout",
     "output_type": "stream",
     "text": [
      "Accuracy is 99.497%\n"
     ]
    }
   ],
   "source": [
    "cost=mean_squared_error(ytest,pred)\n",
    "print(f\"Accuracy is {round(100-cost,3)}%\")"
   ]
  },
  {
   "cell_type": "code",
   "execution_count": null,
   "id": "1f574899",
   "metadata": {},
   "outputs": [],
   "source": []
  },
  {
   "cell_type": "markdown",
   "id": "3b64d25e",
   "metadata": {},
   "source": [
    "- We can see we got the highest accuracy when we used the RandomForestRegressor"
   ]
  },
  {
   "cell_type": "code",
   "execution_count": null,
   "id": "f5e72faf",
   "metadata": {},
   "outputs": [],
   "source": []
  },
  {
   "cell_type": "code",
   "execution_count": null,
   "id": "58a5760d",
   "metadata": {},
   "outputs": [],
   "source": []
  },
  {
   "cell_type": "markdown",
   "id": "99a417bf",
   "metadata": {},
   "source": [
    "## <font color='green'> Classifiocation Models</font>"
   ]
  },
  {
   "cell_type": "code",
   "execution_count": 83,
   "id": "c7852d41",
   "metadata": {},
   "outputs": [],
   "source": [
    "from sklearn.metrics import accuracy_score"
   ]
  },
  {
   "cell_type": "markdown",
   "id": "05c7172e",
   "metadata": {},
   "source": [
    "Accuracy score is a metric used to evaluate the performance of a classification model. It measures the proportion of correctly classified instances out of all the instances in the dataset. In other words, it tells you how often the model is making the correct prediction. The accuracy score is expressed as a percentage, with a higher score indicating better performance. However, accuracy score can be misleading if the dataset is imbalanced or if the classes have different costs or penalties for misclassification."
   ]
  },
  {
   "cell_type": "code",
   "execution_count": null,
   "id": "b6af1ec4",
   "metadata": {},
   "outputs": [],
   "source": []
  },
  {
   "cell_type": "markdown",
   "id": "35ef4ed8",
   "metadata": {},
   "source": [
    "#### `LET US SEE THE DATASET WHICH WE WILL USE`"
   ]
  },
  {
   "cell_type": "code",
   "execution_count": 84,
   "id": "9673c6a4",
   "metadata": {},
   "outputs": [],
   "source": [
    "import pandas as pd\n",
    "\n",
    "# Load the dataset\n",
    "url = \"https://archive.ics.uci.edu/ml/machine-learning-databases/iris/iris.data\"\n",
    "names = ['sepal-length', 'sepal-width', 'petal-length', 'petal-width', 'class']\n",
    "df = pd.read_csv(url, names=names)"
   ]
  },
  {
   "cell_type": "code",
   "execution_count": 85,
   "id": "c1d5fcf2",
   "metadata": {},
   "outputs": [
    {
     "data": {
      "text/html": [
       "<div>\n",
       "<style scoped>\n",
       "    .dataframe tbody tr th:only-of-type {\n",
       "        vertical-align: middle;\n",
       "    }\n",
       "\n",
       "    .dataframe tbody tr th {\n",
       "        vertical-align: top;\n",
       "    }\n",
       "\n",
       "    .dataframe thead th {\n",
       "        text-align: right;\n",
       "    }\n",
       "</style>\n",
       "<table border=\"1\" class=\"dataframe\">\n",
       "  <thead>\n",
       "    <tr style=\"text-align: right;\">\n",
       "      <th></th>\n",
       "      <th>sepal-length</th>\n",
       "      <th>sepal-width</th>\n",
       "      <th>petal-length</th>\n",
       "      <th>petal-width</th>\n",
       "      <th>class</th>\n",
       "    </tr>\n",
       "  </thead>\n",
       "  <tbody>\n",
       "    <tr>\n",
       "      <th>0</th>\n",
       "      <td>5.1</td>\n",
       "      <td>3.5</td>\n",
       "      <td>1.4</td>\n",
       "      <td>0.2</td>\n",
       "      <td>Iris-setosa</td>\n",
       "    </tr>\n",
       "    <tr>\n",
       "      <th>1</th>\n",
       "      <td>4.9</td>\n",
       "      <td>3.0</td>\n",
       "      <td>1.4</td>\n",
       "      <td>0.2</td>\n",
       "      <td>Iris-setosa</td>\n",
       "    </tr>\n",
       "    <tr>\n",
       "      <th>2</th>\n",
       "      <td>4.7</td>\n",
       "      <td>3.2</td>\n",
       "      <td>1.3</td>\n",
       "      <td>0.2</td>\n",
       "      <td>Iris-setosa</td>\n",
       "    </tr>\n",
       "    <tr>\n",
       "      <th>3</th>\n",
       "      <td>4.6</td>\n",
       "      <td>3.1</td>\n",
       "      <td>1.5</td>\n",
       "      <td>0.2</td>\n",
       "      <td>Iris-setosa</td>\n",
       "    </tr>\n",
       "    <tr>\n",
       "      <th>4</th>\n",
       "      <td>5.0</td>\n",
       "      <td>3.6</td>\n",
       "      <td>1.4</td>\n",
       "      <td>0.2</td>\n",
       "      <td>Iris-setosa</td>\n",
       "    </tr>\n",
       "  </tbody>\n",
       "</table>\n",
       "</div>"
      ],
      "text/plain": [
       "   sepal-length  sepal-width  petal-length  petal-width        class\n",
       "0           5.1          3.5           1.4          0.2  Iris-setosa\n",
       "1           4.9          3.0           1.4          0.2  Iris-setosa\n",
       "2           4.7          3.2           1.3          0.2  Iris-setosa\n",
       "3           4.6          3.1           1.5          0.2  Iris-setosa\n",
       "4           5.0          3.6           1.4          0.2  Iris-setosa"
      ]
     },
     "execution_count": 85,
     "metadata": {},
     "output_type": "execute_result"
    }
   ],
   "source": [
    "df.head()"
   ]
  },
  {
   "cell_type": "code",
   "execution_count": 86,
   "id": "50264c3b",
   "metadata": {},
   "outputs": [
    {
     "data": {
      "text/plain": [
       "array(['Iris-setosa', 'Iris-versicolor', 'Iris-virginica'], dtype=object)"
      ]
     },
     "execution_count": 86,
     "metadata": {},
     "output_type": "execute_result"
    }
   ],
   "source": [
    "df['class'].unique()"
   ]
  },
  {
   "cell_type": "code",
   "execution_count": 87,
   "id": "ad0c8dce",
   "metadata": {},
   "outputs": [],
   "source": [
    "x=df.drop('class',axis=1)"
   ]
  },
  {
   "cell_type": "code",
   "execution_count": 88,
   "id": "26172c06",
   "metadata": {},
   "outputs": [],
   "source": [
    "y=df['class']"
   ]
  },
  {
   "cell_type": "code",
   "execution_count": 89,
   "id": "1f3b40d2",
   "metadata": {},
   "outputs": [],
   "source": [
    "xtrain,xtest,ytrain,ytest=train_test_split(x,y,test_size=.2)"
   ]
  },
  {
   "cell_type": "markdown",
   "id": "b46dbec9",
   "metadata": {},
   "source": [
    "### `a) LogisticRegression`"
   ]
  },
  {
   "cell_type": "markdown",
   "id": "2b86115c",
   "metadata": {},
   "source": [
    "Logistic regression is a statistical method used to predict the probability of a binary outcome (such as yes/no or true/false) based on one or more input variables. It involves fitting a logistic function to the input data in order to estimate the probability of the outcome being in one of two classes.\n",
    "\n",
    "The logistic function is a type of S-shaped curve that maps any input value to a value between 0 and 1, which can be interpreted as the probability of the input belonging to a particular class. The logistic regression algorithm uses optimization techniques to find the best values of the parameters that define the logistic function and maximize the likelihood of the observed data.\n",
    "\n",
    "Logistic regression can be used for both binary classification problems and multi-class classification problems (where there are more than two classes). It is a widely used and interpretable machine learning algorithm that can be applied to a variety of fields, including medical diagnosis, fraud detection, and marketing analysis."
   ]
  },
  {
   "cell_type": "code",
   "execution_count": 90,
   "id": "2977d167",
   "metadata": {},
   "outputs": [],
   "source": [
    "\n",
    "from sklearn.linear_model import LogisticRegression"
   ]
  },
  {
   "cell_type": "code",
   "execution_count": 91,
   "id": "cc1a0271",
   "metadata": {},
   "outputs": [],
   "source": [
    "logr=LogisticRegression()"
   ]
  },
  {
   "cell_type": "code",
   "execution_count": 92,
   "id": "01dea351",
   "metadata": {},
   "outputs": [
    {
     "data": {
      "text/plain": [
       "LogisticRegression()"
      ]
     },
     "execution_count": 92,
     "metadata": {},
     "output_type": "execute_result"
    }
   ],
   "source": [
    "logr.fit(xtrain,ytrain)"
   ]
  },
  {
   "cell_type": "code",
   "execution_count": null,
   "id": "7e826c1c",
   "metadata": {},
   "outputs": [],
   "source": []
  },
  {
   "cell_type": "code",
   "execution_count": 93,
   "id": "2b57e35a",
   "metadata": {},
   "outputs": [],
   "source": [
    "y_pred = logr.predict(xtest)"
   ]
  },
  {
   "cell_type": "code",
   "execution_count": 94,
   "id": "48f7ab68",
   "metadata": {},
   "outputs": [
    {
     "name": "stdout",
     "output_type": "stream",
     "text": [
      "Accuracy: 100.0  %\n"
     ]
    }
   ],
   "source": [
    "accuracy = accuracy_score(ytest, y_pred)\n",
    "print('Accuracy:', round(accuracy*100,3),' %')"
   ]
  },
  {
   "cell_type": "code",
   "execution_count": null,
   "id": "66138a58",
   "metadata": {},
   "outputs": [],
   "source": []
  },
  {
   "cell_type": "code",
   "execution_count": null,
   "id": "3b9733ea",
   "metadata": {},
   "outputs": [],
   "source": []
  },
  {
   "cell_type": "markdown",
   "id": "16718986",
   "metadata": {},
   "source": [
    "### `b) SVC()`"
   ]
  },
  {
   "cell_type": "markdown",
   "id": "28a9210b",
   "metadata": {},
   "source": [
    "SVC, which stands for Support Vector Classifier, is a type of supervised learning algorithm used for classification tasks in machine learning. It works by finding a hyperplane in a high-dimensional space that separates the different classes of data points with the widest margin possible. The hyperplane is determined by maximizing the distance between the hyperplane and the closest data points of each class, which are known as support vectors. Once the hyperplane is established, SVC can predict the class of new data points by checking which side of the hyperplane they fall on. SVC can handle both linearly separable and non-linearly separable data by using different kernels, such as linear, polynomial, and radial basis function (RBF) kernels. The choice of kernel depends on the nature of the data and the problem at hand. SVC is a powerful and widely used classifier in machine learning, particularly in applications such as image classification, text classification, and bioinformatics."
   ]
  },
  {
   "cell_type": "code",
   "execution_count": 95,
   "id": "828eab0b",
   "metadata": {},
   "outputs": [],
   "source": [
    "from sklearn.svm import SVC"
   ]
  },
  {
   "cell_type": "code",
   "execution_count": 96,
   "id": "b6369459",
   "metadata": {},
   "outputs": [],
   "source": [
    "svc = SVC()"
   ]
  },
  {
   "cell_type": "code",
   "execution_count": 97,
   "id": "2b710349",
   "metadata": {},
   "outputs": [
    {
     "data": {
      "text/plain": [
       "SVC()"
      ]
     },
     "execution_count": 97,
     "metadata": {},
     "output_type": "execute_result"
    }
   ],
   "source": [
    "svc.fit(xtrain,ytrain)"
   ]
  },
  {
   "cell_type": "code",
   "execution_count": null,
   "id": "72d80bf5",
   "metadata": {},
   "outputs": [],
   "source": []
  },
  {
   "cell_type": "code",
   "execution_count": 98,
   "id": "46744015",
   "metadata": {},
   "outputs": [],
   "source": [
    "y_pred = svc.predict(xtest)"
   ]
  },
  {
   "cell_type": "code",
   "execution_count": 99,
   "id": "5d68bf64",
   "metadata": {},
   "outputs": [
    {
     "name": "stdout",
     "output_type": "stream",
     "text": [
      "Accuracy: 100.0  %\n"
     ]
    }
   ],
   "source": [
    "accuracy = accuracy_score(ytest, y_pred)\n",
    "print('Accuracy:', round(accuracy*100,3),' %')"
   ]
  },
  {
   "cell_type": "code",
   "execution_count": null,
   "id": "c99ab452",
   "metadata": {},
   "outputs": [],
   "source": []
  },
  {
   "cell_type": "code",
   "execution_count": null,
   "id": "e9387e9c",
   "metadata": {},
   "outputs": [],
   "source": []
  },
  {
   "cell_type": "markdown",
   "id": "c4ea16cd",
   "metadata": {},
   "source": [
    "### `c)  KNeighborsClassifier()`"
   ]
  },
  {
   "cell_type": "markdown",
   "id": "e3efa34d",
   "metadata": {},
   "source": [
    "K-nearest neighbors (KNN) is a type of supervised learning algorithm used for classification and regression tasks in machine learning. It works by finding the k closest data points in the training set to the new data point, based on a distance metric such as Euclidean distance, and then classifying the new data point based on the majority class among its k nearest neighbors. The value of k is a hyperparameter that can be chosen based on the nature of the data and the problem at hand. In the case of regression, KNN works by taking the average of the values of its k nearest neighbors to predict the target value of the new data point. KNN is a simple and effective classifier that can work well with both linearly separable and non-linearly separable data, although it can be sensitive to the choice of distance metric and the value of k."
   ]
  },
  {
   "cell_type": "code",
   "execution_count": 100,
   "id": "6256b88e",
   "metadata": {},
   "outputs": [],
   "source": [
    "from sklearn.neighbors import KNeighborsClassifier"
   ]
  },
  {
   "cell_type": "code",
   "execution_count": 101,
   "id": "622f4650",
   "metadata": {},
   "outputs": [],
   "source": [
    "# Create the k-NN classifier with k=3\n",
    "knn = KNeighborsClassifier(n_neighbors=3)"
   ]
  },
  {
   "cell_type": "code",
   "execution_count": 102,
   "id": "d6490434",
   "metadata": {},
   "outputs": [
    {
     "data": {
      "text/plain": [
       "KNeighborsClassifier(n_neighbors=3)"
      ]
     },
     "execution_count": 102,
     "metadata": {},
     "output_type": "execute_result"
    }
   ],
   "source": [
    "knn.fit(xtrain, ytrain)"
   ]
  },
  {
   "cell_type": "code",
   "execution_count": null,
   "id": "7d689543",
   "metadata": {},
   "outputs": [],
   "source": []
  },
  {
   "cell_type": "code",
   "execution_count": 103,
   "id": "17436574",
   "metadata": {},
   "outputs": [],
   "source": [
    "y_pred = knn.predict(xtest)"
   ]
  },
  {
   "cell_type": "code",
   "execution_count": 104,
   "id": "dc781cbb",
   "metadata": {},
   "outputs": [
    {
     "name": "stdout",
     "output_type": "stream",
     "text": [
      "Accuracy: 100.0  %\n"
     ]
    }
   ],
   "source": [
    "accuracy = accuracy_score(ytest, y_pred)\n",
    "print('Accuracy:', round(accuracy*100,3),' %')"
   ]
  },
  {
   "cell_type": "code",
   "execution_count": null,
   "id": "1d01df74",
   "metadata": {},
   "outputs": [],
   "source": []
  },
  {
   "cell_type": "code",
   "execution_count": null,
   "id": "824b52dc",
   "metadata": {},
   "outputs": [],
   "source": []
  },
  {
   "cell_type": "markdown",
   "id": "275bf091",
   "metadata": {},
   "source": [
    "### `d) DecisionTree Classifier()`"
   ]
  },
  {
   "cell_type": "markdown",
   "id": "bebc5481",
   "metadata": {},
   "source": [
    "Decision tree classification is a machine learning algorithm that works by recursively partitioning the input data into subsets based on the value of a specific feature. The algorithm builds a tree-like model where each node represents a feature and each branch represents a decision based on the value of that feature.\n",
    "\n",
    "At each node, the algorithm chooses the feature that provides the most information gain, meaning the feature that most effectively splits the data into subsets that have different class distributions. The algorithm continues this process until it reaches a stopping criterion, such as reaching a certain depth or having a certain number of data points in each leaf node.\n",
    "\n",
    "Once the decision tree is built, it can be used to classify new data points by traversing the tree from the root to a leaf node, following the path determined by the values of the features for the new data point. The class label associated with the leaf node reached by the new data point is then assigned as the predicted class label.\n",
    "\n",
    "Decision tree classification is simple to understand and interpret, and it can handle both categorical and numerical data. However, it may suffer from overfitting, especially when the tree is deep or when the training data is noisy or imbalanced."
   ]
  },
  {
   "cell_type": "code",
   "execution_count": 105,
   "id": "5815cd96",
   "metadata": {},
   "outputs": [],
   "source": [
    "from sklearn.tree import DecisionTreeClassifier"
   ]
  },
  {
   "cell_type": "code",
   "execution_count": 106,
   "id": "dd7d5130",
   "metadata": {},
   "outputs": [],
   "source": [
    "clf = DecisionTreeClassifier()"
   ]
  },
  {
   "cell_type": "code",
   "execution_count": 107,
   "id": "518c3c5a",
   "metadata": {},
   "outputs": [
    {
     "data": {
      "text/plain": [
       "DecisionTreeClassifier()"
      ]
     },
     "execution_count": 107,
     "metadata": {},
     "output_type": "execute_result"
    }
   ],
   "source": [
    "clf.fit(xtrain, ytrain)"
   ]
  },
  {
   "cell_type": "code",
   "execution_count": null,
   "id": "75689883",
   "metadata": {},
   "outputs": [],
   "source": []
  },
  {
   "cell_type": "code",
   "execution_count": 108,
   "id": "bf5f5050",
   "metadata": {},
   "outputs": [],
   "source": [
    "y_pred = clf.predict(xtest)"
   ]
  },
  {
   "cell_type": "code",
   "execution_count": 109,
   "id": "0854ba25",
   "metadata": {},
   "outputs": [
    {
     "name": "stdout",
     "output_type": "stream",
     "text": [
      "Accuracy: 93.333  %\n"
     ]
    }
   ],
   "source": [
    "accuracy = accuracy_score(ytest, y_pred)\n",
    "print('Accuracy:', round(accuracy*100,3),' %')"
   ]
  },
  {
   "cell_type": "code",
   "execution_count": null,
   "id": "78ea4d45",
   "metadata": {},
   "outputs": [],
   "source": []
  },
  {
   "cell_type": "code",
   "execution_count": null,
   "id": "c18b2a1d",
   "metadata": {},
   "outputs": [],
   "source": []
  },
  {
   "cell_type": "markdown",
   "id": "342799d8",
   "metadata": {},
   "source": [
    "### `f)  RandomForest Classifier`"
   ]
  },
  {
   "cell_type": "markdown",
   "id": "cba9428a",
   "metadata": {},
   "source": [
    "Random Forest Classifier is a popular machine learning algorithm that works by constructing multiple decision trees on randomly sampled subsets of the input data, and then averaging their predictions to improve accuracy and reduce overfitting.\n",
    "\n",
    "To build a Random Forest Classifier, the algorithm selects a random subset of the training data and a random subset of the features at each node of the decision tree. It then grows multiple trees using this process, typically hundreds or thousands of trees. When a new input is presented, it is classified by each of the individual decision trees, and the class with the most votes across all the trees is selected as the final prediction.\n",
    "\n",
    "Random Forest Classifier is a powerful algorithm that can handle both categorical and numerical data, and is resistant to overfitting. It also provides useful information about the importance of the different features in the input data.\n",
    "\n",
    "However, Random Forest Classifier can be computationally expensive and can require tuning of several hyperparameters, such as the number of trees and the number of features to use at each node. Additionally, its predictions can be difficult to interpret compared to decision tree classifiers."
   ]
  },
  {
   "cell_type": "code",
   "execution_count": 110,
   "id": "c459c538",
   "metadata": {},
   "outputs": [],
   "source": [
    "from sklearn.ensemble import RandomForestClassifier"
   ]
  },
  {
   "cell_type": "code",
   "execution_count": 111,
   "id": "95ffb76d",
   "metadata": {},
   "outputs": [],
   "source": [
    "rfc = RandomForestClassifier()"
   ]
  },
  {
   "cell_type": "code",
   "execution_count": 112,
   "id": "54b0fa46",
   "metadata": {},
   "outputs": [
    {
     "data": {
      "text/plain": [
       "RandomForestClassifier()"
      ]
     },
     "execution_count": 112,
     "metadata": {},
     "output_type": "execute_result"
    }
   ],
   "source": [
    "rfc.fit(xtrain, ytrain)"
   ]
  },
  {
   "cell_type": "code",
   "execution_count": null,
   "id": "50561a13",
   "metadata": {},
   "outputs": [],
   "source": []
  },
  {
   "cell_type": "code",
   "execution_count": 113,
   "id": "85eef610",
   "metadata": {},
   "outputs": [],
   "source": [
    "y_pred = rfc.predict(xtest)"
   ]
  },
  {
   "cell_type": "code",
   "execution_count": 114,
   "id": "14fc3525",
   "metadata": {},
   "outputs": [
    {
     "name": "stdout",
     "output_type": "stream",
     "text": [
      "Accuracy: 100.0  %\n"
     ]
    }
   ],
   "source": [
    "accuracy = accuracy_score(ytest, y_pred)\n",
    "print('Accuracy:', round(accuracy*100,3),' %')"
   ]
  },
  {
   "cell_type": "code",
   "execution_count": null,
   "id": "fd5d0f3c",
   "metadata": {},
   "outputs": [],
   "source": []
  },
  {
   "cell_type": "code",
   "execution_count": null,
   "id": "a4c8555b",
   "metadata": {},
   "outputs": [],
   "source": []
  },
  {
   "cell_type": "markdown",
   "id": "ac292d09",
   "metadata": {},
   "source": [
    "## <font color='green'> 5. Clustering Algorithm</font>"
   ]
  },
  {
   "cell_type": "markdown",
   "id": "f4152537",
   "metadata": {},
   "source": [
    "### `a) KMeans()`"
   ]
  },
  {
   "cell_type": "markdown",
   "id": "523a8c8a",
   "metadata": {},
   "source": [
    "K-means is a popular clustering algorithm used to partition a dataset into K clusters of similar data points. The algorithm starts by randomly selecting K points as cluster centers, then iteratively assigns each data point to the nearest cluster center and recomputes the center of each cluster based on the newly assigned data points. This process is repeated until the cluster centers no longer move or a maximum number of iterations is reached. K-means is a relatively simple and efficient algorithm, but it can be sensitive to the initial random choice of cluster centers and may converge to a suboptimal solution."
   ]
  },
  {
   "cell_type": "code",
   "execution_count": 115,
   "id": "87f14294",
   "metadata": {},
   "outputs": [],
   "source": [
    "from sklearn.cluster import KMeans\n",
    "from sklearn.datasets import make_blobs #For getting the datas\n",
    "import matplotlib.pyplot as plt\n",
    "%matplotlib inline"
   ]
  },
  {
   "cell_type": "code",
   "execution_count": 116,
   "id": "645eb9bf",
   "metadata": {},
   "outputs": [],
   "source": [
    "X, y = make_blobs(n_samples=100, centers=3, n_features=2, random_state=42)\n",
    "\n",
    "# Create a KMeans object with 3 clusters\n",
    "kmeans = KMeans(n_clusters=3, random_state=42)\n",
    "\n",
    "# Fit the KMeans model to the data\n",
    "kmeans.fit(X)\n",
    "\n",
    "# Get the cluster labels and centroids\n",
    "labels = kmeans.labels_\n",
    "centroids = kmeans.cluster_centers_"
   ]
  },
  {
   "cell_type": "markdown",
   "id": "05f50208",
   "metadata": {},
   "source": [
    "#### Visualizing the clusters"
   ]
  },
  {
   "cell_type": "code",
   "execution_count": 117,
   "id": "0629afc1",
   "metadata": {},
   "outputs": [
    {
     "data": {
      "image/png": "[encoded data removed]",
      "text/plain": [
       "<Figure size 640x480 with 1 Axes>"
      ]
     },
     "metadata": {},
     "output_type": "display_data"
    }
   ],
   "source": [
    "plt.scatter(X[:, 0], X[:, 1], c=labels)\n",
    "plt.scatter(centroids[:, 0], centroids[:, 1], marker='x', s=200, linewidths=3, color='r')\n",
    "plt.show()\n"
   ]
  },
  {
   "cell_type": "code",
   "execution_count": null,
   "id": "0e3d7833",
   "metadata": {},
   "outputs": [],
   "source": []
  },
  {
   "cell_type": "code",
   "execution_count": null,
   "id": "88119228",
   "metadata": {},
   "outputs": [],
   "source": []
  },
  {
   "cell_type": "markdown",
   "id": "3559b5ba",
   "metadata": {},
   "source": [
    "### `b)  AgglomerativeClustering()`"
   ]
  },
  {
   "cell_type": "markdown",
   "id": "8fa6a0fd",
   "metadata": {},
   "source": [
    "Agglomerative Clustering is a hierarchical clustering algorithm that groups similar data points together based on their distance or similarity.\n",
    "\n",
    "The algorithm starts by treating each data point as a separate cluster, and then iteratively merges the closest pairs of clusters based on a chosen linkage criterion until all data points are in a single cluster.\n",
    "\n",
    "The linkage criterion defines how the distance between clusters is calculated, and there are several options to choose from, such as \"ward\", \"complete\", \"average\", and \"single\" linkage.\n",
    "\n",
    "The output of Agglomerative Clustering is a dendrogram, which is a tree-like diagram that shows the hierarchical relationships between clusters. The dendrogram can be used to determine the optimal number of clusters for a given dataset by identifying the point at which merging clusters leads to the greatest reduction in within-cluster variance.\n",
    "\n",
    "Overall, Agglomerative Clustering is a flexible and widely used algorithm for clustering data points into groups based on their similarity."
   ]
  },
  {
   "cell_type": "code",
   "execution_count": 118,
   "id": "f04eab98",
   "metadata": {},
   "outputs": [],
   "source": [
    "from sklearn.cluster import AgglomerativeClustering"
   ]
  },
  {
   "cell_type": "code",
   "execution_count": 119,
   "id": "a98a9465",
   "metadata": {},
   "outputs": [],
   "source": [
    "X, y = make_blobs(n_samples=50, centers=3, n_features=2, random_state=0)"
   ]
  },
  {
   "cell_type": "code",
   "execution_count": 120,
   "id": "de4c8e70",
   "metadata": {},
   "outputs": [
    {
     "data": {
      "text/plain": [
       "AgglomerativeClustering(n_clusters=3)"
      ]
     },
     "execution_count": 120,
     "metadata": {},
     "output_type": "execute_result"
    }
   ],
   "source": [
    "# Create instance of Agglomerative Clustering with 3 clusters\n",
    "clustering = AgglomerativeClustering(n_clusters=3)\n",
    "\n",
    "# Fit the model to the data\n",
    "clustering.fit(X)"
   ]
  },
  {
   "cell_type": "code",
   "execution_count": 121,
   "id": "08b347ce",
   "metadata": {},
   "outputs": [
    {
     "name": "stdout",
     "output_type": "stream",
     "text": [
      "[2 0 2 2 1 0 1 0 0 1 1 0 2 0 0 2 1 0 2 2 0 0 0 2 1 1 1 0 1 2 0 2 1 0 0 2 0\n",
      " 1 2 1 0 2 1 0 0 2 0 1 2 2]\n"
     ]
    }
   ],
   "source": [
    "# Print the predicted labels for the data points\n",
    "print(clustering.labels_)"
   ]
  },
  {
   "cell_type": "code",
   "execution_count": null,
   "id": "9683e458",
   "metadata": {},
   "outputs": [],
   "source": []
  },
  {
   "cell_type": "code",
   "execution_count": null,
   "id": "ae8b044a",
   "metadata": {},
   "outputs": [],
   "source": []
  },
  {
   "cell_type": "markdown",
   "id": "b487e657",
   "metadata": {},
   "source": [
    "### `c) DBSCAN`"
   ]
  },
  {
   "cell_type": "markdown",
   "id": "68171be7",
   "metadata": {},
   "source": [
    "DBSCAN (Density-Based Spatial Clustering of Applications with Noise) is a clustering algorithm that groups together data points based on their proximity to one another. It is particularly effective at finding clusters of arbitrary shape and identifying noise points.\n",
    "\n",
    "The algorithm works by defining a neighborhood around each data point, and then identifying dense regions of points. Points that are not in a dense region are considered outliers or noise. The main parameters of the algorithm are the minimum number of points required to form a dense region (called min_samples) and the maximum distance between neighboring points (called eps).\n",
    "\n",
    "The algorithm starts by randomly selecting an unvisited data point and determining its neighborhood. If the number of points in the neighborhood is greater than or equal to min_samples, a new cluster is started with that point as the seed. The algorithm then expands the cluster by adding all points in the neighborhood to the cluster, and recursively adding new points to the cluster until no more points can be added. If the neighborhood contains fewer than min_samples points, the point is labeled as noise.\n",
    "\n",
    "The algorithm repeats this process for all unvisited points until all points have been assigned to a cluster or labeled as noise. At the end of the algorithm, each data point will be assigned to a cluster label or labeled as noise.\n",
    "\n",
    "In summary, DBSCAN is a density-based clustering algorithm that identifies dense regions of points and groups them together into clusters, while also identifying outliers and noise points. It is an effective algorithm for finding clusters of arbitrary shape and does not require a priori knowledge of the number of clusters.\n",
    "\n",
    "\n",
    "\n"
   ]
  },
  {
   "cell_type": "code",
   "execution_count": 122,
   "id": "fa69dbc9",
   "metadata": {},
   "outputs": [],
   "source": [
    "from sklearn.cluster import DBSCAN\n",
    "from sklearn.datasets import make_moons"
   ]
  },
  {
   "cell_type": "code",
   "execution_count": 123,
   "id": "22a19556",
   "metadata": {},
   "outputs": [],
   "source": [
    "X, y = make_moons(n_samples=200, noise=0.05, random_state=0)"
   ]
  },
  {
   "cell_type": "code",
   "execution_count": 124,
   "id": "58096fec",
   "metadata": {},
   "outputs": [
    {
     "name": "stdout",
     "output_type": "stream",
     "text": [
      "[0 1 1 0 1 1 0 1 0 1 0 1 1 1 0 0 0 1 0 0 1 1 0 1 0 1 1 1 1 0 0 0 1 1 0 1 1\n",
      " 0 0 1 1 0 0 1 1 0 0 0 1 1 0 1 1 0 1 0 0 1 0 0 1 0 1 0 1 0 0 1 0 0 1 0 1 1\n",
      " 1 0 1 0 0 1 1 0 1 1 1 0 0 0 1 1 0 0 1 0 1 1 1 1 0 1 1 1 0 0 0 1 0 0 1 0 0\n",
      " 0 0 0 0 1 0 1 1 0 0 0 1 0 1 0 0 1 1 1 0 0 0 1 1 1 1 0 1 0 1 1 0 0 0 0 1 1\n",
      " 0 1 1 1 0 0 1 0 1 1 0 0 1 1 0 1 1 1 0 1 1 1 0 0 0 0 1 1 1 0 0 0 1 0 1 1 1\n",
      " 0 0 1 0 0 0 0 0 0 1 0 1 1 0 1]\n"
     ]
    }
   ],
   "source": [
    "# Create instance of DBSCAN with eps=0.3 and min_samples=5\n",
    "dbscan = DBSCAN(eps=0.3, min_samples=5)\n",
    "\n",
    "# Fit the model to the data\n",
    "dbscan.fit(X)\n",
    "\n",
    "# Print the predicted labels for the data points\n",
    "print(dbscan.labels_)"
   ]
  },
  {
   "cell_type": "markdown",
   "id": "e668daf2",
   "metadata": {},
   "source": [
    "#### Visualizing the clusters"
   ]
  },
  {
   "cell_type": "code",
   "execution_count": 125,
   "id": "fbf4f38d",
   "metadata": {},
   "outputs": [
    {
     "data": {
      "image/png": "[encoded data removed]",
      "text/plain": [
       "<Figure size 640x480 with 1 Axes>"
      ]
     },
     "metadata": {},
     "output_type": "display_data"
    }
   ],
   "source": [
    "plt.scatter(X[:, 0], X[:, 1], c=dbscan.labels_)\n",
    "plt.show()"
   ]
  },
  {
   "cell_type": "code",
   "execution_count": null,
   "id": "728eb68d",
   "metadata": {},
   "outputs": [],
   "source": []
  },
  {
   "cell_type": "code",
   "execution_count": null,
   "id": "d0c12a25",
   "metadata": {},
   "outputs": [],
   "source": []
  },
  {
   "cell_type": "markdown",
   "id": "3eab00d1",
   "metadata": {},
   "source": [
    "## <font color='green'> 6. Dimensionality Reduction </font>"
   ]
  },
  {
   "cell_type": "markdown",
   "id": "1cad08cb",
   "metadata": {},
   "source": [
    "Dimension reduction is the process of reducing the number of features or variables in a dataset while retaining as much information as possible. It is commonly used to reduce the complexity of data and to facilitate data visualization and analysis."
   ]
  },
  {
   "cell_type": "markdown",
   "id": "771287ac",
   "metadata": {},
   "source": [
    "The benefits of dimension reduction include:\n",
    "\n",
    "- Simplifying the data and making it easier to work with\n",
    "- Reducing the amount of storage and memory required to store and process the data\n",
    "- Reducing the computational complexity of algorithms used on the data\n",
    "- Helping to avoid overfitting and improve the accuracy of machine learning models\n",
    "- Making it easier to visualize and explore the data, particularly in 2D or 3D plots.\n"
   ]
  },
  {
   "cell_type": "markdown",
   "id": "52abc81b",
   "metadata": {},
   "source": [
    "### `a) PCA()`"
   ]
  },
  {
   "cell_type": "markdown",
   "id": "cda208b8",
   "metadata": {},
   "source": [
    "PCA (Principal Component Analysis) is a commonly used unsupervised machine learning technique for dimensionality reduction. It involves transforming a high-dimensional dataset into a lower-dimensional space while retaining as much information as possible.\n",
    "\n",
    "PCA works by finding the directions of maximum variance in the data and projecting the data onto these directions. The resulting projections, called principal components, form a new set of orthogonal variables that capture the most important information in the data.\n",
    "\n",
    "The steps involved in PCA are as follows:\n",
    "\n",
    "1. Standardize the data: This involves scaling the data so that each feature has zero mean and unit variance.\n",
    "2. Compute the covariance matrix: This matrix captures the relationships between the different features in the data.\n",
    "3. Compute the eigenvectors and eigenvalues of the covariance matrix: The eigenvectors represent the directions of maximum variance in the data, while the eigenvalues represent the amount of variance explained by each eigenvector.\n",
    "4. Choose the number of principal components: This involves selecting the number of eigenvectors to keep, based on how much of the total variance in the data they explain.\n",
    "5. Project the data onto the principal components: This involves computing the dot product of the data with the selected eigenvectors, which yields the new set of principal components.\n",
    "\n",
    "PCA is widely used in various applications such as image compression, face recognition, and gene expression analysis. It can also be used as a preprocessing step before applying supervised machine learning algorithms, as it can improve the performance of these algorithms by reducing the dimensionality of the data and removing irrelevant features."
   ]
  },
  {
   "cell_type": "code",
   "execution_count": 126,
   "id": "fa95667e",
   "metadata": {},
   "outputs": [],
   "source": [
    "from sklearn.datasets import load_iris\n",
    "from sklearn.decomposition import PCA"
   ]
  },
  {
   "cell_type": "code",
   "execution_count": 127,
   "id": "78779195",
   "metadata": {},
   "outputs": [],
   "source": [
    "# Load the iris dataset\n",
    "iris = load_iris()\n",
    "\n",
    "# Standardize the data\n",
    "X = iris.data\n",
    "y = iris.target\n",
    "X_std = (X - X.mean(axis=0)) / X.std(axis=0)"
   ]
  },
  {
   "cell_type": "code",
   "execution_count": 128,
   "id": "0467238e",
   "metadata": {},
   "outputs": [],
   "source": [
    "# Create a PCA object and fit the data\n",
    "pca = PCA(n_components=2)\n",
    "X_pca = pca.fit_transform(X_std)"
   ]
  },
  {
   "cell_type": "code",
   "execution_count": 129,
   "id": "00f3effb",
   "metadata": {},
   "outputs": [
    {
     "name": "stdout",
     "output_type": "stream",
     "text": [
      "Explained variance ratio: [0.72962445 0.22850762]\n"
     ]
    }
   ],
   "source": [
    "\n",
    "# Print the explained variance ratio\n",
    "print(f\"Explained variance ratio: {pca.explained_variance_ratio_}\")"
   ]
  },
  {
   "cell_type": "code",
   "execution_count": null,
   "id": "8c580dfe",
   "metadata": {},
   "outputs": [],
   "source": []
  },
  {
   "cell_type": "markdown",
   "id": "e5bd82bb",
   "metadata": {},
   "source": [
    "#### Visualizaiton"
   ]
  },
  {
   "cell_type": "code",
   "execution_count": 130,
   "id": "de41178e",
   "metadata": {},
   "outputs": [
    {
     "data": {
      "image/png": "[encoded data removed]",
      "text/plain": [
       "<Figure size 640x480 with 1 Axes>"
      ]
     },
     "metadata": {},
     "output_type": "display_data"
    }
   ],
   "source": [
    "# Plot the data in the new 2D space\n",
    "import matplotlib.pyplot as plt\n",
    "plt.scatter(X_pca[:, 0], X_pca[:, 1], c=y)\n",
    "plt.xlabel('PC1')\n",
    "plt.ylabel('PC2')\n",
    "plt.show()"
   ]
  },
  {
   "cell_type": "code",
   "execution_count": null,
   "id": "f3ff84b9",
   "metadata": {},
   "outputs": [],
   "source": []
  },
  {
   "cell_type": "code",
   "execution_count": null,
   "id": "e2d73ff6",
   "metadata": {},
   "outputs": [],
   "source": []
  },
  {
   "cell_type": "markdown",
   "id": "3dd1ef51",
   "metadata": {},
   "source": [
    "### `b) TSNE`"
   ]
  },
  {
   "cell_type": "markdown",
   "id": "86012c7a",
   "metadata": {},
   "source": [
    "t-SNE (t-Distributed Stochastic Neighbor Embedding) is a machine learning algorithm used for dimensionality reduction, which is particularly useful for visualizing high-dimensional data in a lower-dimensional space. It works by modeling each high-dimensional data point as a probability distribution and then seeks to find a low-dimensional representation of the data that preserves the pairwise similarities between data points. The resulting visualization can help identify patterns and clusters in the data that may be difficult to discern in the original high-dimensional space."
   ]
  },
  {
   "cell_type": "code",
   "execution_count": 131,
   "id": "c97eb530",
   "metadata": {},
   "outputs": [],
   "source": [
    "import matplotlib.pyplot as plt\n",
    "from sklearn.datasets import load_iris\n",
    "from sklearn.manifold import TSNE\n",
    "\n",
    "# Load the iris dataset\n",
    "iris = load_iris()"
   ]
  },
  {
   "cell_type": "code",
   "execution_count": 132,
   "id": "1f95ee75",
   "metadata": {},
   "outputs": [
    {
     "data": {
      "text/plain": [
       "{'data': array([[5.1, 3.5, 1.4, 0.2],\n",
       "        [4.9, 3. , 1.4, 0.2],\n",
       "        [4.7, 3.2, 1.3, 0.2],\n",
       "        [4.6, 3.1, 1.5, 0.2],\n",
       "        [5. , 3.6, 1.4, 0.2],\n",
       "        [5.4, 3.9, 1.7, 0.4],\n",
       "        [4.6, 3.4, 1.4, 0.3],\n",
       "        [5. , 3.4, 1.5, 0.2],\n",
       "        [4.4, 2.9, 1.4, 0.2],\n",
       "        [4.9, 3.1, 1.5, 0.1],\n",
       "        [5.4, 3.7, 1.5, 0.2],\n",
       "        [4.8, 3.4, 1.6, 0.2],\n",
       "        [4.8, 3. , 1.4, 0.1],\n",
       "        [4.3, 3. , 1.1, 0.1],\n",
       "        [5.8, 4. , 1.2, 0.2],\n",
       "        [5.7, 4.4, 1.5, 0.4],\n",
       "        [5.4, 3.9, 1.3, 0.4],\n",
       "        [5.1, 3.5, 1.4, 0.3],\n",
       "        [5.7, 3.8, 1.7, 0.3],\n",
       "        [5.1, 3.8, 1.5, 0.3],\n",
       "        [5.4, 3.4, 1.7, 0.2],\n",
       "        [5.1, 3.7, 1.5, 0.4],\n",
       "        [4.6, 3.6, 1. , 0.2],\n",
       "        [5.1, 3.3, 1.7, 0.5],\n",
       "        [4.8, 3.4, 1.9, 0.2],\n",
       "        [5. , 3. , 1.6, 0.2],\n",
       "        [5. , 3.4, 1.6, 0.4],\n",
       "        [5.2, 3.5, 1.5, 0.2],\n",
       "        [5.2, 3.4, 1.4, 0.2],\n",
       "        [4.7, 3.2, 1.6, 0.2],\n",
       "        [4.8, 3.1, 1.6, 0.2],\n",
       "        [5.4, 3.4, 1.5, 0.4],\n",
       "        [5.2, 4.1, 1.5, 0.1],\n",
       "        [5.5, 4.2, 1.4, 0.2],\n",
       "        [4.9, 3.1, 1.5, 0.2],\n",
       "        [5. , 3.2, 1.2, 0.2],\n",
       "        [5.5, 3.5, 1.3, 0.2],\n",
       "        [4.9, 3.6, 1.4, 0.1],\n",
       "        [4.4, 3. , 1.3, 0.2],\n",
       "        [5.1, 3.4, 1.5, 0.2],\n",
       "        [5. , 3.5, 1.3, 0.3],\n",
       "        [4.5, 2.3, 1.3, 0.3],\n",
       "        [4.4, 3.2, 1.3, 0.2],\n",
       "        [5. , 3.5, 1.6, 0.6],\n",
       "        [5.1, 3.8, 1.9, 0.4],\n",
       "        [4.8, 3. , 1.4, 0.3],\n",
       "        [5.1, 3.8, 1.6, 0.2],\n",
       "        [4.6, 3.2, 1.4, 0.2],\n",
       "        [5.3, 3.7, 1.5, 0.2],\n",
       "        [5. , 3.3, 1.4, 0.2],\n",
       "        [7. , 3.2, 4.7, 1.4],\n",
       "        [6.4, 3.2, 4.5, 1.5],\n",
       "        [6.9, 3.1, 4.9, 1.5],\n",
       "        [5.5, 2.3, 4. , 1.3],\n",
       "        [6.5, 2.8, 4.6, 1.5],\n",
       "        [5.7, 2.8, 4.5, 1.3],\n",
       "        [6.3, 3.3, 4.7, 1.6],\n",
       "        [4.9, 2.4, 3.3, 1. ],\n",
       "        [6.6, 2.9, 4.6, 1.3],\n",
       "        [5.2, 2.7, 3.9, 1.4],\n",
       "        [5. , 2. , 3.5, 1. ],\n",
       "        [5.9, 3. , 4.2, 1.5],\n",
       "        [6. , 2.2, 4. , 1. ],\n",
       "        [6.1, 2.9, 4.7, 1.4],\n",
       "        [5.6, 2.9, 3.6, 1.3],\n",
       "        [6.7, 3.1, 4.4, 1.4],\n",
       "        [5.6, 3. , 4.5, 1.5],\n",
       "        [5.8, 2.7, 4.1, 1. ],\n",
       "        [6.2, 2.2, 4.5, 1.5],\n",
       "        [5.6, 2.5, 3.9, 1.1],\n",
       "        [5.9, 3.2, 4.8, 1.8],\n",
       "        [6.1, 2.8, 4. , 1.3],\n",
       "        [6.3, 2.5, 4.9, 1.5],\n",
       "        [6.1, 2.8, 4.7, 1.2],\n",
       "        [6.4, 2.9, 4.3, 1.3],\n",
       "        [6.6, 3. , 4.4, 1.4],\n",
       "        [6.8, 2.8, 4.8, 1.4],\n",
       "        [6.7, 3. , 5. , 1.7],\n",
       "        [6. , 2.9, 4.5, 1.5],\n",
       "        [5.7, 2.6, 3.5, 1. ],\n",
       "        [5.5, 2.4, 3.8, 1.1],\n",
       "        [5.5, 2.4, 3.7, 1. ],\n",
       "        [5.8, 2.7, 3.9, 1.2],\n",
       "        [6. , 2.7, 5.1, 1.6],\n",
       "        [5.4, 3. , 4.5, 1.5],\n",
       "        [6. , 3.4, 4.5, 1.6],\n",
       "        [6.7, 3.1, 4.7, 1.5],\n",
       "        [6.3, 2.3, 4.4, 1.3],\n",
       "        [5.6, 3. , 4.1, 1.3],\n",
       "        [5.5, 2.5, 4. , 1.3],\n",
       "        [5.5, 2.6, 4.4, 1.2],\n",
       "        [6.1, 3. , 4.6, 1.4],\n",
       "        [5.8, 2.6, 4. , 1.2],\n",
       "        [5. , 2.3, 3.3, 1. ],\n",
       "        [5.6, 2.7, 4.2, 1.3],\n",
       "        [5.7, 3. , 4.2, 1.2],\n",
       "        [5.7, 2.9, 4.2, 1.3],\n",
       "        [6.2, 2.9, 4.3, 1.3],\n",
       "        [5.1, 2.5, 3. , 1.1],\n",
       "        [5.7, 2.8, 4.1, 1.3],\n",
       "        [6.3, 3.3, 6. , 2.5],\n",
       "        [5.8, 2.7, 5.1, 1.9],\n",
       "        [7.1, 3. , 5.9, 2.1],\n",
       "        [6.3, 2.9, 5.6, 1.8],\n",
       "        [6.5, 3. , 5.8, 2.2],\n",
       "        [7.6, 3. , 6.6, 2.1],\n",
       "        [4.9, 2.5, 4.5, 1.7],\n",
       "        [7.3, 2.9, 6.3, 1.8],\n",
       "        [6.7, 2.5, 5.8, 1.8],\n",
       "        [7.2, 3.6, 6.1, 2.5],\n",
       "        [6.5, 3.2, 5.1, 2. ],\n",
       "        [6.4, 2.7, 5.3, 1.9],\n",
       "        [6.8, 3. , 5.5, 2.1],\n",
       "        [5.7, 2.5, 5. , 2. ],\n",
       "        [5.8, 2.8, 5.1, 2.4],\n",
       "        [6.4, 3.2, 5.3, 2.3],\n",
       "        [6.5, 3. , 5.5, 1.8],\n",
       "        [7.7, 3.8, 6.7, 2.2],\n",
       "        [7.7, 2.6, 6.9, 2.3],\n",
       "        [6. , 2.2, 5. , 1.5],\n",
       "        [6.9, 3.2, 5.7, 2.3],\n",
       "        [5.6, 2.8, 4.9, 2. ],\n",
       "        [7.7, 2.8, 6.7, 2. ],\n",
       "        [6.3, 2.7, 4.9, 1.8],\n",
       "        [6.7, 3.3, 5.7, 2.1],\n",
       "        [7.2, 3.2, 6. , 1.8],\n",
       "        [6.2, 2.8, 4.8, 1.8],\n",
       "        [6.1, 3. , 4.9, 1.8],\n",
       "        [6.4, 2.8, 5.6, 2.1],\n",
       "        [7.2, 3. , 5.8, 1.6],\n",
       "        [7.4, 2.8, 6.1, 1.9],\n",
       "        [7.9, 3.8, 6.4, 2. ],\n",
       "        [6.4, 2.8, 5.6, 2.2],\n",
       "        [6.3, 2.8, 5.1, 1.5],\n",
       "        [6.1, 2.6, 5.6, 1.4],\n",
       "        [7.7, 3. , 6.1, 2.3],\n",
       "        [6.3, 3.4, 5.6, 2.4],\n",
       "        [6.4, 3.1, 5.5, 1.8],\n",
       "        [6. , 3. , 4.8, 1.8],\n",
       "        [6.9, 3.1, 5.4, 2.1],\n",
       "        [6.7, 3.1, 5.6, 2.4],\n",
       "        [6.9, 3.1, 5.1, 2.3],\n",
       "        [5.8, 2.7, 5.1, 1.9],\n",
       "        [6.8, 3.2, 5.9, 2.3],\n",
       "        [6.7, 3.3, 5.7, 2.5],\n",
       "        [6.7, 3. , 5.2, 2.3],\n",
       "        [6.3, 2.5, 5. , 1.9],\n",
       "        [6.5, 3. , 5.2, 2. ],\n",
       "        [6.2, 3.4, 5.4, 2.3],\n",
       "        [5.9, 3. , 5.1, 1.8]]),\n",
       " 'target': array([0, 0, 0, 0, 0, 0, 0, 0, 0, 0, 0, 0, 0, 0, 0, 0, 0, 0, 0, 0, 0, 0,\n",
       "        0, 0, 0, 0, 0, 0, 0, 0, 0, 0, 0, 0, 0, 0, 0, 0, 0, 0, 0, 0, 0, 0,\n",
       "        0, 0, 0, 0, 0, 0, 1, 1, 1, 1, 1, 1, 1, 1, 1, 1, 1, 1, 1, 1, 1, 1,\n",
       "        1, 1, 1, 1, 1, 1, 1, 1, 1, 1, 1, 1, 1, 1, 1, 1, 1, 1, 1, 1, 1, 1,\n",
       "        1, 1, 1, 1, 1, 1, 1, 1, 1, 1, 1, 1, 2, 2, 2, 2, 2, 2, 2, 2, 2, 2,\n",
       "        2, 2, 2, 2, 2, 2, 2, 2, 2, 2, 2, 2, 2, 2, 2, 2, 2, 2, 2, 2, 2, 2,\n",
       "        2, 2, 2, 2, 2, 2, 2, 2, 2, 2, 2, 2, 2, 2, 2, 2, 2, 2]),\n",
       " 'frame': None,\n",
       " 'target_names': array(['setosa', 'versicolor', 'virginica'], dtype='<U10'),\n",
       " 'DESCR': '.. _iris_dataset:\\n\\nIris plants dataset\\n--------------------\\n\\n**Data Set Characteristics:**\\n\\n    :Number of Instances: 150 (50 in each of three classes)\\n    :Number of Attributes: 4 numeric, predictive attributes and the class\\n    :Attribute Information:\\n        - sepal length in cm\\n        - sepal width in cm\\n        - petal length in cm\\n        - petal width in cm\\n        - class:\\n                - Iris-Setosa\\n                - Iris-Versicolour\\n                - Iris-Virginica\\n                \\n    :Summary Statistics:\\n\\n    ============== ==== ==== ======= ===== ====================\\n                    Min  Max   Mean    SD   Class Correlation\\n    ============== ==== ==== ======= ===== ====================\\n    sepal length:   4.3  7.9   5.84   0.83    0.7826\\n    sepal width:    2.0  4.4   3.05   0.43   -0.4194\\n    petal length:   1.0  6.9   3.76   1.76    0.9490  (high!)\\n    petal width:    0.1  2.5   1.20   0.76    0.9565  (high!)\\n    ============== ==== ==== ======= ===== ====================\\n\\n    :Missing Attribute Values: None\\n    :Class Distribution: 33.3% for each of 3 classes.\\n    :Creator: R.A. Fisher\\n    :Donor: Michael Marshall (MARSHALL%PLU@io.arc.nasa.gov)\\n    :Date: July, 1988\\n\\nThe famous Iris database, first used by Sir R.A. Fisher. The dataset is taken\\nfrom Fisher\\'s paper. Note that it\\'s the same as in R, but not as in the UCI\\nMachine Learning Repository, which has two wrong data points.\\n\\nThis is perhaps the best known database to be found in the\\npattern recognition literature.  Fisher\\'s paper is a classic in the field and\\nis referenced frequently to this day.  (See Duda & Hart, for example.)  The\\ndata set contains 3 classes of 50 instances each, where each class refers to a\\ntype of iris plant.  One class is linearly separable from the other 2; the\\nlatter are NOT linearly separable from each other.\\n\\n.. topic:: References\\n\\n   - Fisher, R.A. \"The use of multiple measurements in taxonomic problems\"\\n     Annual Eugenics, 7, Part II, 179-188 (1936); also in \"Contributions to\\n     Mathematical Statistics\" (John Wiley, NY, 1950).\\n   - Duda, R.O., & Hart, P.E. (1973) Pattern Classification and Scene Analysis.\\n     (Q327.D83) John Wiley & Sons.  ISBN 0-471-22361-1.  See page 218.\\n   - Dasarathy, B.V. (1980) \"Nosing Around the Neighborhood: A New System\\n     Structure and Classification Rule for Recognition in Partially Exposed\\n     Environments\".  IEEE Transactions on Pattern Analysis and Machine\\n     Intelligence, Vol. PAMI-2, No. 1, 67-71.\\n   - Gates, G.W. (1972) \"The Reduced Nearest Neighbor Rule\".  IEEE Transactions\\n     on Information Theory, May 1972, 431-433.\\n   - See also: 1988 MLC Proceedings, 54-64.  Cheeseman et al\"s AUTOCLASS II\\n     conceptual clustering system finds 3 classes in the data.\\n   - Many, many more ...',\n",
       " 'feature_names': ['sepal length (cm)',\n",
       "  'sepal width (cm)',\n",
       "  'petal length (cm)',\n",
       "  'petal width (cm)'],\n",
       " 'filename': 'iris.csv',\n",
       " 'data_module': 'sklearn.datasets.data'}"
      ]
     },
     "execution_count": 132,
     "metadata": {},
     "output_type": "execute_result"
    }
   ],
   "source": [
    "iris"
   ]
  },
  {
   "cell_type": "code",
   "execution_count": 133,
   "id": "0ee689fd",
   "metadata": {},
   "outputs": [],
   "source": [
    "# Create a t-SNE object with two components\n",
    "tsne = TSNE(n_components=2)\n",
    "\n",
    "# Fit and transform the data using t-SNE\n",
    "iris_embedded = tsne.fit_transform(iris.data)"
   ]
  },
  {
   "cell_type": "code",
   "execution_count": 134,
   "id": "6ce212a5",
   "metadata": {},
   "outputs": [
    {
     "data": {
      "image/png": "[encoded data removed]",
      "text/plain": [
       "<Figure size 640x480 with 2 Axes>"
      ]
     },
     "metadata": {},
     "output_type": "display_data"
    }
   ],
   "source": [
    "# Plot the t-SNE embedding\n",
    "plt.scatter(iris_embedded[:,0], iris_embedded[:,1], c=iris.target)\n",
    "plt.colorbar()\n",
    "plt.show()"
   ]
  },
  {
   "cell_type": "code",
   "execution_count": null,
   "id": "786c6972",
   "metadata": {},
   "outputs": [],
   "source": []
  },
  {
   "cell_type": "code",
   "execution_count": null,
   "id": "0d11d5d9",
   "metadata": {},
   "outputs": [],
   "source": []
  }
 ],
 "metadata": {
  "kernelspec": {
   "display_name": "Python 3 (ipykernel)",
   "language": "python",
   "name": "python3"
  },
  "language_info": {
   "codemirror_mode": {
    "name": "ipython",
    "version": 3
   },
   "file_extension": ".py",
   "mimetype": "text/x-python",
   "name": "python",
   "nbconvert_exporter": "python",
   "pygments_lexer": "ipython3",
   "version": "3.9.13"
  }
 },
 "nbformat": 4,
 "nbformat_minor": 5
}
