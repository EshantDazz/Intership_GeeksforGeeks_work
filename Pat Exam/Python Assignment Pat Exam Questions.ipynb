{
 "cells": [
  {
   "cell_type": "markdown",
   "id": "4b66e0a1",
   "metadata": {},
   "source": [
    "# <center><font color='green'> Geeks for Geeks </font>"
   ]
  },
  {
   "cell_type": "markdown",
   "id": "308cc019",
   "metadata": {},
   "source": [
    "### Pat Exam Questions"
   ]
  },
  {
   "cell_type": "code",
   "execution_count": 2,
   "id": "3d840c9f",
   "metadata": {},
   "outputs": [],
   "source": [
    "import pandas as pd\n",
    "df=pd.read_csv('https://raw.githubusercontent.com/EshantDazz/Intership_GeeksforGeeks_work/main/Pat%20Exam/soccer.csv')"
   ]
  },
  {
   "cell_type": "code",
   "execution_count": null,
   "id": "79eb46aa",
   "metadata": {},
   "outputs": [],
   "source": []
  },
  {
   "cell_type": "code",
   "execution_count": null,
   "id": "ad5a134e",
   "metadata": {},
   "outputs": [],
   "source": []
  },
  {
   "cell_type": "markdown",
   "id": "aac2374d",
   "metadata": {},
   "source": [
    "### `Q1. What is the total number of goals scored in the entire dataset?`"
   ]
  },
  {
   "cell_type": "code",
   "execution_count": null,
   "id": "704729b7",
   "metadata": {},
   "outputs": [],
   "source": []
  },
  {
   "cell_type": "code",
   "execution_count": null,
   "id": "2d876cef",
   "metadata": {},
   "outputs": [],
   "source": []
  },
  {
   "cell_type": "markdown",
   "id": "7ee8b3a9",
   "metadata": {},
   "source": [
    "### `Q2. What is the average number of shots that has been taken in the entire dataset?`"
   ]
  },
  {
   "cell_type": "code",
   "execution_count": null,
   "id": "acf4a315",
   "metadata": {},
   "outputs": [],
   "source": []
  },
  {
   "cell_type": "code",
   "execution_count": null,
   "id": "40ee337f",
   "metadata": {},
   "outputs": [],
   "source": []
  },
  {
   "cell_type": "markdown",
   "id": "92b6610d",
   "metadata": {},
   "source": [
    "### `Q3. What are the unique years present in our dataset?`"
   ]
  },
  {
   "cell_type": "code",
   "execution_count": null,
   "id": "85f400aa",
   "metadata": {},
   "outputs": [],
   "source": []
  },
  {
   "cell_type": "code",
   "execution_count": null,
   "id": "04e63b7b",
   "metadata": {},
   "outputs": [],
   "source": []
  },
  {
   "cell_type": "markdown",
   "id": "d3a4c194",
   "metadata": {},
   "source": [
    "### `Q4. Use Countplot to print the number of data availables present for every League`(Use `League `Column)"
   ]
  },
  {
   "cell_type": "code",
   "execution_count": null,
   "id": "0b3215b2",
   "metadata": {},
   "outputs": [],
   "source": []
  },
  {
   "cell_type": "code",
   "execution_count": null,
   "id": "45384b41",
   "metadata": {},
   "outputs": [],
   "source": []
  },
  {
   "cell_type": "markdown",
   "id": "82e4403e",
   "metadata": {},
   "source": [
    "### `Q5.  Display a Heatmap  to show the correlation between the columns in the dataset. The heatmap should have the value of the correlation printed within the boxes.`"
   ]
  },
  {
   "cell_type": "code",
   "execution_count": null,
   "id": "eb6e0719",
   "metadata": {},
   "outputs": [],
   "source": []
  },
  {
   "cell_type": "code",
   "execution_count": null,
   "id": "f31928a6",
   "metadata": {},
   "outputs": [],
   "source": []
  },
  {
   "cell_type": "markdown",
   "id": "2528ca3f",
   "metadata": {},
   "source": [
    "### `Q6. Using Pie Chart show the amount of data various Countries are containing in this dataset(use the Country Columns)`\n",
    "### `Display the percentage of data as well in the pie chart`"
   ]
  },
  {
   "cell_type": "code",
   "execution_count": null,
   "id": "41423bf6",
   "metadata": {},
   "outputs": [],
   "source": []
  },
  {
   "cell_type": "code",
   "execution_count": null,
   "id": "105735ac",
   "metadata": {},
   "outputs": [],
   "source": []
  },
  {
   "cell_type": "markdown",
   "id": "b09eb33a",
   "metadata": {},
   "source": [
    "### `Q7. Which top 5 players have scored the maximum number of goals throughout all the years?`\n",
    "### Display them in descending order"
   ]
  },
  {
   "cell_type": "code",
   "execution_count": null,
   "id": "b52d6dfd",
   "metadata": {},
   "outputs": [],
   "source": []
  },
  {
   "cell_type": "code",
   "execution_count": null,
   "id": "c4911bad",
   "metadata": {},
   "outputs": [],
   "source": []
  },
  {
   "cell_type": "markdown",
   "id": "3f649666",
   "metadata": {},
   "source": [
    "### `Q8. Using Bar Plot show Cristiano Ronaldo has scored most number of goals in which year?`"
   ]
  },
  {
   "cell_type": "code",
   "execution_count": null,
   "id": "2e8309ff",
   "metadata": {},
   "outputs": [],
   "source": []
  },
  {
   "cell_type": "code",
   "execution_count": null,
   "id": "b2a3cd93",
   "metadata": {},
   "outputs": [],
   "source": []
  },
  {
   "cell_type": "markdown",
   "id": "5b91dfbf",
   "metadata": {},
   "source": [
    "### `Q9. In the year 2019 who has more Goals between Ronaldo and Messi` ? \n",
    "- First print them normally \n",
    "- Display the comparison using a bar plot"
   ]
  },
  {
   "cell_type": "code",
   "execution_count": null,
   "id": "293f67a0",
   "metadata": {},
   "outputs": [],
   "source": []
  },
  {
   "cell_type": "code",
   "execution_count": null,
   "id": "bc815522",
   "metadata": {},
   "outputs": [],
   "source": []
  },
  {
   "cell_type": "markdown",
   "id": "00ee63f4",
   "metadata": {},
   "source": [
    "### `Q10.  Which Country has the maximum median OnTarget Shots among all the Countries in the year 2020?`"
   ]
  },
  {
   "cell_type": "code",
   "execution_count": null,
   "id": "67126833",
   "metadata": {},
   "outputs": [],
   "source": []
  },
  {
   "cell_type": "code",
   "execution_count": null,
   "id": "87a2b1de",
   "metadata": {},
   "outputs": [],
   "source": []
  },
  {
   "cell_type": "markdown",
   "id": "87cafe1f",
   "metadata": {},
   "source": [
    "### `Q11. Display a Violin Plot between the countries  present in the dataset and goals scored by each individual Country. Hence write down 3 inferences on them.`"
   ]
  },
  {
   "cell_type": "code",
   "execution_count": null,
   "id": "97f93de6",
   "metadata": {},
   "outputs": [],
   "source": []
  },
  {
   "cell_type": "code",
   "execution_count": null,
   "id": "1be9fe53",
   "metadata": {},
   "outputs": [],
   "source": []
  },
  {
   "cell_type": "markdown",
   "id": "b4a0cbed",
   "metadata": {},
   "source": [
    "### `Q12. Who has the best average  Goals per minute throughout all the years`?"
   ]
  },
  {
   "cell_type": "code",
   "execution_count": null,
   "id": "ebb81098",
   "metadata": {},
   "outputs": [],
   "source": []
  },
  {
   "cell_type": "code",
   "execution_count": null,
   "id": "a2ff2e4e",
   "metadata": {},
   "outputs": [],
   "source": []
  },
  {
   "cell_type": "markdown",
   "id": "b64bae42",
   "metadata": {},
   "source": [
    "### `Q13.  Plot a barplot to show the which country players  have played more than 35 matches`"
   ]
  },
  {
   "cell_type": "code",
   "execution_count": null,
   "id": "4993f841",
   "metadata": {},
   "outputs": [],
   "source": []
  },
  {
   "cell_type": "code",
   "execution_count": null,
   "id": "502a8bc7",
   "metadata": {},
   "outputs": [],
   "source": []
  },
  {
   "cell_type": "markdown",
   "id": "ea096a44",
   "metadata": {},
   "source": [
    "### `Q14. Draw a Line Chart to show the comparison of the top 5 highest scoring players in the dataset throughout the years(2016-2020)`"
   ]
  },
  {
   "cell_type": "code",
   "execution_count": null,
   "id": "4668a845",
   "metadata": {},
   "outputs": [],
   "source": []
  },
  {
   "cell_type": "code",
   "execution_count": null,
   "id": "9edf036c",
   "metadata": {},
   "outputs": [],
   "source": []
  },
  {
   "cell_type": "markdown",
   "id": "3aaa6edc",
   "metadata": {},
   "source": [
    "### `Q15. Which Player has the least and most number of missed shots in the dataset`?\n",
    "Missed Shots = Shots - On Target"
   ]
  },
  {
   "cell_type": "code",
   "execution_count": null,
   "id": "afd0bd18",
   "metadata": {},
   "outputs": [],
   "source": []
  },
  {
   "cell_type": "code",
   "execution_count": null,
   "id": "0673dc7a",
   "metadata": {},
   "outputs": [],
   "source": []
  },
  {
   "cell_type": "markdown",
   "id": "b805f9ee",
   "metadata": {},
   "source": [
    "### `Q16. How many person we have in the dataset whose name starts with H`?"
   ]
  },
  {
   "cell_type": "code",
   "execution_count": null,
   "id": "6f1a0399",
   "metadata": {},
   "outputs": [],
   "source": []
  },
  {
   "cell_type": "markdown",
   "id": "7d876b49",
   "metadata": {},
   "source": [
    "<center>All the best!</center>"
   ]
  }
 ],
 "metadata": {
  "kernelspec": {
   "display_name": "Python 3 (ipykernel)",
   "language": "python",
   "name": "python3"
  },
  "language_info": {
   "codemirror_mode": {
    "name": "ipython",
    "version": 3
   },
   "file_extension": ".py",
   "mimetype": "text/x-python",
   "name": "python",
   "nbconvert_exporter": "python",
   "pygments_lexer": "ipython3",
   "version": "3.9.13"
  }
 },
 "nbformat": 4,
 "nbformat_minor": 5
}
